{
 "cells": [
  {
   "cell_type": "code",
   "execution_count": 125,
   "id": "d6c046f2",
   "metadata": {},
   "outputs": [],
   "source": [
    "# Importing required libraries\n",
    "\n",
    "# this is library for importing and manipulating data\n",
    "import pandas as pd\n",
    "# natural language toolkit is a library used for developing python programs that work with human language data\n",
    "import nltk\n",
    "# stopwords is a bank of words that are usually contained of punctuations and words \n",
    "# that carries no variation therefore they are automatically omitted during analysis\n",
    "from nltk.corpus import stopwords\n",
    "import string\n",
    "# a powerful library for visualizing data points\n",
    "import seaborn as sns"
   ]
  },
  {
   "cell_type": "markdown",
   "id": "096e8b31",
   "metadata": {},
   "source": [
    "## Data Exploration"
   ]
  },
  {
   "cell_type": "code",
   "execution_count": 126,
   "id": "8bbe02ab",
   "metadata": {},
   "outputs": [
    {
     "data": {
      "text/html": [
       "<div>\n",
       "<style scoped>\n",
       "    .dataframe tbody tr th:only-of-type {\n",
       "        vertical-align: middle;\n",
       "    }\n",
       "\n",
       "    .dataframe tbody tr th {\n",
       "        vertical-align: top;\n",
       "    }\n",
       "\n",
       "    .dataframe thead th {\n",
       "        text-align: right;\n",
       "    }\n",
       "</style>\n",
       "<table border=\"1\" class=\"dataframe\">\n",
       "  <thead>\n",
       "    <tr style=\"text-align: right;\">\n",
       "      <th></th>\n",
       "      <th>label</th>\n",
       "      <th>tweet</th>\n",
       "    </tr>\n",
       "  </thead>\n",
       "  <tbody>\n",
       "    <tr>\n",
       "      <th>0</th>\n",
       "      <td>0</td>\n",
       "      <td>@user next chapter in life stas soon, looking...</td>\n",
       "    </tr>\n",
       "    <tr>\n",
       "      <th>1</th>\n",
       "      <td>0</td>\n",
       "      <td>just booked our trip to europeðð»âï¸ @...</td>\n",
       "    </tr>\n",
       "    <tr>\n",
       "      <th>2</th>\n",
       "      <td>0</td>\n",
       "      <td>i am thankful for oxygen. #thankful #positive ...</td>\n",
       "    </tr>\n",
       "    <tr>\n",
       "      <th>3</th>\n",
       "      <td>1</td>\n",
       "      <td>the latest the volatile daily!  thanks to @use...</td>\n",
       "    </tr>\n",
       "    <tr>\n",
       "      <th>4</th>\n",
       "      <td>0</td>\n",
       "      <td>someone explain why @user  is being so moody</td>\n",
       "    </tr>\n",
       "  </tbody>\n",
       "</table>\n",
       "</div>"
      ],
      "text/plain": [
       "   label                                              tweet\n",
       "0      0   @user next chapter in life stas soon, looking...\n",
       "1      0  just booked our trip to europeðð»âï¸ @...\n",
       "2      0  i am thankful for oxygen. #thankful #positive ...\n",
       "3      1  the latest the volatile daily!  thanks to @use...\n",
       "4      0     someone explain why @user  is being so moody  "
      ]
     },
     "execution_count": 126,
     "metadata": {},
     "output_type": "execute_result"
    }
   ],
   "source": [
    "# Read in the data\n",
    "# this prints the first five data points of the data collected\n",
    "\n",
    "df = pd.read_csv(\"data.csv\")\n",
    "df.head()"
   ]
  },
  {
   "cell_type": "code",
   "execution_count": 127,
   "id": "3f19f20c",
   "metadata": {},
   "outputs": [
    {
     "data": {
      "text/plain": [
       "0    75065\n",
       "1     5488\n",
       "Name: label, dtype: int64"
      ]
     },
     "execution_count": 127,
     "metadata": {},
     "output_type": "execute_result"
    }
   ],
   "source": [
    "# Counting the sentiment output by uniqueness\n",
    "# the method value_counts() groups the data by the class and counts the data points belonging to each class\n",
    "\n",
    "df.label.value_counts()"
   ]
  },
  {
   "cell_type": "code",
   "execution_count": 128,
   "id": "b85f714b",
   "metadata": {},
   "outputs": [
    {
     "data": {
      "text/html": [
       "<div>\n",
       "<style scoped>\n",
       "    .dataframe tbody tr th:only-of-type {\n",
       "        vertical-align: middle;\n",
       "    }\n",
       "\n",
       "    .dataframe tbody tr th {\n",
       "        vertical-align: top;\n",
       "    }\n",
       "\n",
       "    .dataframe thead th {\n",
       "        text-align: right;\n",
       "    }\n",
       "</style>\n",
       "<table border=\"1\" class=\"dataframe\">\n",
       "  <thead>\n",
       "    <tr style=\"text-align: right;\">\n",
       "      <th></th>\n",
       "      <th>count</th>\n",
       "      <th>mean</th>\n",
       "      <th>std</th>\n",
       "      <th>min</th>\n",
       "      <th>25%</th>\n",
       "      <th>50%</th>\n",
       "      <th>75%</th>\n",
       "      <th>max</th>\n",
       "    </tr>\n",
       "  </thead>\n",
       "  <tbody>\n",
       "    <tr>\n",
       "      <th>label</th>\n",
       "      <td>80553.0</td>\n",
       "      <td>0.068129</td>\n",
       "      <td>0.251969</td>\n",
       "      <td>0.0</td>\n",
       "      <td>0.0</td>\n",
       "      <td>0.0</td>\n",
       "      <td>0.0</td>\n",
       "      <td>1.0</td>\n",
       "    </tr>\n",
       "  </tbody>\n",
       "</table>\n",
       "</div>"
      ],
      "text/plain": [
       "         count      mean       std  min  25%  50%  75%  max\n",
       "label  80553.0  0.068129  0.251969  0.0  0.0  0.0  0.0  1.0"
      ]
     },
     "execution_count": 128,
     "metadata": {},
     "output_type": "execute_result"
    }
   ],
   "source": [
    "# statistical summary of the dataset\n",
    "# the method describe() counts or summarizes each of the distincts data points\n",
    "\n",
    "df.describe().transpose()"
   ]
  },
  {
   "cell_type": "code",
   "execution_count": 129,
   "id": "3dfc5803",
   "metadata": {},
   "outputs": [
    {
     "data": {
      "text/html": [
       "<div>\n",
       "<style scoped>\n",
       "    .dataframe tbody tr th:only-of-type {\n",
       "        vertical-align: middle;\n",
       "    }\n",
       "\n",
       "    .dataframe tbody tr th {\n",
       "        vertical-align: top;\n",
       "    }\n",
       "\n",
       "    .dataframe thead th {\n",
       "        text-align: right;\n",
       "    }\n",
       "</style>\n",
       "<table border=\"1\" class=\"dataframe\">\n",
       "  <thead>\n",
       "    <tr style=\"text-align: right;\">\n",
       "      <th></th>\n",
       "      <th>label</th>\n",
       "      <th>0</th>\n",
       "      <th>1</th>\n",
       "    </tr>\n",
       "  </thead>\n",
       "  <tbody>\n",
       "    <tr>\n",
       "      <th rowspan=\"4\" valign=\"top\">tweet</th>\n",
       "      <th>count</th>\n",
       "      <td>75065</td>\n",
       "      <td>5488</td>\n",
       "    </tr>\n",
       "    <tr>\n",
       "      <th>unique</th>\n",
       "      <td>16174</td>\n",
       "      <td>1164</td>\n",
       "    </tr>\n",
       "    <tr>\n",
       "      <th>top</th>\n",
       "      <td>#model   i love u take with u all the time in ...</td>\n",
       "      <td>@user #feminismiscancer #feminismisterrorism #...</td>\n",
       "    </tr>\n",
       "    <tr>\n",
       "      <th>freq</th>\n",
       "      <td>796</td>\n",
       "      <td>136</td>\n",
       "    </tr>\n",
       "  </tbody>\n",
       "</table>\n",
       "</div>"
      ],
      "text/plain": [
       "label                                                         0  \\\n",
       "tweet count                                               75065   \n",
       "      unique                                              16174   \n",
       "      top     #model   i love u take with u all the time in ...   \n",
       "      freq                                                  796   \n",
       "\n",
       "label                                                         1  \n",
       "tweet count                                                5488  \n",
       "      unique                                               1164  \n",
       "      top     @user #feminismiscancer #feminismisterrorism #...  \n",
       "      freq                                                  136  "
      ]
     },
     "execution_count": 129,
     "metadata": {},
     "output_type": "execute_result"
    }
   ],
   "source": [
    "# statistical summary by the target \n",
    "\n",
    "df.groupby(\"label\").describe().transpose()"
   ]
  },
  {
   "cell_type": "code",
   "execution_count": 130,
   "id": "4b5142e1",
   "metadata": {},
   "outputs": [
    {
     "data": {
      "text/html": [
       "<div>\n",
       "<style scoped>\n",
       "    .dataframe tbody tr th:only-of-type {\n",
       "        vertical-align: middle;\n",
       "    }\n",
       "\n",
       "    .dataframe tbody tr th {\n",
       "        vertical-align: top;\n",
       "    }\n",
       "\n",
       "    .dataframe thead th {\n",
       "        text-align: right;\n",
       "    }\n",
       "</style>\n",
       "<table border=\"1\" class=\"dataframe\">\n",
       "  <thead>\n",
       "    <tr style=\"text-align: right;\">\n",
       "      <th></th>\n",
       "      <th>label</th>\n",
       "      <th>tweet</th>\n",
       "      <th>length_of_text</th>\n",
       "    </tr>\n",
       "  </thead>\n",
       "  <tbody>\n",
       "    <tr>\n",
       "      <th>0</th>\n",
       "      <td>0</td>\n",
       "      <td>@user next chapter in life stas soon, looking...</td>\n",
       "      <td>105</td>\n",
       "    </tr>\n",
       "    <tr>\n",
       "      <th>1</th>\n",
       "      <td>0</td>\n",
       "      <td>just booked our trip to europeðð»âï¸ @...</td>\n",
       "      <td>97</td>\n",
       "    </tr>\n",
       "    <tr>\n",
       "      <th>2</th>\n",
       "      <td>0</td>\n",
       "      <td>i am thankful for oxygen. #thankful #positive ...</td>\n",
       "      <td>50</td>\n",
       "    </tr>\n",
       "    <tr>\n",
       "      <th>3</th>\n",
       "      <td>1</td>\n",
       "      <td>the latest the volatile daily!  thanks to @use...</td>\n",
       "      <td>67</td>\n",
       "    </tr>\n",
       "    <tr>\n",
       "      <th>4</th>\n",
       "      <td>0</td>\n",
       "      <td>someone explain why @user  is being so moody</td>\n",
       "      <td>46</td>\n",
       "    </tr>\n",
       "  </tbody>\n",
       "</table>\n",
       "</div>"
      ],
      "text/plain": [
       "   label                                              tweet  length_of_text\n",
       "0      0   @user next chapter in life stas soon, looking...             105\n",
       "1      0  just booked our trip to europeðð»âï¸ @...              97\n",
       "2      0  i am thankful for oxygen. #thankful #positive ...              50\n",
       "3      1  the latest the volatile daily!  thanks to @use...              67\n",
       "4      0     someone explain why @user  is being so moody                46"
      ]
     },
     "execution_count": 130,
     "metadata": {},
     "output_type": "execute_result"
    }
   ],
   "source": [
    "# calculating the lenth of each tweet \n",
    "# the method len() counts each word of the tweet and adds it as a feature as a length_of_text\n",
    "\n",
    "df[\"length_of_text\"] = df[\"tweet\"].apply(len)\n",
    "df.head()"
   ]
  },
  {
   "cell_type": "code",
   "execution_count": 131,
   "id": "efd973d0",
   "metadata": {},
   "outputs": [
    {
     "data": {
      "text/plain": [
       "<AxesSubplot:xlabel='label', ylabel='count'>"
      ]
     },
     "execution_count": 131,
     "metadata": {},
     "output_type": "execute_result"
    },
    {
     "data": {
      "image/png": "[encoded data removed]",
      "text/plain": [
       "<Figure size 640x480 with 1 Axes>"
      ]
     },
     "metadata": {},
     "output_type": "display_data"
    }
   ],
   "source": [
    "# visualization the number of data by airline sentiment using the sns library\n",
    "\n",
    "sns.countplot(x = 'label', data = df)"
   ]
  },
  {
   "cell_type": "code",
   "execution_count": 132,
   "id": "ec5a8cbd",
   "metadata": {},
   "outputs": [],
   "source": [
    "# function to get rid of stopwords in each tweet\n",
    "# the text_clean(*args) function is created to remove stopwords from each of the tweet to get a more precise variations\n",
    "\n",
    "def text_clean(mess):\n",
    "    # eliminate punctuations in the sentence\n",
    "    new_sentence = [word for word in mess if word not in string.punctuation]\n",
    "    new_sentence=\"\".join(new_sentence)\n",
    "    \n",
    "    # eliminate and return stopwords from the sentence\n",
    "    split_words = new_sentence.split()\n",
    "    return [word for word in split_words if word.lower() not in stopwords.words(\"english\")]"
   ]
  },
  {
   "cell_type": "code",
   "execution_count": 133,
   "id": "06e23351",
   "metadata": {},
   "outputs": [
    {
     "data": {
      "text/html": [
       "<div>\n",
       "<style scoped>\n",
       "    .dataframe tbody tr th:only-of-type {\n",
       "        vertical-align: middle;\n",
       "    }\n",
       "\n",
       "    .dataframe tbody tr th {\n",
       "        vertical-align: top;\n",
       "    }\n",
       "\n",
       "    .dataframe thead th {\n",
       "        text-align: right;\n",
       "    }\n",
       "</style>\n",
       "<table border=\"1\" class=\"dataframe\">\n",
       "  <thead>\n",
       "    <tr style=\"text-align: right;\">\n",
       "      <th></th>\n",
       "      <th>label</th>\n",
       "      <th>tweet</th>\n",
       "      <th>length_of_text</th>\n",
       "    </tr>\n",
       "  </thead>\n",
       "  <tbody>\n",
       "    <tr>\n",
       "      <th>0</th>\n",
       "      <td>0</td>\n",
       "      <td>[user, next, chapter, life, stas, soon, lookin...</td>\n",
       "      <td>105</td>\n",
       "    </tr>\n",
       "    <tr>\n",
       "      <th>1</th>\n",
       "      <td>0</td>\n",
       "      <td>[booked, trip, europeðð»âï¸, user, use...</td>\n",
       "      <td>97</td>\n",
       "    </tr>\n",
       "    <tr>\n",
       "      <th>2</th>\n",
       "      <td>0</td>\n",
       "      <td>[thankful, oxygen, thankful, positive]</td>\n",
       "      <td>50</td>\n",
       "    </tr>\n",
       "    <tr>\n",
       "      <th>3</th>\n",
       "      <td>1</td>\n",
       "      <td>[latest, volatile, daily, thanks, user, user, ...</td>\n",
       "      <td>67</td>\n",
       "    </tr>\n",
       "    <tr>\n",
       "      <th>4</th>\n",
       "      <td>0</td>\n",
       "      <td>[someone, explain, user, moody]</td>\n",
       "      <td>46</td>\n",
       "    </tr>\n",
       "  </tbody>\n",
       "</table>\n",
       "</div>"
      ],
      "text/plain": [
       "   label                                              tweet  length_of_text\n",
       "0      0  [user, next, chapter, life, stas, soon, lookin...             105\n",
       "1      0  [booked, trip, europeðð»âï¸, user, use...              97\n",
       "2      0             [thankful, oxygen, thankful, positive]              50\n",
       "3      1  [latest, volatile, daily, thanks, user, user, ...              67\n",
       "4      0                    [someone, explain, user, moody]              46"
      ]
     },
     "execution_count": 133,
     "metadata": {},
     "output_type": "execute_result"
    }
   ],
   "source": [
    "# apply function to each of the tweet in the text column\n",
    "\n",
    "df[\"tweet\"] = df[\"tweet\"].apply(text_clean)\n",
    "df.head()"
   ]
  },
  {
   "cell_type": "code",
   "execution_count": 134,
   "id": "393cc319",
   "metadata": {},
   "outputs": [],
   "source": [
    "# since words or texts cannot be fed directly into the model, it has to be converted into numerical values:\n",
    "# importing count vectorizer\n",
    "from sklearn.feature_extraction.text import CountVectorizer\n",
    "# using the count vectorizer class to convert the collection of text documents to matrix of tokens \n",
    "# which assigns numeric value to each word present in the text"
   ]
  },
  {
   "cell_type": "code",
   "execution_count": 135,
   "id": "fd96e276",
   "metadata": {},
   "outputs": [],
   "source": [
    "# convert the text into a numerical feature vector using bag of words technique\n",
    "# bag of words is a technique which uses the count vectorizer to convert the texts\n",
    "# into a numerical feature that can be analyzed by the model\n",
    "# The fit() method takes the training data as arguments, which can be one array\n",
    "bag_of_words_transformer = CountVectorizer(analyzer=text_clean).fit(df[\"tweet\"])"
   ]
  },
  {
   "cell_type": "code",
   "execution_count": 136,
   "id": "8b2e706b",
   "metadata": {},
   "outputs": [
    {
     "data": {
      "text/plain": [
       "{'usernextchapterlifestassoonlookinghousetodayfiancÃ©â\\x9d¤ï¸\\x8fð\\x9f\\x98\\x80ð\\x9f\\x8fð\\x9f\\x91\\x8dð\\x9f\\x8f»': 13504,\n",
       " 'bookedtripeuropeð\\x9f\\x91\\x8fð\\x9f\\x8f»â\\x9c\\x88ï¸\\x8fuserusertravelwiseeurope2016londonparis': 1446,\n",
       " 'thankfuloxygenthankfulpositive': 10567,\n",
       " 'latestvolatiledailythanksuseruseruserspace': 6338,\n",
       " 'someoneexplainusermoody': 9914,\n",
       " 'worrying': 16470,\n",
       " 'todaynationalsmilepowerdayshowpearlywhitessomeonedeservingmakedayone': 10983,\n",
       " 'userradicalismshouldntcounteredterroristsseeusinhumansfreecantjudgecolorâ\\x80¦': 13799,\n",
       " 'usergreatappreciationsfrmeveryoneuperformancesoohappysirð\\x9f\\x99\\x8cð\\x9f\\x98\\x8a11hrsgowatchfilmgentlemanð\\x9f\\x98\\x8að\\x9f\\x98\\x8a': 12678,\n",
       " 'cuddlingbabyitsfunloveâ\\x80¦': 2326,\n",
       " 'enderaamazonfinallytookfinalfantasyversusxiiientrydatabase': 2987,\n",
       " 'userlotpakistanitwitterfolkmakeliketotallyliberalampopenmindeddeenimaaâ\\x80¦': 13259,\n",
       " 'littleanyafunwaiting28milersarriveride2016neotour': 6601,\n",
       " 'daddydaysuseruser': 2376,\n",
       " 'usersadleavingfirsthousetodaylookingforwardmakingmemoriesnewhouseusermovinghouâ\\x80¦': 13926,\n",
       " 'tendexposemoodsaistsnamesongtitlesmusic': 10424,\n",
       " 'fridaybbqsurfridershostelfueeventurabarbequehostelsummersurfkitesurfwavefunholiday': 3983,\n",
       " 'usercnnelectionuserniceparrotinguserracisttalkingpointsrepoedlastnightonpoint': 11994,\n",
       " 'stuckratracefindfreedommasterkeyexperience': 10170,\n",
       " 'stuffcrazyfashionfuncolorgownsfashiondesigndesignillustrationâ\\x80¦': 10180,\n",
       " 'dontgivedepressiongetbusypositivemovementputsgoodmoodfitnessfresh': 2718,\n",
       " 'whereshalfwantindulgelotyunhoespdancingkeepheadtodayâ\\x9d¤ï¸\\x8fð\\x9f\\x90»ð\\x9f\\x8d\\x93': 16225,\n",
       " 'triedlateralmoveinstitution2yearsrowfailedlol23yearsexperiencerequired9ð\\x9f\\x92\\x80': 11140,\n",
       " 'factkeepwatchingmakesinteresting': 3275,\n",
       " 'likesisregrannfffwithjanelleliberatedâ\\x80¦': 6556,\n",
       " 'lastdaynormalcystarsummercamp': 6270,\n",
       " 'turningyearyoungerð\\x9f\\x98\\x9cnewyearnewblessingsbihdaythankfulgratefulâ\\x80¦': 11250,\n",
       " 'waitwalesvsnztonightedenparkcymruambythusercomeuser': 15878,\n",
       " 'breakheateamandreidontcareifhesbritish': 1511,\n",
       " 'buzzingtime2weeksuserlyingbeachphuketð\\x9f\\x8c\\x9eð\\x9f\\x90ð\\x9f\\x8d»hurryup': 1605,\n",
       " 'happinessrealtimechemchemistryeducationsmapractical': 4904,\n",
       " 'rooftopssundayweekenddrinkslanightviewssummerfullmoondtlafunâ\\x80¦': 9252,\n",
       " 'user18yrsoldsaveenoughmoneybuymotorcycle': 11438,\n",
       " 'sceneseuro2016fearnextuser': 9460,\n",
       " 'windows10splitscreenbrowserlumia950xllg330': 16279,\n",
       " 'lighttherapyhelpdepressionaltwaystohealhealthyhappy': 6529,\n",
       " 'ð\\x9f\\x99\\x8fquotedayð\\x9f\\x99\\x8bblessthankfuloptimisticpositivefaithstrongmotivationâ\\x80¦': 17213,\n",
       " 'userlikespreadpeanutbutterwhitebreadlittlewonders': 13174,\n",
       " 'vminmakeshappytimehate': 15831,\n",
       " 'fathersdaylovvvvvvvveeeeeeeeudearfather': 3436,\n",
       " 'useruserlookpassionateivankatrumpplanefakeyetignoreadamsalehraâ\\x80¦': 14806,\n",
       " 'usernameduseroneatlantastopprfirms': 13456,\n",
       " 'brunchbalconyviewbrunchsundaybrunchsundayistanbullovegirlinstalikeâ\\x80¦': 1564,\n",
       " 'userthingscomingalongnicelycolumbusmbbmygrindmrbaileybabytshiâ\\x80¦': 14347,\n",
       " 'â\\x86\\x9dwilliamscompaniesenergytransferpanersheiratentexaspokerimpipelinesektorblogsilverâ\\x80¦': 16963,\n",
       " 'nextdiningdevikadateannouncedweek': 7805,\n",
       " 'footballviolencespoilingmany': 3919,\n",
       " 'thankspouringtearazerblackwidowchromakidsdestruction': 10649,\n",
       " 'todaysdonkeyzionaziproudmurderingrealpalestiniansemiticchildrenthatscallâ\\x80¦': 10993,\n",
       " 'cannottastesmellanythingð\\x9f\\x98\\xadhelpmeimnotusetothisperfecttimingweekend': 1650,\n",
       " 'donecantwaitlatviahereicomemidsummersfamillyfriendsâ\\x80¦': 2698,\n",
       " 'usergreatthingssmallthingsgreatlovemotherteresalovewomen': 12692,\n",
       " 'findmakingschoolsplacesuserusereducationfest': 3748,\n",
       " 'remindstoughchoicenigeriaindia2013chooseindiamentalhealthresearch': 9125,\n",
       " 'â\\x80¢killemwð\\x9f\\x8c¶kindnessâ\\x80¢revivalsunriserebelheamorningpielcanelað\\x9f\\x8c¥ð\\x9f\\x8d·ð\\x9f\\x91\\x8dð\\x9f\\x8f½ð\\x9f\\x98\\x8að\\x9f\\x91\\x8cð\\x9f\\x8f½ð\\x9f\\x8c¶': 16784,\n",
       " 'jumatppleeyanytinny': 6086,\n",
       " 'userneverrelevantrestpeacejohnlennoninspiration': 13480,\n",
       " 'livelypicslabelfeargivenamebecomeseasiercontrolmotivation': 6644,\n",
       " 'mojomanlolweekonenewprogramteammacbfitmomfitlifeâ\\x80¦': 7368,\n",
       " 'usercouldntgetsongheadtodaysonggreatrhythmfigureidshare': 12052,\n",
       " 'ð\\x9f\\x94\\x9cð\\x9f\\x91¸ð\\x9f\\x8f¼snapchatbarbiets93ð\\x9f\\x91»trannyladyboyasianladyboythailandusalasvegasâ\\x80¦': 17128,\n",
       " 'bingewatchingimnextweeklol': 1326,\n",
       " 'awwyeahgoodbingbongbingbong': 872,\n",
       " 'enjoyingsceneryjohnxsafariseastcapehuntingfamilyproudafrica': 3020,\n",
       " 'sayð\\x9f\\x98\\x9cselfiefreetimesmileinstaviÃ±asonrisaustolivarviÃ±adelmar': 9454,\n",
       " 'happensð\\x9f\\x98\\xadð\\x9f\\x98\\xadð\\x9f\\x98\\xadloopshoppingvine': 4882,\n",
       " 'ohmybooksbeautifulohfeelsfeelscoverlovebookpornuseruser': 8042,\n",
       " 'yeslovelysadsicktimesbegladfridayposteurefwhingeingbeginsbhblxxx': 16623,\n",
       " 'dontlikeadjustmenttwilightgarrisondestiny': 2734,\n",
       " 'secureiampositiveaffirmation': 9513,\n",
       " 'healnaturallyhealthyidwpjoytrain': 5324,\n",
       " 'keepingshapelolrunningtimerunningparksummerexercisefitnesshelthyâ\\x80¦': 6121,\n",
       " 'useruseruserwhatsopinionprovocateurhangingon': 15289,\n",
       " 'usergifð\\x9f\\x98\\x83ð\\x9f\\x98\\x82â\\x98ºitdescribeexactlyfeelð\\x9f\\x98\\x9cð\\x9f\\x98\\x8dx': 12565,\n",
       " 'useruserexpandedwarsthruampmadeamericaweakerabandonsvetsreturnhome': 14669,\n",
       " 'fixedwashingmachine': 3852,\n",
       " 'usereaknowseveryonehatesgameconstantsurveysdontlikegame': 12244,\n",
       " 'makesmakessmilelaughmuchbreathelovelong': 7082,\n",
       " 'userfnseekingridantisemiticxenophobicimagemajoritysympathisersstilldescribetheâ\\x80¦': 12464,\n",
       " 'userbookedmorningwrexham4thtimeseesincenovemberlpoolcantwaitstereophonics': 11850,\n",
       " 'cantbelieveimgraduatinghighschooltodayð\\x9f\\x8e\\x93gotthenervesareyoureadyimreadyhellyeahcollegeturnup': 1669,\n",
       " 'awakeneighboursalarmclockbeepinglast30minutesdrivingcrazycantgetbacksleeptired': 842,\n",
       " 'amazingpussywet': 588,\n",
       " 'intelligentiampositiveaffirmation': 5921,\n",
       " 'euro20161daygotillkickoffwhosenglishlearningireland': 3062,\n",
       " 'gothouseviewingpotentialhouse2monday': 4618,\n",
       " '1weektillbridesmaid2weekstillholidaybestfriendsweddingsunturkeyhull': 108,\n",
       " 'timekisskisswaitingworksð\\x9f\\x98\\x89ð\\x9f\\x98\\x89ð\\x9f\\x98\\x98': 10887,\n",
       " 'framegrabday1usershoottouchingstoryendingcantwaitshare': 3951,\n",
       " 'adventuretimethemeplayedquicklyadventuretimethemesongmusiccaoonukelele': 405,\n",
       " 'useralwaysð\\x9f\\x99\\x8cð\\x9f\\x99\\x8câ\\x9c¨ð\\x9f\\x92\\x83ð\\x9f\\x92\\x83ð\\x9f\\x8eµð\\x9f\\x8c\\x88ð\\x9f\\x98\\x8aâ\\x98ºð\\x9f\\x92\\x95': 11624,\n",
       " 'freedomdaylgbtwehoð\\x9f\\x8e\\x89ð\\x9f\\x8e\\x88ð\\x9f\\x98\\x98': 3958,\n",
       " 'usercantwaitnewmaslowmusicð\\x9f\\x98\\x86ð\\x9f\\x98\\x86ð\\x9f\\x98±ð\\x9f\\x91\\x8a': 11931,\n",
       " 'easyfolks': 2904,\n",
       " 'bihdaybrothercoolthebombå\\x8f\\x8dæ\\x8a\\x97æ\\x9c\\x9fã\\x82\\x84ã\\x81£ã\\x81¨ã\\x81\\x97ã\\x81¦ã\\x81\\x8fã\\x82\\x8cã\\x81\\x9få\\x81¥å¤ªã\\x83\\x9dã\\x83¼ã\\x82ºç¬\\x91ã\\x81»ã\\x82\\x93ã\\x81\\x98ã\\x82\\x83ã\\x82\\x89ã\\x82\\x89ã\\x81°ã\\x81\\x84â\\x98\\x86': 1235,\n",
       " 'familyhappyfamily': 3299,\n",
       " 'starsofthefuturelovinggreatdancingatmospheretodaybrentwood': 10071,\n",
       " 'watchinglivetonightboygeorgecultureclubmemories': 16008,\n",
       " 'dogsbathedfleafreenewbedssprayedmommydutiesfurbabieskimberâ\\x80¦': 2689,\n",
       " '2nitesadbcorderedfriesdennysampsuckedtonightneverbadfryassumedfriesdelicious': 167,\n",
       " 'tomorrowbihdaypay': 11034,\n",
       " 'fathersdayloveupapað\\x9f\\x98\\x87ð\\x9f\\x98\\x87': 3435,\n",
       " 'daysbetterotherstodayonegivethanksforlifefeelingmyselfhardwork': 2495,\n",
       " 'greatweekendð\\x9f\\x92\\x9að\\x9f\\x91\\x91lovepeace': 4761,\n",
       " 'musicdrug': 7527,\n",
       " 'happyworkconferencerightmindsetleadscultureofdevelopmentorganizationsworkmindset': 5214,\n",
       " 'impressiveiampositiveaffirmation': 5821,\n",
       " 'userhappyÃ¨lbgtfamilybutdontgetincessantthinveiledgayminorities': 12803,\n",
       " 'usergettingmoodreadyuserperformancepippinpippin': 12552,\n",
       " 'usertonighthourbrandnewchicagofireseason4returnsuserfinallyð\\x9f\\x94¥ð\\x9f\\x94¥': 14432,\n",
       " 'flybetterusburanuswwwflybcccomcall724airbrokerflightâ\\x80¦': 3893,\n",
       " 'someonestimulatesinternettheyrealwayssecondguessuneedsatisfactionothers': 9924,\n",
       " 'userherespizzatonightsstreamboutwhatsfavoritepizzafoodgamerfunhungry': 12854,\n",
       " 'mightuglyusedugliertruestoryð\\x9f\\x98\\x9eð\\x9f\\x98\\x82ð\\x9f\\x98\\x8a': 7294,\n",
       " 'usersawplayuserhopinghappengreatchoicethankawesomemusiclive': 13943,\n",
       " 'racistintentguyjokingviausertrumpbarackobamamichelleobama': 8888,\n",
       " 'smilemoreblessedsundaysweekenddopelatinohispaniclitspikyyoungfelizdomingoflyla': 9850,\n",
       " 'stopmakingexcusestimehappylifefleetingvideogrowthmindset': 10129,\n",
       " 'lolwatchednovelaparentsð\\x9f\\x90\\x9d': 6680,\n",
       " 'idiotdancesgravesdeadamericansproud': 5662,\n",
       " 'userbestsellerinspirationmotivationnevergobedwithoutdreamwakeupwithouthope': 11762,\n",
       " 'addsnapchatguysgoingbusinesstriptexas': 387,\n",
       " 'userreallywantedcomedaughterreallyputfoot': 13845,\n",
       " 'useruserahthank': 14554,\n",
       " 'defensedeflectfactdefensetrumpgeorgeshowedtruecolorsneverump': 2555,\n",
       " 'boobieshappyshowhappyshowpronpornnudesex': 1432,\n",
       " 'championstrophycoachroelantoltmanshappyindiasnextgenhockeyplayerslondonindiasho': 1893,\n",
       " 'userussingerchristinagrimmieshotdeadyfmghanahugetalentwasted': 15366,\n",
       " 'userrightgrrrrrrrruseruser': 13896,\n",
       " 'userohdeardonaldbadcampaigndaynevermindhairmanydeadpeopleneedboost': 13554,\n",
       " 'twodays17dancingqueenonly17annakahnuielsenannukah': 11280,\n",
       " 'losingrespectusereverytimeseenewpictureuserboof1biebersacunt': 6785,\n",
       " 'lovingvacationpalmademallorcamallorcavacationsummersuntravelrelaxationâ\\x80¦': 6975,\n",
       " 'colleaguesknowwellbihdaysomeonesbihdaysomewhereluckycelebrate': 2093,\n",
       " 'quebecshumanrightsampjusticesystemfailprotectvictimspoliceuseruser': 8848,\n",
       " 'lovedseason3trailertelltaleswalkingdeadquitesincefinishedseason2clementinee3': 6834,\n",
       " 'weekendlongweekendmeð\\x9f\\x98\\x89ð\\x9f\\x8c¹â\\x9d¤ï¸\\x8ffridayweekendwinecapetownsouthâ\\x80¦': 16089,\n",
       " 'greatthingscomingwayinlovestrongereverhumblereadyâ\\x80¦': 4750,\n",
       " 'â\\x98ºâ\\x98ºitâ\\x80\\x99sonewaywiseð\\x9f\\x98\\x8ewaynicknamealsoð\\x9f\\x98\\x98â\\x80¦': 16979,\n",
       " 'useruseruseryesleastnoblereasonsbackfiredhaveâ\\x80¦': 15301,\n",
       " 'sickverbalironyleftequalinghomophobeampislamophobeprotectingviperampmousevipereatsmouse': 9740,\n",
       " 'wokeupmorningntearsthoughtswithorlandoprayforhumanityprayfoheworld1world1struggle1love': 16352,\n",
       " 'cannywairoitnbcomebackgirlcrushingbaduserð\\x9f¤\\x97ð\\x9f\\x98\\x8d': 1657,\n",
       " 'triptripbikefreetimecrazynobað\\x9f\\x98\\x82daynicesunpicturestreetstyleâ\\x80¦': 11144,\n",
       " 'ukraineneedjeanneukraineneedslouisxiukrainesenseandsensibilitypov': 11347,\n",
       " 'bihdaydadgbusrkstayhappyâ\\x80\\x94celebratingdadsbihday': 1240,\n",
       " 'usergoingstahumiliatingdontdaysoslow': 12601,\n",
       " 'userdentaltestimonialslichfieldclients': 12148,\n",
       " 'thankfulcomfothankfulpositive': 10498,\n",
       " 'couldntsaidbetterloveneedstopthehatebethechangeripchristinagrimmie': 2227,\n",
       " 'sadwaltdisneyworldalligatorattacks2yearoldboydisneyworldrecoveryeffocontinues': 9347,\n",
       " 'keepinghappinessgoalsmonthgooutsidegetfreshairdailyhappinessproject': 6120,\n",
       " 'ohthatslovelyuserhealthydayfriendpete': 8050,\n",
       " 'userwouldneverguessedwoulddisappointedcityberlin': 15586,\n",
       " 'motivatingiampositiveaffirmation': 7465,\n",
       " 'pogorillasimulatorneedadaptenvironmentneedtearcitymaterial': 8619,\n",
       " 'greatviewmuscaridaffodilstulipsspringmemories': 4754,\n",
       " 'dailyaffirmationmotivationinspirationpurposelovepeace': 2396,\n",
       " 'ripantonyelchinmetbacksandiegocomiccon2008promotingterminatorsalvationsdcc': 9206,\n",
       " 'dumbestrepoingdayusereverythingcld2blamecrazywhiteguywlegalguninsteadislamicterror': 2859,\n",
       " 'usermakes': 13331,\n",
       " 'bankettbabað\\x9f\\x92\\x93ð\\x9f\\x91lovehungaryhungariangirlshappinessbankettmikikâ\\x80¦': 983,\n",
       " 'usertraditionsimpoantmlbcongratscardinalsdraftingplayerfaileddrugtestpedscardiâ\\x80¦': 14446,\n",
       " 'niceweekendloveromanceseaselfie': 7875,\n",
       " 'viacurbbackseason9thankmrlarrydavidbestnews2016user': 15791,\n",
       " 'happyfeetkidcolorwithgrannyfeetbabysweetwelcomechampcanon50mmnepalkathmandu': 5075,\n",
       " 'usergoodmorningbihdaygirllhasaapsodogpuppybihdayfurbabyfurkidcuteuser': 12616,\n",
       " 'ahhhhtenerife2days': 430,\n",
       " 'worksukidwhiteamppoliticianimpoedthievesblacktheydinvestigateampprosecutereturnmyvinylð\\x9f\\x98\\x88': 16442,\n",
       " 'â\\x86\\x9daustraliapaicipationratecame648expectations649mayblogsilvergoldfoâ\\x80¦': 16815,\n",
       " 'childrensdayletsmaketodayspecialkidsages': 1987,\n",
       " 'youredaddysomeonecrewedampranawayfathersdaygodbless': 16691,\n",
       " 'useruserusergoingscriptright': 15069,\n",
       " 'goworktodaypleaseanswerquicksurveyleadership': 4677,\n",
       " 'sexamateurcallsignlookup': 9634,\n",
       " 'neededlittlebitarizonaputcararizona': 7610,\n",
       " 'imactuallyreallyhugamelovedtotallyfakeusercarefulgettingobvioustrulynbafinals': 5698,\n",
       " 'friyayletsgetdaystaedlipstickmascaracaffeineaddictdowhatyouloveletsdothisschool': 4055,\n",
       " 'hellofridayð\\x9f\\x98\\x8dhelloeuro2016englandthreelionswoysboys': 5379,\n",
       " 'imprintfatherremainsforeverlifechildfathersday': 5824,\n",
       " 'usercountdownbeginssonasays95daysgoakirarelease': 12061,\n",
       " 'alexmagiclikeinterestingpeoplenewfeelingsloveropornyoungsexyshynastynu': 451,\n",
       " 'lolfeeluseless': 6674,\n",
       " 'user2playmaisonjohnnyuserwuseruseruser': 11469,\n",
       " 'usergunmankillsleast20peopleampinjures42otherscrowdedgaynightclubfloridaamerica': 12715,\n",
       " 'imlettingpiercerdecidenewpiercingwellfindfridaynewadditionimadding': 5783,\n",
       " 'anotheronebitesdustthankmuchsuppoingusð\\x9f¤\\x98ð\\x9f\\x8f»': 705,\n",
       " 'usermodelloveutakeutimeurð\\x9f\\x93±ð\\x9f\\x98\\x99ð\\x9f\\x98\\x8eð\\x9f\\x91\\x84ð\\x9f\\x91ð\\x9f\\x92¦ð\\x9f\\x92¦ð\\x9f\\x92¦': 13417,\n",
       " 'successorder': 10197,\n",
       " 'motivationmondaymondaymotivationfitandfierce': 7469,\n",
       " 'buffalobulldominatebulldirectwhateverwant': 1577,\n",
       " 'imgratefulaffirmations': 5762,\n",
       " 'cheatingmuchfunð\\x9f\\x99\\x84fitnesscheatdayvacationstarfishcompanymarketampâ\\x80¦': 1915,\n",
       " 'usergeekedlovetalkinghourfoodtravelchat': 12536,\n",
       " 'kejriwalmustacceptrolemakingudtapunjabconspiracydefamepunjab': 6139,\n",
       " 'peppapigbirdslollipopfingerfamilynurseryrhymeslyricquauser': 8432,\n",
       " 'bihdaygirlgoesmykonosbihday30bihday30isthenew20â\\x80¦': 1255,\n",
       " 'userlookingforwardmeetingperformancecountrymusicssms16': 13232,\n",
       " 'telllotorganizationtypepeoplepromoteleadershipleadershipfreakquoteinspirational': 10420,\n",
       " 'afternoonwellspentwatergoodtimesgoodfriendsampthankfullifewellspent': 418,\n",
       " 'stayhappyjunglescostaricacostaricahowtoinspirationtravel': 10081,\n",
       " 'brighternotetomorrowimlookingpuppylabambermadmaxspaniel2weeksmayhem': 1528,\n",
       " 'youremotherstandspretheatrelunchdate': 16707,\n",
       " 'useruserfollowsomethingequallycleverlikeemailsmassescheer': 14689,\n",
       " 'happysaturdayð\\x9f\\x92\\x8bð\\x9f\\x92¨ð\\x9f\\x98¤newvapefamsaturdayvapegirlvapinglifestylevapehappyâ\\x80¦': 5166,\n",
       " 'latestmarylanddailythanksuseruserchrismukkah': 6329,\n",
       " 'lifesfastrunhighbounceuserforestparkxtremeair5kstl': 6516,\n",
       " 'fishbulldominatebulldirectwhateverwantsta': 3847,\n",
       " 'useruseruseruseruserpleaseusnotlongnowwhatsonfamilyfun': 15237,\n",
       " 'â\\x86\\x9daudusdfailuresapparentkeyresistance200dmanextstopblogsilvergoldforex': 16805,\n",
       " 'happyð\\x9f\\x98\\x8eð\\x9f\\x98\\x8ehappinessminions': 5222,\n",
       " 'someoneeffomakepeoplefanshappytalendgoesripchristinagrimmieommmyjustice': 9912,\n",
       " 'alsokeyboardtypecausecooptingterroristsregsyriaautocorrectscausecoloredterrorists': 511,\n",
       " 'imsuperhungrydontfeellikecookinghahalazysinglelife': 5856,\n",
       " 'newbikiniamazonlistâ\\x98ºï¸\\x8fbigxpaulxthankxbikiniabssexybikinibodylovemodel': 7688,\n",
       " 'userdefinitelyreading': 12140,\n",
       " 'newcarreadymiddlenextweekð\\x9f\\x9a\\x97': 7691,\n",
       " 'happymondayeveryoneletsmakegoodweekmondaymotivationfreshstahealthyð\\x9f\\x92ª': 5135,\n",
       " 'sexsexvideofreetube': 9651,\n",
       " 'lookslikeknowledgepowerhappinessloveit': 6764,\n",
       " 'waycmtredcarpetâ\\x9c¨tuneinuseruser': 16034,\n",
       " 'calmiampositiveaffirmation': 1618,\n",
       " 'multiconnexionsdifficultaskmanylanguagesmeasurehappinessunâ\\x80¦': 7522,\n",
       " 'babygirlsleepingtonightð\\x9f\\x98\\xadmightgogetroomlolmissmycuddlebuddy': 907,\n",
       " 'modelloveutakeutimeurð\\x9f\\x93±ð\\x9f\\x98\\x99ð\\x9f\\x98\\x8eð\\x9f\\x91\\x84ð\\x9f\\x91ð\\x9f\\x92¦ð\\x9f\\x92¦ð\\x9f\\x92¦': 7366,\n",
       " 'cantwaituseruser': 1785,\n",
       " 'managerinvitedweddingð\\x9f\\x98\\x81ð\\x9f\\x98\\x80': 7123,\n",
       " 'smaaliensampcleverclogsdevidedafghannationtwopoliticalentitiesnamelyafghansamptalibanpaklovepoorafghans': 9829,\n",
       " 'strangemagicalwayspeoplemakepersonalizedrecovery': 10149,\n",
       " 'bestdadworldfathersdaymangiafuori': 1129,\n",
       " 'userdisgracepoorkidsalreadytoughlife': 12168,\n",
       " 'socksmakesmileâ\\x80¢weeniedogloveâ\\x80¢dachshundlovesocksfeetâ\\x80¦': 9898,\n",
       " 'oprahwinfreyshow20thanniversarycollectioncametoday17hoursfootagecantwait': 8214,\n",
       " 'teengirlkilled3othersinjureddowntownoaklandshootinggunsmentalillnessgangsð\\x9f\\x87¨ð\\x9f\\x87¦ð\\x9f\\x87¨ð\\x9f\\x87¦ð\\x9f\\x87¨ð\\x9f\\x87¦orlando': 10413,\n",
       " 'useruserusersimplethingspastadministrationdeliberatelyignored': 15145,\n",
       " 'thankfullifelivedirectionimgoing14509': 10554,\n",
       " 'staytunedsaintissue4printerscomicsmakecomics': 10087,\n",
       " 'wellemotionaldiysos': 16136,\n",
       " 'lotsstuffconfirmedbookedopendaydetailsfinalisebiggestever': 6805,\n",
       " 'useralthoughbigotmisogynisthopestillqualifykeepyoureyesontheprizemlk': 11613,\n",
       " 'performingtonightpridelaalongsideamazinggirlssureâ\\x80¦': 8444,\n",
       " 'userimfullyblockedloldamdidntknowupissedurpantslmao': 12963,\n",
       " 'useramericaowesblacksafricanamericanreparations': 11632,\n",
       " 'happysuperduperblatedgirlbihdayfriends': 5181,\n",
       " 'userlaughableseecelebritiesalifuneralfuneralservicebecomeproppounity': 13131,\n",
       " 'potuswhitehedstillworstpresidenteverlikelypresidentevertrumpisraelhappynewyear': 8677,\n",
       " 'knowperfectknowsomedaysomeoneseebeautifulimperfectionshugotsingle': 6209,\n",
       " 'useruserperiscopepersonaldevelopmentfitmomtikilabellyburningbootcampfitnesshealthâ\\x80¦httâ\\x80¦': 14878,\n",
       " 'woke6amampmyentiremorningnothingmagnificenthappyreunitecoachampmeetmanynewfriendsð\\x9f\\x92\\x92': 16345,\n",
       " 'decolonizingcurriculumwayprocesstogetherdecolonization': 2542,\n",
       " 'floatingtowardshappinessfloatationtherapyfloatinghappinesshealthwellness': 3878,\n",
       " 'workanotherdoubletomorrowyeswoohoo': 16413,\n",
       " 'dwdwetterwarnungstarkesgewitterschwandorfchwandorf1406210114062230warnungwetter': 2874,\n",
       " 'youresisterneverâ\\x9d¤ï¸\\x8fð\\x9f\\x92\\x96ð\\x9f¦\\x81ð\\x9f\\x90¯ð\\x9f\\x91¯lovefriendsbestfriendscutegirlâ\\x80¦': 16711,\n",
       " 'thinkcaitlynjennerstillgetsfathersdaypresentsworldsbreastdadnumber1dadusedtobeafathersday': 10760,\n",
       " 'everybodysgotsomebodysinglevain': 3105,\n",
       " 'oitnbbitchezzzzseason4netflixyaaayâ\\x80¦': 8062,\n",
       " 'usertruebehappy': 14464,\n",
       " 'officiallygoingseeuserdeceek': 8008,\n",
       " 'youreyoungstopworrying': 16717,\n",
       " 'businessconcernothersmightgoing': 1593,\n",
       " 'user2015manminneapolishitcar230timesalonewholetimepoorguy': 11450,\n",
       " 'engerlandengerlandengerlandwoohoocomeboysusproudeuro2016englandfootballrussiaenglandrussia': 2999,\n",
       " 'haiihappysundayð\\x9f\\x98\\x84ð\\x9f\\x98\\x83sundaynightgirlsasiangirlfun': 4840,\n",
       " 'timesingoleoleoleseeingrainoutsidenoidadelhirain': 10908,\n",
       " 'allsmilesrelaxedreadyfohedaythankstomyspecialsomeone': 468,\n",
       " 'omghopefunseeingselenagomezlivewentsorrydidntgo': 8107,\n",
       " 'fathersdaydogdadsreallyknowshowspiritbestfriendsdogs': 3393,\n",
       " 'soonseemsfoodgmodontlabelitkeepsafehealthyamp': 9972,\n",
       " 'dinnerdatelovefunlovemilestonessouthcentremall': 2632,\n",
       " 'hellosunglassesnotminedarkerhairexplodedhairboomhairdresser': 5388,\n",
       " 'clubdinnerwomensrugbypresentationfriendslovewruwelshwomensrugby': 2070,\n",
       " 'profitablethingimamerica': 8784,\n",
       " 'userdisagreenbausersuspendedevenwordsusergofigure': 12166,\n",
       " 'repostuserrepostappã\\x83»ã\\x83»ã\\x83»guestsyourâ\\x80¦': 9138,\n",
       " 'smarkð\\x9f\\x92\\x8bâ\\x99¡friendshoppingsmarkæ\\x94¾èª²å¾\\x8c': 9838,\n",
       " 'goodmorningworldwishweekendeveryoneaebylujoespaÃ±amiamicolombiaunitedstates': 4490,\n",
       " 'â\\x80\\x9cfeelingstaedavonbusinessmessageorderproductslearnstabusinessmyavonstory': 16762,\n",
       " 'userbeautifulkelly': 11729,\n",
       " 'usercomeseebrooklynuserampuserhostuserparadeusersat625pride2016httâ\\x80¦': 12004,\n",
       " 'bihdaylunchdearfriendsammakiâ\\x9d¤ï¸\\x8elovelyafternoonâ\\x9d¤ï¸\\x8ebihdayâ\\x80¦': 1268,\n",
       " 'wokebutterfliesmorningð\\x9f\\x99\\x88onesleepgouser': 16347,\n",
       " 'lookingforwardssneakypeekusernewextensiontomorrowuserhuddersfield': 6734,\n",
       " 'pack10paygbp499getshopcoolhomefun': 8288,\n",
       " 'omgluckilygotgymonsitelondonpillboxworkspacecakeeastlondontreatyourself': 8112,\n",
       " 'usergettingreadyhandannualstaffexcellenceawardspridenhs': 12555,\n",
       " 'cantwaithearcrookedhillarydescribespulseincidentsinceincapableusingwordsradicalislamicterrorism': 1747,\n",
       " 'bouncedmanytimestodaynastyclosecallsalwayscamesmilingbraindamageweedpipe': 1474,\n",
       " 'userworkingthesocialmediadividegrowingminute': 15565,\n",
       " 'usermayeveryone': 13372,\n",
       " 'makeoverweightdogdoghealthproblem': 7060,\n",
       " 'newkalabaritoneukulelewayusercantwaitusenewarrangementsnewukulele': 7720,\n",
       " 'legendhappypantsvideolegendpantsunitedkingdomhotvideovideos': 6400,\n",
       " 'playinggamesbuffalosimulationbuffalotakevicinityhomeswa': 8547,\n",
       " 'userfindmakingschoolsplacesuserusereducationfest': 12425,\n",
       " 'lovecelebrationsbihdaysanniversarieskinds2016beginningbestvintageeraeverdreamedanniversary': 6821,\n",
       " 'bihdayshoutbrodausersmileshinelikestarswhileâ\\x80¦': 1295,\n",
       " 'yeswaitingseewhatsstoreedlivð\\x9f\\x98\\x8dsuvtucksonalwaystherealdealâ\\x9d¤ï¸\\x8fð\\x9f\\x92\\x95â\\x9d¤ï¸\\x8f': 16652,\n",
       " 'dayshuotherstodayfeelslikeimburningalivetiredbeyonddepressed': 2498,\n",
       " 'usermake': 13325,\n",
       " 'userhopeyourelategetbookingmusicbooksdundalklouth': 12905,\n",
       " 'userâ\\x86\\x9deurgbprecoversâ\\x80\\x98brexitâ\\x80\\x99pollledfallstill07800blogsilvergoldâ\\x80¦': 15711,\n",
       " 'userlookingforwardarrivingtonightuserwbencconfdiversityandcreativityddb': 13224,\n",
       " 'kanamiampsoranað\\x9f\\x91©â\\x80\\x8dâ\\x9d¤ï¸\\x8fâ\\x80\\x8dð\\x9f\\x91©thankyouð\\x9f\\x91\\x91ð\\x9f\\x8c¼loveð\\x9f\\x92\\x8bð\\x9f\\x92«familylove': 6104,\n",
       " 'breadrollpotatofillingtohelldietinggoodlifefoodieyummyfood': 1506,\n",
       " 'damnthinkhitnevergetanothernewawesomemohammedaliquotewowripchamp': 2422,\n",
       " 'checkuserfathersdaycidernutsbluraysspraydontsmelldont': 1948,\n",
       " 'userrepoerreadlgbtcardbbcnewsorlando': 13877,\n",
       " 'wouldratheraiiight': 16493,\n",
       " 'onefavoriteswantlivehappylifetiegoalpeoplethingsqotdlife': 8147,\n",
       " 'userhappyweekendð\\x9f\\x92\\x8balejandragillovecolombialatina': 12798,\n",
       " 'userlongkentcoastvwshowð\\x9f\\x9a\\x99useruserbirchingtonquexpark': 13217,\n",
       " 'treasonoustrumpunsatisfiedwhiteisisterrorismmovednuclearterrornewâ\\x80¦': 11130,\n",
       " '250dayshappytoday1014masutanicouple250daystoday0620ð\\x9f\\x92\\x9cð\\x9f\\x92\\x9cð\\x9f\\x92\\x9c': 136,\n",
       " 'anothershotshowuserlivemusiccrowdlovelifeaistâ\\x80¦': 713,\n",
       " 'oldguyneedssleepcatchsoonsafeamp': 8094,\n",
       " 'swimmingtomorrowð\\x9f\\x98\\x8dð\\x9f\\x92\\x95': 10341,\n",
       " 'workingsomethingð\\x9f\\x98\\x81': 16430,\n",
       " 'alfiemetbillyannaswelshzoogoatfriendslove': 453,\n",
       " 'userstopfeelingsorrystamakesproudali': 14157,\n",
       " 'ð\\x9f\\x92\\x92saturdayfelizsabadonewhopetemple': 17092,\n",
       " 'thankfulfreedomthankfulpositive': 10520,\n",
       " 'lovestorylikereallyexist': 6936,\n",
       " 'thinkconstitutionamendmentsrewrotestillbasingview21stcentury1800s': 10761,\n",
       " 'costestburlesqueglindamadeskiampsleeveslovingcomecosplayhandmade': 2211,\n",
       " 'fridaygetexcitedtreatonedeliciousbagelsandwiches': 4003,\n",
       " 'wrongplanetð\\x9f\\x92\\x8eð\\x9f\\x92\\x8ekudabalistraindiamondsshinebrightkingqueenâ\\x80¦': 16534,\n",
       " 'decorsbuffalosimulationbuffalotakevicinityhomesway': 2547,\n",
       " 'trainingworktodayquickdisneystoretripcosimcitynxtdublinð\\x9f\\x98\\x9d': 11113,\n",
       " 'userpoorlittleoneð\\x9f\\x98ª': 13717,\n",
       " 'sorrysorrythemusketeersmon20thbadenoughlastserieswithoutusermessingshedule': 9989,\n",
       " 'yayexceptellenmadecommentssuppoingsaykimburrellmadehomoresistantâ\\x80¦': 16574,\n",
       " 'fridayladiesgreatglamtasticweekenduseruseruseruseruserð\\x9f\\x8c¹ð\\x9f\\x8c·ð\\x9f\\x92ð\\x9f\\x8f»ð\\x9f\\x92ð\\x9f\\x8f»ð\\x9f\\x92\\x8b': 4011,\n",
       " 'rajo': 8920,\n",
       " 'differenteyecontacttwoguyscareanotheronewhosnotð\\x9f\\x98\\x9cð\\x9f\\x98\\x91': 2622,\n",
       " 'lookslikekatsubiclosedmirandahopeimwrongtheresreasonclosedtoday': 6763,\n",
       " 'userannounce2ndfarmsmilefarmscommunitybridgebuildersturlockcaopeningsoonhttâ\\x80¦': 11646,\n",
       " 'gottadnatestsknowbabyfather': 4645,\n",
       " 'userusertennesseelookrepublicansuppo': 14970,\n",
       " 'sighdepressionsuicidalanamiaanorexicfat': 9742,\n",
       " 'videosgetexcitedfutureâ\\x80¦techaugmentedfuturemobile': 15811,\n",
       " 'usernewyearnewpreznewdestructionnewcommercialsnewnewordernewtweetsnewpoopinnewkidstâ\\x80¦': 13503,\n",
       " 'gettingsandygraveð\\x9f\\x90ð\\x9f\\x90\\x9að\\x9f\\x90\\x9fbeachsummeroceanbeachlifecarlsbadcalifornia': 4236,\n",
       " 'fathersdayloveudaddaamtruequotedadtheâ\\x80¦': 3434,\n",
       " 'happy5thbihdaytyâ\\x99¡â\\x99¡â\\x99¡bihdayboyloveyay': 4917,\n",
       " 'dadbestjobiveeverfathersday': 2373,\n",
       " 'omgneworangenewblackseasonnetflixsooncantwait': 8115,\n",
       " 'euphorixtoday40bottlesstockgeteuphorixlimitedsupplieslastuserliquidhappienesspositiveenergy': 3060,\n",
       " 'playbirdsmeetrednursenewgameevery4hoursfreegamesflashgames': 8526,\n",
       " 'userwithouthumblereasonableconfidencepowerscannotsuccessfulnormanvincentpeale': 15532,\n",
       " 'todaybankholidaydeliverypackagegoduseriamhardstyle': 10949,\n",
       " 'alwaysgoð\\x9f\\x98\\x8a': 535,\n",
       " 'todaystoriesconfirmanxietydisorder': 11013,\n",
       " 'daysbrightonseachildrenphotospotstudio': 2496,\n",
       " 'tellpeopleimaridernobodycrydieoutlawletridebihdaytupacâ\\xad\\x90ð\\x9f\\x91¼ð\\x9f\\x99\\x8fð\\x9f\\x92\\x8bð\\x9f\\x92\\x9d': 10421,\n",
       " 'daisydaytodayloveitflowersattitudedaisynature': 2402,\n",
       " 'eyesthoughð\\x9f\\x98\\x8dlovefreespirithippiehippypeacesmilepositivityâ\\x80¦': 3253,\n",
       " 'useruseruserthrowingwackoleftistssethnextyoulljoincodepink': 15161,\n",
       " 'alissagothit8yearoldstourney16yearolds': 457,\n",
       " 'userbesideslookslotnicerroombottomgardengardenbiggergardenâ\\x98º': 11754,\n",
       " 'appleannouncesyetanotherunderwhelmingslewuselessuiupdatesiphoneuserwantsneedscluelesswemissstevejobs': 744,\n",
       " 'useruserusershuckinandjivindemocraticpaywantvote': 15143,\n",
       " 'canthideexcitementteamdecidedgooppounityð\\x9f\\x92¯ð\\x9f\\x91\\x91ð\\x9f\\x92\\x9c': 1705,\n",
       " 'ivefinishedmarkinglastdemob': 5994,\n",
       " 'happiestpeopledontbestofeverythingdoesntmeanforevercausesadstoryhappyendingî\\x81\\x96î\\x81\\x96': 4887,\n",
       " 'babymeltsheasmilebabydaughter': 912,\n",
       " 'feelinlilpapayahealthyhealthyeatingnessfollowhashtagfruit': 3602,\n",
       " 'dontthinkillevercloseagainð\\x9f\\x99\\x84ð\\x9f\\x99\\x83ð\\x9f\\x96\\x95ð\\x9f\\x8f¼user': 2764,\n",
       " 'fatherhoodbstthngtatcudhapn2meampimgladsharevoicdwyanewadefathersday': 3347,\n",
       " 'didntlikehitleryouredefinitelygoingliketraitortrump': 2612,\n",
       " 'musictherapytoolhealingaltwaystohealhealthy': 7536,\n",
       " 'uservictimneedspointjokespaciba': 15379,\n",
       " 'feelrealizeneedstawhiteboardredodrupalcontenttypestaxonomiesdhsi2016': 3614,\n",
       " 'helpcreatesenvironmenttogethernessmutualrespectprerequisitessustainablehealthysociety': 5406,\n",
       " 'jaguarfpacecomingsoonð\\x9f\\x98\\x81jaguarstbjaguarstellenboschjaguarfpaceâ\\x80¦': 6021,\n",
       " 'necoreallycuzniggasknowwritingstillammakeepprayinggodalmight': 7602,\n",
       " 'ohdesperatelonelyhousewivespoohingifyouonlyknewtrollsecretsnyc': 8024,\n",
       " 'liberalsselfloathingdoesntmeanrestusweaponyellâ\\x80¦': 6474,\n",
       " 'longingskyâ\\x9d¤ð\\x9f\\x93·â\\x98\\x80picofthedaylovegirlinstapic': 6695,\n",
       " 'cenadecumplethanksmombrithdayhomefamily': 1883,\n",
       " 'congratsboyolusholamarriedlifegoodpeopleweddinginstanaijaweddingsâ\\x80¦': 2159,\n",
       " 'feelinglowagesonepersonwanttalkisntrespondingknowstheyreonlinefeelingcrapmehhhhh': 3579,\n",
       " 'finallygotphonefixedlikebrandnewphoneyaynomorecrackedscreenwhoa': 3691,\n",
       " 'userusergudnightspitajifatherdaygurujimsgapparelstoday': 14725,\n",
       " 'userlightspowertimetestingbusinessendbuildprocessdigme': 13163,\n",
       " 'sad': 9286,\n",
       " 'newsummerheateruserfeelgoodfridayfeelgoodmusicfeelgoodsummersummermusichousemusicedm': 7763,\n",
       " 'userbuffaloschooldistrictsbootstrumpallyracistcommentsbirdsofafeatherresist': 11887,\n",
       " 'useruserdearversacewontbuyyurretailsignpissedoffitalian': 14642,\n",
       " 'studyingparksfeelingcoolparkssummerfriendsstudyingexamsfuncoolâ\\x80¦': 10178,\n",
       " 'factsguideagreemotivation': 3276,\n",
       " 'rashfordlallanaenglandgoingwinthinkgarynevillemakingdecisionsinsteadhodgsonengwaleuros': 8934,\n",
       " 'gonegrosfarexpensivecommutebcdontcarð\\x9f\\x98\\x82useruser': 4392,\n",
       " 'todaylastdayjsmsmiddleschoolbittersweetfeelingleavinghappy': 10978,\n",
       " 'lastoneeveryounginstadailyqueeninghouseofolivehouseofoliveabujanigeria': 6290,\n",
       " 'userpayrichwhitesnobsviausertcottpc': 13657,\n",
       " 'repostusercreditusersuccessmoneymotivationloveâ\\x80¦': 9133,\n",
       " 'datewifenighoutroamingarounddinnersundaymotivatedmysecretlove': 2456,\n",
       " 'helpinglittlepeoplemanagebigemotionsfeelingsdisappointment': 5410,\n",
       " 'happydragonboatfestivalï¼\\x81chinesefoodchinesestylefestivalcostumechinesefestivalâ\\x80¦': 4996,\n",
       " 'tragicdeathbritishmpjoecoxserveremindercoolpoliticalrhetoricsidesdeadly': 11105,\n",
       " 'youvegottaidentifyproblemusolvenothingdoneusertalkaction': 16723,\n",
       " 'suitloveinstagoodtbtfollowphotoofthedayfollowmeboypicofthedayâ\\x80¦': 10202,\n",
       " 'userfeelsgooddancingnewprojectð\\x9f\\x92\\x83ð\\x9f\\x8f¼ð\\x9f\\x92\\x83ð\\x9f\\x8f¼ð\\x9f\\x92\\x83ð\\x9f\\x8f¼ð\\x9f\\x92\\x83ð\\x9f\\x8f¼ð\\x9f\\x92\\x83ð\\x9f\\x8f¼': 12402,\n",
       " 'userultimatelyjokeearly2016wishdidnttellalsowishdidntwelldidâ\\x80¦': 14512,\n",
       " 'usercantwaitseemondayuserusercabaretcruisegivingnorma': 11937,\n",
       " 'shotinsidepussyofficewoman': 9710,\n",
       " 'happenedhumanity': 4871,\n",
       " 'userwildfoodadaptationpeaceloveorganicvegan': 15516,\n",
       " 'itâ\\x80\\x99sroadalonerumiinspirationquoteinspirational': 5985,\n",
       " 'finduserlatinsuperfoundgemlocaluserdominicanblogger': 3755,\n",
       " 'firstperformancewentgreatimthestar': 3824,\n",
       " 'playingphilipaabergelegymusicsong': 8574,\n",
       " 'biggsteppingfalseflags': 1201,\n",
       " 'lovekefundayó¾\\x8c¬ó¾\\x8c¬lovekefundaycomingsoonyololovinglifehjó¾®\\x9eð\\x9f\\x8f½': 6865,\n",
       " 'ð\\x9f\\x98\\x94famousfoundersremainedceocompany': 17166,\n",
       " 'userwowgetblessedincrediblesensehumorgratefulblessedwowd1bound': 15604,\n",
       " 'layholidayclothsflorida2016disneyholiday19days': 6361,\n",
       " 'thankfulcomputersthankfulpositive': 10500,\n",
       " 'useranyoneelsetittytuesdaycheckamp': 11668,\n",
       " 'usergoodmorningbeautifulworldtime2getready4awesomeweekendlivepeacefulnatureanimals': 12615,\n",
       " 'thankfulindependencethankfulpositive': 10545,\n",
       " 'wowgiveaway': 16509,\n",
       " 'ð\\x9f\\x94\\x9dloveinstagoodphotoofthedaytoptagstbtcutebeautifulfollowmefollowâ\\x80¦': 17129,\n",
       " 'wishwonderfulfridayfridaycitynycnewyorkinteriordesignwellnesshealthspace': 16331,\n",
       " 'imeasilyamusedhahahappyqueen20poundnotepoundsopticalillusioniandrewmusic': 5731,\n",
       " 'userthingsstraightpeoplesayingregardspulsenightclubshooting': 14350,\n",
       " 'coldplaytomorrownightwembleystadiumwembleystadiumcoldplayaheadfullofdreamstourð\\x9f\\x8e¤ð\\x9f\\x98\\x8a': 2090,\n",
       " 'thankfulvacationdaysthankfulpositive': 10608,\n",
       " 'lostbetfriendchangepictureweek': 6792,\n",
       " 'fabkitchencheckletsgohomeð\\x9f\\x99\\x8bð\\x9f\\x8f¼ð\\x9f\\x98\\x8ecleankitchenteamuseruseruseruser': 3258,\n",
       " 'awwwbeautifulsongchemicalromanceliterallystaedcrylisteningitð\\x9f\\x98¢ð\\x9f\\x98\\x94ð\\x9f\\x92\\x8bð\\x9f\\x8e¶': 869,\n",
       " 'timenextweekillworkingnewjobð\\x9f\\x99\\x88ð\\x9f\\x98³terrifieddontwanttogrowup': 10893,\n",
       " 'useruserimagineblackpeoplelookingfnhandoutpathetic': 14753,\n",
       " 'useruseryouvenailedseasonuserpenepisodeelevatesonestep': 15358,\n",
       " 'endalwayswrongwhenyourenotrightinyourheaunwanteduseddamagedunstable': 2984,\n",
       " 'usersingingmakesð\\x9f\\x8e¶ð\\x9f\\x98\\x81ð\\x9f\\x91\\x8d': 14054,\n",
       " 'useruserbrilliantlyadveisingpercypigsmarshall': 14605,\n",
       " 'peoplefeelmotivatedstressfreedrivescompaniesachievetargetsgoals': 8392,\n",
       " 'secretboutitjesuschristunashamedlylovesampwantsmakeheavenjesusempowersampsavesaskinstadailyalonelonely': 9506,\n",
       " 'userneeddifferentwordaltogetherdefineshatredwhitesandormensatisfyhatefulppllike': 13469,\n",
       " 'greatestgiftevercamegodcalldadó¾\\x86\\x9fó¾\\x86\\x9fó¾\\x86\\x9ffathersdayó¾\\x86\\x9fó¾\\x86\\x9fâ\\x80\\x94feelingproud': 4721,\n",
       " 'cannotwaitshownewsongsstudionextsinglelondonmanchester': 1655,\n",
       " 'hindusenacelebratingmessihasbihdaydelhimessihatalkingkickingindiansamerica': 5489,\n",
       " 'happycompetitorgrandfinallct16comitmentdeterminationuser': 4983,\n",
       " 'knowledgeableiampositiveaffirmation': 6202,\n",
       " 'loverstopangryvisitusgtgtgtloverfriendastrologerlove': 6930,\n",
       " 'nailswaggroostersimulationwantclimbvastexpansemountainsreachedleakagecock': 7559,\n",
       " 'sicknewsflorida': 9739,\n",
       " 'userfeminismiscancerfeminismisterrorismfeminismmuktbharatmalevoteignoreduser': 12406,\n",
       " 'ð\\x9f\\x93¸ð\\x9f\\x93¸ð\\x9f\\x93¸ootdwiwtmetodayfwisfashionswagfringedayoffgooddaylovejapantokyobeautifulâ\\x80¦': 17121,\n",
       " 'honestiampositiveaffirmation': 5551,\n",
       " 'goodnightð\\x9f\\x92¤ð\\x9f\\x98´tomorrowismondayð\\x9f\\x98©5hardweeksuntilsummerð\\x9f¤\\x90': 4531,\n",
       " 'beliefstrongerdoubtimblessedliftedgiftedfavoredgracedâ\\x80¦': 1108,\n",
       " 'usersupposedlytauntondidntcrosspathswhitchenslastyearanotherreligionclaimingdeaddespicable': 14204,\n",
       " 'waitingseewonderfuluserliveqpacwootlivemusic': 15862,\n",
       " 'tylerperryclaimsâ\\x80\\x98reverseracismâ\\x80\\x99criticstlcseriestylerperryclaimsreversecriticsâ\\x80¦â\\x80¦': 11299,\n",
       " 'userquoteslatenightscryingdnessneverwithoutcriticized': 13793,\n",
       " 'britishroyalsqueenampdukeedinburgharrivestpaulslondonqueenat90thanksgivingserviceâ\\x80¦': 1544,\n",
       " 'enjoyedsunnyweatherchurchillcarihangoftencutiesyegâ\\x80¦': 3010,\n",
       " 'happymultipletwinsð\\x9f\\x99\\x82flowerssummerrotheatheropfleurenrotterdam': 5144,\n",
       " 'wintermenucomingsoonthegrovenewmenupieslambshankspasta': 16289,\n",
       " 'dearunbornchildrenkenyamyhumbleadviceformessencecreationpleaselearnhustledebtsawait': 2531,\n",
       " 'coolð\\x9f\\x98\\x8aâ\\x9d¤ï¸\\x8fhealthyheatherfitzpatricksmilelifeisgoodinterestingi95': 2204,\n",
       " 'lovedhearingvoicesaturdaynightâ\\x99¡hopeful': 6828,\n",
       " 'suppohillarylovesgaysmuchtakesdonationscountrieskillussad': 10301,\n",
       " 'ð\\x9f\\x92\\x81ð\\x9f\\x8f»ð\\x9f\\x92\\x81ð\\x9f\\x8f½ð\\x9f\\x92\\x81ð\\x9f\\x8f¿ð\\x9f\\x92\\x81ð\\x9f\\x8f¼ð\\x9f\\x8e\\x80ð\\x9f\\x99\\x8cð\\x9f\\x8f¼ð\\x9f\\x92ð\\x9f\\x8f¼ð\\x9f\\x91\\x84ð\\x9f\\x91ð\\x9f\\x91\\x99ð\\x9f\\x91\\x98ð\\x9f\\x92\\x84ð\\x9f\\x92\\x8bð\\x9f\\x91ð\\x9f\\x92\\x8dlovemeinstagoodfollowphotoofthedaytagsforlikebeautifulselfiegâ\\x80¦': 17086,\n",
       " 'useruseryasssssscantwaitseegirlsdumblondemafia': 15339,\n",
       " 'userpalineupuserfestsaturdayhendersonkyâ\\x80¦': 13640,\n",
       " 'seeprettiestgirlsstripsmokinggoodasscigarettesfacesmh': 9553,\n",
       " 'weekendfinallyusertomorrow': 16084,\n",
       " 'smhcanttakeonesidedstandards': 9839,\n",
       " 'fathersdayloveudad': 3433,\n",
       " 'useruseruserfridaytiinafunð\\x9f\\x8c\\x9fâ\\x98\\x80ï¸\\x8fð\\x9f\\x8c\\x9f': 15065,\n",
       " 'summerscreenshotsummerisbetterottawaottawaigersottawaontario': 10222,\n",
       " 'happygirlsprettiestvscocamvscocamphvscocamphotosinstagramchateaudeâ\\x80¦': 5099,\n",
       " 'useruser1gethouseorder2returningstolenlandhypocriteliarinhumaneâ\\x80¦': 14535,\n",
       " 'wonderfulworldâ\\x9d¤ï¸\\x8fó¾\\x81\\x86ruthuteandouser': 16374,\n",
       " 'userdailybeautytipshealthtipsurdupoetrypoetrylovepoetrynewghazalsampjokeskyliyefollowuser': 12102,\n",
       " 'usercantwaitwatchusereveryoneuserevening': 11943,\n",
       " 'loveneverhappyotherswrongalwaystruth1cor136': 6913,\n",
       " 'laughmuchproblematicaffectsperceivedproductivitybrilliantwednesdaywisdomgiggles': 6346,\n",
       " 'psaageinformationtrueethnicitybiblicalpeoplecausedoverlapandâ\\x80¦': 8799,\n",
       " 'â\\x86\\x9dnikkei225seesreliefrallyaheadfedblogsilvergoldforex': 16902,\n",
       " 'sitbacksomeoneelsecleanteethregularcleaningsimpoanttruth': 9807,\n",
       " 'farhadluxuryaccessoriesitalyromatopmilanorockhappinessmodemodabagâ\\x80¦': 3327,\n",
       " 'feelslikefridayreallythursday': 3618,\n",
       " 'secondroundbeatingdebakkerhardworkpaysoffatpchallengeourfightâ\\x80¦': 9505,\n",
       " 'goingconceguychecksgoessecurity2gunswtfripchristinagonetoosoon': 4355,\n",
       " 'knewnothingretailreallyidealcandidatebuylargechaindepamentstoresð\\x9f\\x99\\x84chappell': 6187,\n",
       " 'theresalwaysreasonsmilelovelovelycutexoxo': 10725,\n",
       " 'useranimaladvocategohashtagmilkampyoullseedairypropagandarealcowsgentleâ\\x80¦': 11642,\n",
       " 'beachybullhillclimbreachtargetcompletetasksurvivestrongexcitem': 1034,\n",
       " 'ampgratefulmoneycomesincreasingquantitiesmultiplesourcescontinuousbasis': 625,\n",
       " 'userlickingwoundsegomutteringcursesuserstealingspotlightrevolution': 13153,\n",
       " 'usercozvidsdontmeanwohwotchinghilariousmustwatcâ\\x80¦': 12074,\n",
       " 'happierkimserafini': 4883,\n",
       " 'usercountdown1hourlefttilluserexcitingannouncement': 12060,\n",
       " 'elegantgorillasimulatorneedadaptenvironmentneedtearcitymateria': 2958,\n",
       " 'userfangirlreadyopenedfacebookaccountchatusertracytomorrowfangirl': 12349,\n",
       " 'gudmorningphillppinesindependenceday': 4786,\n",
       " 'ð\\x9f\\x92\\x97todayscoordinateð\\x9f\\x92\\x97fashionmakeupplumeriahawaiicoordnicelikeloveð\\x9f\\x92\\x97â\\x80¦': 17099,\n",
       " 'useruserbeginning2endseecoming2endway': 14581,\n",
       " 'ð\\x9f\\x98\\x84toptagsdaystoptagsdaysmilefuninstahappygoodmoodsohappyâ\\x80¦': 17148,\n",
       " 'seriouslyslow2016savesuckinessfutureyearsgeezripantonstarekgeeknerdnews': 9612,\n",
       " 'openmindsonesstopbarbarichatevideogavegoosebumps': 8210,\n",
       " 'sundayfoodporndÃ\\xada73staystrongfitnessfatnesschocolatenutritionloveâ\\x80¦': 10244,\n",
       " 'heabreaksthinkdesperatekeepingmilesevenbetlottery': 5293,\n",
       " 'wantedsayhappyfathersdaydadheavendadcancerlostfightheaven': 15940,\n",
       " '3massivegamestoday4dayweekendanyonebeerpizzaengvwal2pmnirvukr5pmgervpol8pm': 207,\n",
       " 'dogbluecongestivefailuretreatingmedicinehoweverwayfixdogsbrokenhea': 2680,\n",
       " 'somethinglearndaytrustinstinctsaveserveâ\\x80¦': 9930,\n",
       " 'blueskysunohwevemissedusersunyaypei': 1416,\n",
       " 'funfloatingtubelakesummer': 4103,\n",
       " 'losingteethgrowingpineapplesð\\x9f\\x8d\\x8dsummersaturday': 6786,\n",
       " 'newvideopiecetoastyoutubefollowgamerlifegamingchannel': 7782,\n",
       " 'sikhtemplevandalisedcalgarywsocondemnsact': 9756,\n",
       " 'userdearestalmightyusergplzeradicatesavageryentireworldverysooncollegeofspirituality': 12127,\n",
       " 'thankfulhonestconversationsthankfulpositive': 10538,\n",
       " 'ohgetfrontwellyesokgorightaheadterikauserisntsayinganythingafflumazingð\\x9f\\x98¡': 8028,\n",
       " 'seriouslyimgoinggohulkmodeminutetosserboyfriendhulksmashfuckthisshit': 9606,\n",
       " 'lastshothotelstayedweekendbackgrindgratefulhealthyfunwreekend': 6291,\n",
       " 'userflipflopdayð\\x9f\\x92\\x9fð\\x9f\\x92\\x9fmayflippingfloppingawsomesuccessfuldayð\\x9f\\x98\\x8eð\\x9f\\x8e\\x88ð\\x9f\\x8e\\x80ð\\x9f\\x8e\\x88ð\\x9f\\x8e\\x80ð\\x9f\\x8e\\x88ð\\x9f\\x98\\x8e': 12459,\n",
       " 'windows10splitscreenbrowsertechiesgig301': 16281,\n",
       " 'peoplesaywannahear': 8417,\n",
       " 'ð\\x9f\\x91«friendfriendsfunnyfriendshipchillcutebestbestfriendbestfriendsgoodfriendsbestiesmemories': 17077,\n",
       " 'outdoorpicturesuseruserukconstructioneventusertestingnewcartodayuser': 8266,\n",
       " 'anyonehelplikehoursð\\x9f\\x98\\xadnetflixnetflixissue': 729,\n",
       " 'moviescenesbulldominatebulldirectwhateverwant': 7479,\n",
       " 'littlestthingsmeanð\\x9f\\x98\\x8a': 6623,\n",
       " 'thanksbitchsparkleslovesappreciatestrustfindomcashgoddessgoodluckgoodfoune': 10637,\n",
       " 'userallahsoilmuslimshateamericaemiratis2016in4words': 11574,\n",
       " 'userfeltlawrencefishburnaddedmagicalnegrohollywoodstereotypesmadeuser': 12405,\n",
       " 'userthankfullifeâ\\x80\\x99schallengesthankfulpositive': 14272,\n",
       " 'hellovote': 5393,\n",
       " 'fathersdaymaketrendypappiestylisharmchaircosychairdesignergiftâ\\x9d¤ï¸\\x8fuser': 3438,\n",
       " 'fathersdayeveryonemayfilledloveabbafathertodayabbafamilyrevival': 3396,\n",
       " 'sexstoriesnsporn': 9656,\n",
       " 'lookð\\x9f\\x99\\x84popeyevillagemaltaigersgirlinstamoodwomanpopeyvillagemalta': 6776,\n",
       " 'readydanceofficiallysayâ\\x80\\x9cmypublisherâ\\x80\\x9d': 8968,\n",
       " 'thankfulbedthankfulpositive': 10482,\n",
       " 'userthanksrecentfollowuseruserusergratefulconnectsunday': 14303,\n",
       " 'happysatnitehppygirlsð\\x9f\\x98\\x89ð\\x9f\\x98\\x9bð\\x9f\\x98\\x8að\\x9f\\x92\\x8bð\\x9f\\x91¯satnightgirlsnightjalanjalanmenâ\\x80¦': 5162,\n",
       " 'userfedsprovideinadequatementalhealthcarefirstnationsinternalmemothirdworldcanada': 12390,\n",
       " 'sometimesfeelwannahousewifehaventfoundperfecthusbandyet': 9943,\n",
       " 'feelingrnpainhuð\\x9f\\x98\\x9eð\\x9f\\x98\\x9ehatecrying': 3590,\n",
       " 'hebbulimodispeechà²\\x9cà³\\x80à²µà²¨à²¸à²¾à²°à³\\x8dà²¥à²\\x95usernuserfeelsproudnluckyenoughfr1sttimebornluckyhappiness': 5358,\n",
       " 'missedcutecostadates': 7328,\n",
       " 'happysundaygoodpeopleð\\x9f\\x99\\x8cjesusblessusð\\x9f\\x98\\x87sundaywomansundaytodayâ\\x80¦': 5171,\n",
       " 'strollingfriendscoldnightâ\\x80¦': 10162,\n",
       " 'usergoogletwitterfacebookcreatedorwelliannightmare': 12635,\n",
       " 'useruseranyoneflyingglasgowphiladelphiapoland26thjuneð\\x9f\\x8c\\x8fâ\\x9c\\x88â\\x9c\\x88ð\\x9f\\x97½campadams': 14565,\n",
       " 'tomhiddlestondaytomdaysaturdayampweekend': 11028,\n",
       " 'userseehillarygotinspiration12000jacketð\\x9f¤\\x94ð\\x9f\\x98\\x82': 13977,\n",
       " 'useruserampdemocraticpaykeepstellingblmseechicagodetroitampeveryinnâ\\x80¦': 14562,\n",
       " 'thanklordbeautifuldayð\\x9f\\x8c¤ð\\x9f\\x8c\\x9eð\\x9f\\x8cð\\x9f\\x99\\x8fð\\x9f\\x8f»ð\\x9f\\x99\\x8fð\\x9f\\x8f»ð\\x9f\\x99\\x8fð\\x9f\\x8f»wednesdaymorningblessedâ\\x80¦': 10621,\n",
       " 'tontodikesharesphotosonwishesâ\\x80¦globalnewsbihdaydike': 11070,\n",
       " 'usershockedignorance': 14029,\n",
       " 'orlandoloveones': 8239,\n",
       " 'feelinghungrysciencesaysnormaltipsforlifehealth': 3572,\n",
       " 'useruseruserdemspackinghousecrossingvoteopenprimariesgone': 15047,\n",
       " 'getworldkeepsspinning': 4245,\n",
       " 'peoplebelievebrexitmeansimmigrationvoting': 8377,\n",
       " 'usersgrowingfast1business3incomestreams5minutesperdayclickmouse': 14016,\n",
       " 'cheekywritingsessionuser': 1953,\n",
       " 'sadhearuserkeepsingingladybeautifulð\\x9f\\x98¢': 9307,\n",
       " 'getsarajevointlairpoemployeetellshescarlosbaccalooktannedskinpriceless': 4204,\n",
       " 'takingmoonriseuserusernextweeksecondoutingnewbooks': 10365,\n",
       " 'wellimseeingblacksabbathjanuaryhappythursdayð\\x9f\\x98\\x81blacksabbath2017metal': 16148,\n",
       " 'losamobihday': 6780,\n",
       " 'thinkillthinkpackingholidaycaribbeantomorrowtodayimrestingholidaygrenadauser': 10772,\n",
       " 'yangpentinghappyð\\x9f\\x98\\x82ð\\x9f\\x98\\x82ð\\x9f\\x98\\x82instagoodphotoofthedaytbtcutebeautifulfollowmeâ\\x80¦': 16566,\n",
       " 'ð\\x9f\\x8c\\x8euseruserteamnewmcuserampshowphillysuppophillyampcombat': 17030,\n",
       " 'stumblegetbackgetbackupstumblelivefreeloveoftenbefreebehappy': 10182,\n",
       " 'growcute': 4778,\n",
       " 'talkingmakesracismworstlogictalkingtalkingracismmakesworstmakesworst': 10373,\n",
       " 'closepersonalgusterfirefly2016fireflymusicfestivalfireflymusicâ\\x80¦': 2064,\n",
       " 'famgotpayraise': 3295,\n",
       " 'americansdisplacedhomestreetswakeupamericaamericafirstusermaga': 613,\n",
       " 'briskandvagabondeyeopener2007enviromentalproductng076web2007ukhxintnextgenerationwebhâ\\x80¦': 1541,\n",
       " 'lovedresservendor18724900shopalyssasupsideoffloridacustom': 6832,\n",
       " 'usersomethingmakeshappy5secondsretrainbrainhappiness': 14080,\n",
       " 'lightroombulldominatebulldirectwhateverwantyo': 6526,\n",
       " 'believeâ\\x81°musiclovecelinedionjustinbieberrihannadrakearianegrandeâ\\x80¦': 1116,\n",
       " 'fathersdayenjoythanksfollowingmeanslottomuserspecialdaytoday': 3395,\n",
       " 'userallahsoilproblemthereâ\\x80\\x99sspacealternativeexplanationsâ\\x80¦': 11584,\n",
       " 'happydoesntmeanforevertheressadstodoesntmeanforevercausesadstoryhappyendingî\\x81\\x96î\\x81\\x96': 4994,\n",
       " '14thdayramadansunday': 58,\n",
       " 'ticketsuserliveusernovembersoed': 10866,\n",
       " 'lovefavouriteitemclothingcomfy': 6839,\n",
       " 'gotuserhampertodaythankmuchmake': 4662,\n",
       " 'paulbeloystillissuevaryinglevelsbelgianfootballuser': 8347,\n",
       " 'goodbooktarabookbuddhistbuddhastibetanrinpochetulkufavouritewisdomstsemtulku': 4412,\n",
       " 'useruserprogrammeexcitementstas14thjulycantwaitfilmfestivalindianindiecinemalondonexâ\\x80¦': 14900,\n",
       " 'reallylovelybihdayspoiltfamilylovebihday': 9026,\n",
       " 'excitedgetseelittleladyhourstomorrowâ\\x98ºï¸\\x8fdefinitelymadedayfeelingpositive': 3204,\n",
       " 'happyweekendeveryoneð\\x9f\\x8e\\x89ð\\x9f\\x98\\x8ealamodefridayweekendfashionaccessoriesfridaymorningstyletrendy': 5204,\n",
       " 'mayencountermanydefeatsmustdefeatedlifequotes': 7212,\n",
       " 'babiesdreamveronalightweightstrollernavybluebouncingbaby': 886,\n",
       " 'userjuvenileharvestcelestialchurchchristworldwidekÃ®Ã±gÃ§hiÃ±kÃ¸happyblessedampfilledjoy': 13063,\n",
       " 'â\\xad\\x90â\\xad\\x90â\\xad\\x90â\\xad\\x90â\\xad\\x90reviewstacykripasbeautifulworkscarfkaterynag': 17012,\n",
       " 'smallshiftscommunicationhelpget': 9834,\n",
       " 'peppapigbirdsfingerfamilynurseryrhymeslyricsviauser': 8431,\n",
       " 'fathersdayfathersdaysayingquotesimagesbuythingshappyfathâ\\x80¦': 3405,\n",
       " 'comemoneyearngetgivenfreeironicarmthehomeless': 2109,\n",
       " 'happyð\\x9f\\x8c\\x9fð\\x9f\\x8c\\x9fð\\x9f\\x8c\\x9fð\\x9f\\x8c\\x9fð\\x9f\\x8c\\x9flifeisgoodtodaywasagoodday': 5219,\n",
       " 'stormcalmingimstaingseecoloursrainbow': 10139,\n",
       " 'summeimeglyfadaathenshotfunfriendscoffeeperse': 10206,\n",
       " 'appalledserviceivereceivedwontshoppingjohnlewisjohnlewisuser': 736,\n",
       " 'superiampositiveaffirmation': 10297,\n",
       " 'lookingforwardtripusertomorrowlittleonefriendsð\\x9f\\x91\\x8dð\\x9f\\x8f¼â\\x98\\x80ï¸\\x8fð\\x9f\\x90ªð\\x9f\\x95·ð\\x9f\\x90§ð\\x9f\\x90\\x92ð\\x9f\\x90\\x84ð\\x9f\\x90\\x94ð\\x9f\\x90®drusillasdaywithfriendsð\\x9f\\x92\\x97': 6735,\n",
       " '60powerfulminutesfreepodcastanxietystresslifesuccessnowplaying': 278,\n",
       " 'gotdesignreadygoprintarencyshisreadyprinted': 4602,\n",
       " 'userpersonobviouslydoesntvaluelookspersonalityresostealingsomeoneelseidentity': 13681,\n",
       " 'usergladsharingbihdayð\\x9f\\x8e\\x82tupacpleaseplaythugsmansiontupacbihdaytupac': 12573,\n",
       " 'nationalbestfriendsdayð\\x9f\\x91\\x8cð\\x9f\\x8f»â\\x9d¤ï¸\\x8fð\\x9f\\x94\\x90': 7573,\n",
       " 'craziestpeoplesð\\x9f\\x98\\x81ð\\x9f\\x98\\x81motivation': 2292,\n",
       " 'useruthinklikegodcominggodkeeping': 15370,\n",
       " 'userhappyweekendð\\x9f\\x98\\x8aâ\\x9d¤cyclecyclingbicycleweekenduk': 12800,\n",
       " 'userivesigneduserolympicdistancetimestaserioustraining': 13031,\n",
       " 'jumphighjumphighlaughterfriendsgoodtimeschildrenmom': 6089,\n",
       " 'userfathersdaynfatherpasssedawayhey': 12371,\n",
       " 'isnttargetillegalsandorcriminalsplaincommonsenseð\\x9f\\x98\\x98useruseruser': 5974,\n",
       " 'strongshallsurviveð\\x9f\\x90±starwarslifesadambivalent': 10165,\n",
       " 'userojmadeinamericatragicampfascinatingmarcusallensexliesnegosguessfayeresnicktoldtruthonehuh': 13571,\n",
       " 'glassmarblesawarrivedboxhalfsizecar': 4306,\n",
       " 'sevenrulesrightdecisionsâ\\x96¸faitheducationchristian': 9629,\n",
       " 'indeedfathersdaygodblessdad': 5881,\n",
       " 'bestfacetimetodaycantwaitseeboywednesdayheshomeð\\x9f\\x98\\x8dweremissinghim12daystoolong': 1137,\n",
       " 'angrybirdsstellaforkfriendshipbirdsstellaforkfriendshipbirdsstellaforkinâ\\x80¦': 654,\n",
       " 'beautifulsilverplatedcrystalchandeliers4499pairvendor43shopalyssas': 1066,\n",
       " 'episode6bringpeakyblinderscantwait': 3053,\n",
       " 'ð\\x9f\\x98\\x94thailandweakestaseaneconomy2016â\\x80\\x93worldbank': 17188,\n",
       " 'swimheað\\x9f\\x8f\\x8aswimpoolsailingyourheafree': 10339,\n",
       " 'agenumbermoveaheadwakowappsposplaybuddylaunchagelessageisjustanumber': 420,\n",
       " 'stepmomonesaddestfilmseverð\\x9f\\x98¢useramazingactressbeautifulchickflick': 10094,\n",
       " 'muchfunð\\x9f\\x91ð\\x9f\\x91blacklightslidesandiegofunhappinesslivelivelifelaughâ\\x80¦': 7507,\n",
       " 'couldntsleepnightbridalshowerworldgoingsleepdaywedding': 2228,\n",
       " 'userproductsgivelifehaventfeltamazingyearsð\\x9f\\x92\\x99healthy': 13767,\n",
       " 'selenaselenaquintanillaretweetyourefridaysmileselenastyle': 9573,\n",
       " '10habitsreallycouples': 13,\n",
       " 'internalizedhomophobiarealoptionsick': 5925,\n",
       " 'illnessaskedð\\x9f\\x90¾': 5682,\n",
       " 'couplesexswimwearfreeporn': 2261,\n",
       " 'whenemydeployedgoogleillegalmanipineufinedbastards35billmanipulationlawlessness': 16221,\n",
       " 'liferemotegetchangesuccesscareer': 6515,\n",
       " 'bihdayuseruserraysup': 1308,\n",
       " 'userloadedcarlastnightsadnewadventure': 13202,\n",
       " 'useruseruserbrithdayjj': 15033,\n",
       " 'â\\x86\\x9dintermarketanalysisgoldextendsgainssafehavendemandblogsilvergoldforex': 16883,\n",
       " 'useruseruseruseruseruseruserusersundayhugs': 15262,\n",
       " 'userpureyogaharmonymindfulnesshappinessyogayogaloveyogalifeyogaeverywhereâ\\x80¦': 13789,\n",
       " 'generalpullpingrenadeposeselfie': 4163,\n",
       " 'neverunderstandpeoplecolorbecomewealthyachievefamemessfaceplasticsurgeryð\\x9f\\x98¢ð\\x9f\\x92\\x89ð\\x9f\\x9a\\x91': 7677,\n",
       " 'pleasewaitlikeitfollowbackbmamperbigmouthamperloveitmomentâ\\x80¦': 8607,\n",
       " 'userwonderfuluserdennisgrubestaangeslgbtiseminar': 15546,\n",
       " 'onedepressionfunkstonightlaidbedalmost7hourslisteningheavymetalspacingtiredsad': 8141,\n",
       " 'lampheadseefragilesawliâ\\x80¦': 6257,\n",
       " 'lyinguserdisingenuousexcusesdeviantremarksmichelleampbarackobama': 7006,\n",
       " 'tragicdaughteralreadyinspiredthevoiceripchristinacoverspianorolemodel': 11104,\n",
       " 'usereasylikesundaymorningzenabstractphotographyoceanbeachbelizepeace': 12252,\n",
       " 'bullshitthrownmuslim': 1584,\n",
       " 'cameoscootingschoolloveexpressionscootingfun': 1633,\n",
       " 'harrypotterticketsarriveduserharrypotter': 5257,\n",
       " 'happythoughtshappylivesvisualizewantworktowardgoalsdontgiveuplifeisgood': 5183,\n",
       " 'sayingsoonsceneepisodeoitnblostinterestshowoitnbpissedmadupset': 9442,\n",
       " 'hopekochiwouldonevenuesseriesnzauszimuser': 5572,\n",
       " 'literatepolarbearclimbracingangrypolarbearclimbracingpolarbearlivingcoldplacesloo': 6599,\n",
       " 'userseedmplzlonley': 13974,\n",
       " 'userspoilersgooddinosaurthingfuckingsadfunnythegooddinosaurthefuck': 14111,\n",
       " 'everyoneaccusedguiltyrapehorriblethingfalselyaccusingsomeonebadtruth': 3132,\n",
       " 'knowlovecoldâ\\x9d\\x84â\\x9b\\x84â\\x9d\\x84dreamsspbrazilvscovcsocamvscobrasilvscophotoâ\\x80¦': 6203,\n",
       " 'girlcodedoesntevenexistanymoreranthelplessgirlwishiwasbetteritcouldvebeenmefuck': 4266,\n",
       " 'useryaycongratsusergreatalbumnumber1rickastley50': 15627,\n",
       " 'userâ\\x86\\x9deurgbptrimsgainsback07950blogsilvergoldforex': 15712,\n",
       " 'lookwhatsarriveduseruseruseruseruser': 6771,\n",
       " '3hoursgomusicvideoreleasedmusicedinburghscotlandbandusermusicvideouser': 205,\n",
       " 'userthanksusertravelairplanecustomerservice': 14313,\n",
       " 'checkuser25popularhashtagsinstagram9useruser': 1945,\n",
       " 'ð\\x9f\\x91\\x94happyfathersdayð\\x9f\\x91\\x94fathersdayfunsummerhotbeerfoodgrillbeachdaddyâ\\x80¦': 17076,\n",
       " 'btchtrickanybodyð\\x9f\\x98©uevenknohoesfr': 1568,\n",
       " 'hardcorevinylsbestasianpornsite': 5247,\n",
       " 'bout24hrs2gob4gaaftershocksalcatrazmrbusersuperluvupdatesgonnabcreepyð\\x9f\\x98±ð\\x9f\\x91»': 1476,\n",
       " 'useruserlookingforwardseeingnewbusinesscards': 14805,\n",
       " 'usermustlittlefaithcampaignyoureusingfearamptragedywinvotestrumptler': 13451,\n",
       " 'â\\x86\\x9dnzdusdawaitingcatalystfedbreakingkey504hrsmablogsilvergoldforex': 16903,\n",
       " 'userbrokenheabrokenlonelynessbroken5116': 11880,\n",
       " 'negatelasttweetwhateverend': 7634,\n",
       " 'keepmarriagehealthyampwatch4signsproblematicconflictviauser': 6126,\n",
       " 'userbillygoattrailoutdooreducationflashbackstodaynopedayslovemylifeâ\\x80¦': 11822,\n",
       " 'watchedfirstfullepuserpanerhookedhilarioususerlaughter': 15995,\n",
       " 'userobviouslybestð\\x9f\\x98\\x8dseemonterrey37daysteamspð\\x9f\\x98\\x86': 13546,\n",
       " 'playingarcdovesspeaklowmelancholymelancholymusic': 8533,\n",
       " 'greensbullhillclimbreachtargetcompletetasksurvivestrongexcitem': 4767,\n",
       " 'saturdaygtuserampuserampuserampuserltfollowsigamnos': 9393,\n",
       " 'ummthirdpresidentalelectionstakeplace2days': 11354,\n",
       " 'userfeelfestivalopeningfridaywinwritersfest': 12392,\n",
       " 'wayð\\x9f\\x98\\x8að\\x9f\\x98\\x8að\\x9f\\x98\\x8a': 16050,\n",
       " 'hopeseeshowfeministreproductiverightsbihcontrol': 5574,\n",
       " 'orlandoorlandorip': 8241,\n",
       " 'userimthankfulvoteleaveeuremainteamrightbrexitwontchangeimmigrationnocontrol': 12987,\n",
       " 'greatsensehahaspendbeermoneystaylocal': 4746,\n",
       " 'playingyukimuratamorningmusicsong': 8588,\n",
       " 'yearleavinguserreceiveddemandÂ£12toldleftpaidnowfuckoffnevercomingbacktosky': 16600,\n",
       " 'cheersfriendsfriendshipneverendsnicaraguaamigosfelizjoejoepalaciosxjpx': 1958,\n",
       " 'lukefatherdahvaderlukestarwarswatchselfielikel4lfilmlaserena': 6989,\n",
       " 'usermightlibtardlibtardsjwliberalpolitics': 13405,\n",
       " 'zumbadaykeepsusalldayallthewaythankyouâ\\x80¦': 16746,\n",
       " 'makesunshinedaybrunchmimosabubblysunshinechampagnesparklingsundaycheerstoastfizzy': 7095,\n",
       " 'user27smsssentcashcountcall': 11462,\n",
       " 'userpreorderedusertrulyhappybabybooktodayð\\x9f\\x91¶ð\\x9f\\x8f¼newmummy': 13749,\n",
       " 'truehappinesscomedytoyfunnynotfunnymatttookthisonenotreallyemotionalwreckâ\\x80¦': 11155,\n",
       " 'imlovingbreakimrightð\\x9f\\x98\\x81': 5793,\n",
       " 'settingwdcamazingthingsawardswdcouncilachievement': 9628,\n",
       " 'taggspecialpersonlifelovenessiewilliamzdansomanssnitflats': 10350,\n",
       " 'mickeymouseâ\\x9d¤ï¸\\x8fâ\\x9d¤ï¸\\x8fmickeymousemagickingdomwaltdisneyworldwaltdisneyworldorlandoâ\\x80¦': 7284,\n",
       " 'nothingwrongbitselfbeliefð\\x9f\\x98\\x84ð\\x9f\\x92ªfitnesshealthyloveyourselfbelieveâ\\x80¦': 7958,\n",
       " 'gamegoingepiczeldae32016gamernerd': 4142,\n",
       " 'gottasaybestcardevergottenlifefatheobefathersdayseptember': 4649,\n",
       " 'usersummercrazyalreadytellimgoingstaywayshowfacemanyeâ\\x80¦': 14179,\n",
       " 'foundsoulmatedidntterrible': 3942,\n",
       " 'â\\x86\\x9daudusdsmacrossarguesmovehigherblogsilvergoldforex': 16809,\n",
       " 'â\\x86\\x9dglobaleconomyremainsanxiousbrexitdecisionapproacheswellsfargoblogsilvergoldforex': 16878,\n",
       " 'lifemeasurednumberbreathstakemomentstakebreathawaymayaangeloulovewomen': 6510,\n",
       " 'horsepowerbulldominatebulldirectwhateverwant': 5579,\n",
       " 'bestofthedaypolarbearclimbracingangrypolarbearclimbracingpolarbearlivingcoldplaces': 1158,\n",
       " 'lookslikeanotherselfrighteousfuckinpsycoreposgayclubprobablyreligiousnutjobsmh': 6761,\n",
       " 'top5violentcitycasewegobetter': 11077,\n",
       " 'sonsgrandsonsmomgrandmaakagigi67momabrownlove': 9966,\n",
       " 'hillaryclintoncallshomophobicmisogynistreallymeansjealoususerwhâ\\x80¦': 5487,\n",
       " 'wannafuckedid13479meet': 15916,\n",
       " 'useruserfollowihopewellworld': 14688,\n",
       " 'userhappycustomerserviceð\\x9f\\x98\\x9eoverchargedorderampyouveunhelpfulfarloyalcustomer': 12763,\n",
       " 'okstephyourestillnumberoneheaevenlebronactuallynumber1warriorswarriorscomeoutandplay': 8083,\n",
       " 'usertodayperfectdayhappinesslifecoachreinventimpossible': 14405,\n",
       " 'userbihdaybigguy': 11789,\n",
       " 'userconfettimakeshappypharrellwilliamsfeelinhappyconfetticustompaydecor': 12027,\n",
       " '101followersaway4000thanknewfollowerssomethinghugehappeningxgamerrevealedsoon': 12,\n",
       " 'jakesiskosavescaptainsiskods9starekseason4beststartrekepisodeevertearjerkerfamilyawww': 6022,\n",
       " 'userliberalbelievespayinclusivitybelievesequalityanywheretraâ\\x80¦': 13149,\n",
       " 'herbalsleepremediesworkaltwaystohealhealthyhealing': 5417,\n",
       " 'gettingreadyphotoshootð\\x9f\\x98\\x81dance': 4231,\n",
       " 'youremaybeisntreasonð\\x9f\\x98¡': 16706,\n",
       " 'userspentbestfriendsdaywbentleycorgimoves2nfl2morrosadday': 14107,\n",
       " 'worldextremism': 16453,\n",
       " 'happychelseastaffystaffordshirebullterriergingerinstadogdogpuppybitchâ\\x80¦': 4978,\n",
       " 'weekenddinnerfrioneoldestdearestfriendsweddingtwoamazingpeopletodayampbdaybabybrotomorrow': 16080,\n",
       " 'newyearsevemayresolutionsb2endproblemslikeampdomesticviolenceturning2godlove': 7795,\n",
       " 'cantbelievetomorrowlastdaynewyorkfreedomtowerbroadway': 1683,\n",
       " 'soooomissuseruseruserð\\x9f\\x98¢ð\\x9f\\x92\\x94mommyproblemsdutycalls': 9974,\n",
       " 'ppoppohappyppoppobtsarmyhappydaysmilecutegooddaygoodnitesleepwell': 8691,\n",
       " 'lastdaysunstormsarrivebaking2daysons21stbihdaypayusersummer2016': 6273,\n",
       " 'gotsurprisethechickiescomingnicesurpriseannouncementitspaytime': 4644,\n",
       " 'braveboldbeautifulajournalvanessakikijohanningâ\\x80¦': 1502,\n",
       " 'dustpianogummybeatzbeats': 2867,\n",
       " 'japanabegovernmentmerepuppetultrarightistgroupæ\\x97¥æ\\x9c¬ä¼\\x9aè\\xad°japanconferencefascismguardiannytimesbbcafprsf': 6025,\n",
       " 'userthankfulablelearnthankfulpositive': 14263,\n",
       " 'â\\x86\\x9dwtisellcontinues4960blogsilvergoldforex': 16965,\n",
       " 'babaigarekihappybihdaybihdaybalayyauser': 881,\n",
       " 'sadpeoplespetsgetlooseendmissingð\\x9f\\x98¢reallywishpetsdidntendgomissingeasily': 9326,\n",
       " 'gotlotawesometoday': 4623,\n",
       " 'ð\\x9f\\x98¡locallibrarytrieschargefeesyouvealreadypaidtwiceineedtosavethereceiptfrustrated': 17196,\n",
       " 'fathersdaybieeeesoulmatethelovelifeloveâ\\x80¦': 3368,\n",
       " 'yaaaaaassgotticketsuseramsterdam': 16553,\n",
       " 'ð\\x9f\\x8e®ninomiyakazunarihappybihdayð\\x9f\\x8e\\x89loveforeverâ\\x9d¤ï¸\\x8eninomiyakazunariâ\\x80¦': 17057,\n",
       " 'independenceday': 5883,\n",
       " 'userthoughtaltrightsecretlymeantwhitenationalistaltrightmaga': 14362,\n",
       " 'hoeshangaroundhoesyalltalk': 5514,\n",
       " 'checknewworkuserpofoliofathersdayfathersdaysalutethefatherdadson': 1936,\n",
       " 'relaxingkatiequeuemusiclifeamazingguitar': 9102,\n",
       " 'userhitlercomparisons': 12887,\n",
       " 'usermeancoursenextdecadelikesaidnevergonnahappengonzovgonzonorm': 13379,\n",
       " 'picklilmancatchwarcraftmatineeð\\x9f\\x98\\x80danceuser': 8486,\n",
       " 'userjoiningusyearfreedomconference16registerð\\x9f\\x99\\x83ð\\x9f¤\\x93ð\\x9f\\x99\\x84ð\\x9f\\x98\\x8fð\\x9f\\x98\\x8eð\\x9f\\x98\\x80ð\\x9f\\x98\\x86ð\\x9f\\x98\\x84': 13048,\n",
       " 'enjoyinglittlebackgroundusercoffeeshop': 3015,\n",
       " 'onequaerbasketballleftolympics': 8166,\n",
       " 'sawwainodoubleextrasgivecardsleadhinthintterrylgm29thwithrisp': 9435,\n",
       " 'skyrimremasteredusertryingtakemoneyomfge32016': 9817,\n",
       " 'lifewantslouisehayaffirmationpositivitykundaliniyogaanahatachakra': 6523,\n",
       " 'schoolended': 9465,\n",
       " 'beautifuldayneighborhoodð\\x9f\\x98\\x89sunshineblueskyfloridasunday': 1048,\n",
       " 'customersarahð\\x9f\\x98\\x86sharebellineproductmaybeyoureluckywinnerleatherbellinebagð\\x9f\\x8e\\x89': 2343,\n",
       " 'evendogsmaerbarackobamatrump2016dogsoftwitteruseruser': 3076,\n",
       " 'drinkingwaterlikewhiskyð\\x9f\\x98\\x8ciftar': 2838,\n",
       " 'ã\\x83»ã\\x83»201606190619sundayfathersdaynikeâ\\x9c\\x94nikeairmaxairmaxiâ\\x80¦': 17021,\n",
       " 'brokenheasnomakeupjusteyelashesbeberexaftnickiminajponytailkisssmileð\\x9f\\x98\\x81ð\\x9f\\x91\\x84ð\\x9f\\x92\\x81ð\\x9f\\x8f»': 1551,\n",
       " 'gettingreadygoseeninjatuleshourwahooexcited9ticketmovieweektodaywhoopwhoopð\\x9f\\x98\\x86ð\\x9f\\x98\\x86ð\\x9f\\x98\\x86ð\\x9f\\x98\\x86': 4228,\n",
       " 'legsreadyshoesenjoysexymusclecoolfashionð\\x9f\\x91¯â\\x9d¤ï¸\\x8fâ\\x9d¤ï¸\\x8fâ\\x9d¤ï¸\\x8fmajestichotelampspaâ\\x80¦': 6402,\n",
       " 'userhomegrownrightiewhiteamericans100timeslikelyharmrefugeefear': 12896,\n",
       " 'useranotherdayamerica': 11651,\n",
       " 'â\\x86\\x9dsouthkoreaproducerpriceindexgrowthyoyremains31mayblogsilvergoldforex': 16920,\n",
       " 'backschool': 941,\n",
       " 'dontwantalonemissionstasbringbrotherneedprayerspraygodus': 2772,\n",
       " 'ticketsexcitedshanghaidisneylandopeningdayshanghaidisneyâ\\x80¦': 10863,\n",
       " 'yesgotapprovedonebedroomqueenwesttorontojulymovesketchyneighbourhood': 16619,\n",
       " 'simplethingslifemakeonehappysmilephotographylovemysonshine': 9771,\n",
       " 'â\\x98\\x86Â°â\\x80¢â\\x97\\x8bâ\\x97\\x8fhumblekindâ\\x97\\x8fâ\\x97\\x8bâ\\x80¢Â°â\\x98\\x86seegoddoneawesomepassionprogressâ\\x80¦': 16975,\n",
       " 'updatedlinkedinprofile': 11384,\n",
       " 'seekmoneysuccessfulmkusaidrebelseekedhappinessinsteadgot': 9536,\n",
       " 'userevenoneexampleletguessyoureallowedfearfulspeakislamcliche': 12301,\n",
       " 'userwishumanymanyhappyreturnsdayð\\x9f\\x98\\x8abdayð\\x9f\\x8e\\x8að\\x9f\\x8e\\x82ð\\x9f\\x8e\\x89user': 15530,\n",
       " 'snapchatmadnessdogssnapchatlike4likerelationshipgoals': 9882,\n",
       " 'userexpectseemeareste3andromedagiveittomealready': 12336,\n",
       " 'makes': 7063,\n",
       " 'welcomenewstylemilemembersshoppingsaavoyagermiles': 16121,\n",
       " 'singlefiguressleepsglastocountdownð\\x9f\\x98\\x8dt9glastonburyð\\x9f\\x91\\x8dð\\x9f\\x8f¼ð\\x9f\\x8d»ð\\x9f\\x8e¸ð\\x9f\\x8e¤â\\x98\\x80ï¸\\x8fð\\x9f\\x92\\x83': 9785,\n",
       " 'userbroadslowselfesteemwillingsettleanythingsmallmindedamp': 11879,\n",
       " 'useruseruseruseruserpathetictwopeopledevotedcruztrollinghillaryclintonsuppâ\\x80¦': 15236,\n",
       " 'itâ\\x80\\x99snationalbestfriendsdayð\\x9f\\x91\\xadð\\x9f\\x91«ð\\x9f\\x91¬tagbffâ¬\\x87ï¸\\x8fð\\x9f\\x93·userbestfriendsfriendsfriendshipbffl': 5984,\n",
       " 'letstakejourneyfutureletssaveinsureinvestknowonâ\\x80¦': 6457,\n",
       " 'drawfinishedevasionrelaxingwellnessproud': 2814,\n",
       " 'excitedlineshopcomingsoonvintagehourfrenchvintage': 3209,\n",
       " 'fridayð\\x9f\\x92ð\\x9f\\x8f»gdegblogfridayselfiebeardgayguygaymengaystylelifestylefullnessâ\\x80¦': 4020,\n",
       " 'userprosecutorconsideringcriminalchargesgravesfamilygreggsharambegtblacklifewhiteliâ\\x80¦': 13772,\n",
       " 'finallyfoundwaydeleteoldtweetsmightfindusefulwelldeletetweets': 3676,\n",
       " 'excitedtomorrowwwemoneybankmatch': 3216,\n",
       " 'usermentionedmorningfreeforgetrulesexploreexperiencehackaton': 13395,\n",
       " 'userusercameronopiniondonenothingtalknationpatronisepeoplediâ\\x80¦': 14610,\n",
       " 'newadditionlittlefamilycomingsoon': 7681,\n",
       " 'whatswrongturkeynotgood30em2016secondtime': 16216,\n",
       " 'mayworldneedsindiareadgovernment': 7219,\n",
       " 'yearwellreceivedgregorianfestivaltookplaceramadandontfeellikebihday': 16606,\n",
       " 'seehappyfaceeverythingsmilethegoodlifecampingmainusplak': 9526,\n",
       " 'bernieorbustpeoplegoingsandersinevitablyfallslinesupposclinton': 1123,\n",
       " 'feelingoodbbwloubisontoponpointhomealonepeacefulð\\x9f\\x98\\x8að\\x9f\\x98\\x89ð\\x9f\\x98\\x98ð\\x9f\\x98\\x9a': 3584,\n",
       " 'john1426sunday': 6058,\n",
       " 'usersoootruefoodtasterealanymorefakefoodtruth': 14091,\n",
       " 'farewellceremonytodaysadmixedemotions': 3324,\n",
       " 'usereurosfinallycoybigeuro2016': 12298,\n",
       " 'userchoosehappytodayquotesmotivationinspirationlifechoosetoday': 11980,\n",
       " 'â\\x86\\x9dboeholdsfireanzblogsilvergoldforex': 16819,\n",
       " 'thankfulpillowsthankfulpositive': 10578,\n",
       " 'internetworksletsrecordvideoshopealsouploadvideotommorrowthankspatienceâ\\x99¥': 5931,\n",
       " 'janapersonalfitnessdivulgaÃ§Ã£oeparceriainshotgirlscutesummerblursunfunâ\\x80¦': 6024,\n",
       " 'userð\\x9f\\x92\\x94editseditaudioeditheabrokendepresseddepressionupsetvineimlost': 15738,\n",
       " 'illwaitinglovewaitinglovecomearoundâ\\x9c¨â\\x9c¨daysongaviciiâ\\x80¦': 5689,\n",
       " 'musictimebabyâ\\x9d¤ï¸\\x8fbabyhappiness29weeksmommydutiesfamilykatanapamperingâ\\x80¦': 7537,\n",
       " 'prettyblondegirlfranziskafacelladaybeautyuser': 8751,\n",
       " 'readingtrumpsspeechtranscriptscanttellimreading12yearoldboysdiarywedontwinanymorechinabuildthewall': 8952,\n",
       " 'userweeeellllknowdontliketravelsoseenyoureclosemaybetwiceð\\x9f\\x98\\x86xx': 15448,\n",
       " 'â\\x80¦youblackampfeellikestompinglistenretweettampamiamiâ\\x80¦': 16795,\n",
       " 'evenbushfires2014landstillstrugglingrecoverfirerecovery': 3073,\n",
       " 'mightlibtardlibtardsjwliberalpolitics': 7292,\n",
       " 'holidayplanningjanuaryð\\x9f\\x98\\x813weeksbookedworkâ\\x9c\\x8cð\\x9f\\x8f¼â\\x9c\\x88ï¸\\x8fð\\x9f\\x8f\\x9dð\\x9f\\x95\\x8cð\\x9f\\x90\\x98ð\\x9f¦\\x81ð\\x9f\\x90¯â\\x9c¨â\\x9c¨': 5533,\n",
       " 'rotakidsarrivedlancashireconferencelancasteruniversity': 9256,\n",
       " 'imscareduuuð\\x9f\\x98\\x82ð\\x9f\\x98ð\\x9f\\x98ð\\x9f\\x98\\x98': 5843,\n",
       " 'gameshowbullhillclimbreachtargetcompletetasksurvivestrongexcit': 4143,\n",
       " 'useruseruserlovee32016homeukð\\x9f\\x98\\x8eð\\x9f\\x98\\x8eð\\x9f\\x98\\x8eð\\x9f\\x8dº': 15106,\n",
       " 'lifemakeletâ\\x80\\x99smakemotivation': 6507,\n",
       " 'helixbridgericlswtravelbookbearlovestraveltriptravelsingaporeenjoyâ\\x80¦': 5368,\n",
       " 'academiayehtutoffersnuancedtakerohingyadvbmultimediagroupyehtutampâ\\x80¦': 358,\n",
       " 'signingusertoday': 9753,\n",
       " 'probablybestpersonjob': 8774,\n",
       " 'goodvaseegupurdantelflowersvizitdayshandmadevassenatureloveplantnaturelâ\\x80¦': 4550,\n",
       " 'orlandoshootingamericangunlawsorlando': 8246,\n",
       " 'useruseruseruseruserthatsstandardhomeminister': 15241,\n",
       " 'userniceplayingweekproudpro': 13512,\n",
       " 'userusertalkinggreenwoodtulsaokcitytulsaampstateokyetacknowledgemassacrehistory': 14969,\n",
       " 'oxfordboattripoxfordtravelerslifeloveigerslatinospanishfundaysunnyâ\\x9d¤ï¸\\x8fâ\\x80¦â\\x80¦': 8280,\n",
       " 'usertodayuseruserð\\x9f\\x92\\x97ð\\x9f\\x92\\x9cð\\x9f\\x92\\x99ð\\x9f\\x92\\x9að\\x9f\\x92\\x9bâ\\x9d¤ï¸\\x8fcolourmehappythecolorrunlondonwembleycolourful': 14414,\n",
       " 'friendssuperlovelymomlovefunootdsmileholidaycutelatbtâ\\x80¦': 4044,\n",
       " 'expectcountryelectedcrookedhillarytrumppresidentialcandidates': 3235,\n",
       " 'usergoingfixdesynccutscensesmirrorsedgecatalystweek': 12592,\n",
       " 'userthankyoustudproudclosenevergave': 14320,\n",
       " '18thbihdaysaturdayð\\x9f\\x8e\\x88ð\\x9f\\x8e\\x89': 74,\n",
       " 'cotdpolarbearclimbracingangrypolarbearclimbracingpolarbearlivingcoldplaceslooking': 2212,\n",
       " 'ps4gotwaterdamagedbrokeday': 8798,\n",
       " 'imemptyinsidearenthollowbonesfrailtweettweet': 5732,\n",
       " 'disgustedheardonalddrumpfrepeatingbaselesslieslanderbelievableloveisloveramadan': 2651,\n",
       " 'userð\\x9f\\x98\\x95migrantrefugeeweekukhomeimmigrantampproud': 15753,\n",
       " 'userbadweekoveralleverydaymattheardanotherdeath': 11712,\n",
       " 'tomjerryicepoleseesomeonefeelingbetterkidschildawesome': 11029,\n",
       " 'wellgladthatsbrewerslose': 16140,\n",
       " 'usermaliashakeassfinepassblunt': 13346,\n",
       " 'strollingaroundbabyremihremihontoursaturdayslovedailydoseblessedâ\\x80¦': 10161,\n",
       " 'gopfailantimoralityplatform': 4566,\n",
       " 'userusersimonhomophobicassholesdontneedtefindexcusemindeverythingcausedequalrightstâ\\x80¦': 14947,\n",
       " 'userfathersdayubroallaskublessingsamplonglyf': 12378,\n",
       " 'luminousiampositiveaffirmation': 6990,\n",
       " 'powerfulbraveangeringhopefulthingreadlongtime': 8680,\n",
       " 'cleanednotifications': 2045,\n",
       " 'finishingnightgoodcatchupguyufancied78yearsð\\x9f\\x98\\x8að\\x9f\\x92\\x95': 3777,\n",
       " 'confirmð\\x9f\\x98\\x81ð\\x9f\\x98\\x82ð\\x9f\\x98\\x81goodmorningafricaweekendsmilesâ\\x80¦': 2155,\n",
       " 'playingnaoyukiondatempletwilightmusicsong': 8570,\n",
       " 'fridayparisianbreakfasttodayfeaturingfreshlybreweddoubleexpressoampourâ\\x80¦': 4013,\n",
       " 'usergoddamn': 12580,\n",
       " 'userlyingcheatingcareercriminalhopeprisonuforgetfbi': 13318,\n",
       " 'userpokemonsunandmoondreamscometruepokemon': 13713,\n",
       " 'onemakequote': 8156,\n",
       " 'understandwhatsgoininsteadmakeingenemeshustandbymyself': 11358,\n",
       " 'userbitchesneedgotobackschooldroppinglayniggasð\\x9f\\x98\\x82ð\\x9f\\x98\\xadð\\x9f\\x98\\xadð\\x9f\\x98\\x82ð\\x9f\\x98©': 11828,\n",
       " 'cantdrinkdaydontstamorningenjoyhappyhourstimesdrinksbooze': 1692,\n",
       " 'whininghappinessgurupositivequotebestquotejourneyquotesbestofthedayquoteoftheday': 16228,\n",
       " 'lookproblemfirstthingthingcolorblackwhiteyourepaproblem': 6757,\n",
       " 'thinkimfallingimfallingð\\x9f\\x92\\x95the1975lovelyrics': 10773,\n",
       " 'comingsoonvintagerusticeventscupcakes': 2132,\n",
       " 'fathershappyweekendeveryone': 3491,\n",
       " 'leaderstalktalknothingwohknowactrightpreventgenocidetragediesleadershipnottvshow': 6367,\n",
       " 'worksuperearlynowheregetdrinksincestilllateð\\x9f\\x98ªð\\x9f\\x92\\x94': 16443,\n",
       " 'deservehappywohythatsthatsnancyrainwaterphdwohywuvip': 2585,\n",
       " 'userdontwantanymorealonedepressiondepressedquotesdepressionquotesdepressedkillmeâ\\x80¦': 12220,\n",
       " 'peepsmarketepicurianthrowbackembraceinnerchildculinaryfunbecausekidsareâ\\x80¦': 8369,\n",
       " 'chicagoâ\\x9c\\x8cð\\x9f\\x8f¼ï¸\\x8fð\\x9f\\x87ºð\\x9f\\x87¸ð\\x9f\\x8f\\x99chicagolovecloudgatebeansmilehoneymoonroadtripâ\\x80¦': 1974,\n",
       " 'userknockedoldschooleksposcentrenotredameinstitution': 13094,\n",
       " 'useruploaduploaduploadddddd': 14521,\n",
       " '3daysgetseebestfriendiveseen6months': 199,\n",
       " 'diplomadoenmarketingdigitalterminamosisumisum': 2640,\n",
       " 'happybdaydaddyfathersdaylatepostgodbless': 4925,\n",
       " 'rpeoplestupidkillarysuppoersaystrumprappistbillreallifeturds': 9268,\n",
       " 'userooohmalcolmuserlaunchedpodcastalascantbingelistensinceepisode001': 13610,\n",
       " 'comesmonsoon2016mumbairainsdelighted': 2112,\n",
       " 'userfindhomeawayhomekappakappagammaampsignfall2016recruitmenttodayweare': 12423,\n",
       " 'userbdaysweetjohnnyð\\x9f\\x8c¹': 11724,\n",
       " 'fathersdaymandreamssacrificedbachelorhoodreadymadefamilyâ\\x80¦': 3439,\n",
       " 'nameswomenfuckinghardteen': 7563,\n",
       " 'peoplesaygoodheaalwaysthinkgoodheatimesget': 8416,\n",
       " 'schoolalmostfinishð\\x9f\\x98\\x84': 9464,\n",
       " 'ofcoursetheyllð\\x9f\\x98\\x8dð\\x9f\\x98\\x8dð\\x9f\\x98\\x98â\\x9d¤ð\\x9f\\x92\\x83ð\\x9f\\x92\\x83ð\\x9f\\x99\\x88': 7995,\n",
       " 'usercutestvideoeverð\\x9f\\x98\\x8dð\\x9f\\x98\\x8dadorableawcuteomggoalspuppycutebabybabyvineuser': 12096,\n",
       " 'useragreehrcwouldnâ\\x80\\x99tpopularvotewocamuchwaytrumpwouldnâ\\x80\\x99twinwoâ\\x80¦': 11537,\n",
       " 'helloâ\\x98ºinshotgirlscutesummerblursunfundoghairbeachhotcoolâ\\x80¦': 5396,\n",
       " 'userusernewscarsonuseswordfairnesstrumpswiddleblackbuddyusedbytrump': 14851,\n",
       " 'chickgetsfuckednudesuperhero': 1977,\n",
       " 'userworstdayeverfmlsickworriedheadachecold': 15578,\n",
       " 'beachneedð\\x9f\\x8c´ð\\x9f\\x8c\\x8aâ\\x98\\x80behellohelloexperiencevacationgoodmoodterritoriohellobeachparadise': 1030,\n",
       " 'sexfreesexhotlinenumbers': 9643,\n",
       " 'nhealthyimoptimistoptimistcarriesraincoatâ\\x80\\x93haroldwilson': 7842,\n",
       " 'playingblackopsiiieasiestmodestillsuck': 8534,\n",
       " 'sadweinerdogweinerdogdepressedanimalanimalfriend': 9349,\n",
       " 'trumpsuppoersvoicingthoughtswomenssuffragegermanysimmigrationpolicyâ\\x80¦': 11200,\n",
       " 'getstreetcredtacklinghalfmenuwellwaitingroundtwoð\\x9f\\x8d´ð\\x9f¤\\x97': 4209,\n",
       " 'usermorelovelesshateprayfororlandoworldcomingdefintelyneedâ\\x80¦': 13426,\n",
       " 'userrationchallengefundraisinghelpingeducatesyrianrefugeeslovefacesthankfulthursday': 13810,\n",
       " 'userreservedkingsuite4peopleampgiveusroom1bedamphotelfullybookedfaillakeway': 13879,\n",
       " 'cowsazwanthanggirlstodayfarmerscaremilkmattershtazmilkproducers': 2276,\n",
       " 'streetautopiaattackbullgame3dreallythinkheademptyaroundcitysi': 10154,\n",
       " 'sundayvibesð\\x9f\\x92¡sundayvibesgameholidayenjoy': 10259,\n",
       " 'userbenidormweekstanewjobhospitalâ\\x98ºï¸\\x8fð\\x9f\\x98\\x8dð\\x9f\\x92\\x83ð\\x9f\\x8f½nhssummer': 11747,\n",
       " 'userandersoncoopercryingrntopbroadcasttalkingorlandovictimsdamnorlandoshooting': 11639,\n",
       " 'yesinspirationrevhealthmotivationlovelifelifeâ\\x80¦': 16621,\n",
       " 'basketballattackbullchaseleavelotdespitefactyourestrongsource': 998,\n",
       " 'userð\\x9f\\x98\\x82ð\\x9f\\x98\\x82ð\\x9f\\x92\\x80': 15747,\n",
       " 'fridayð\\x9f\\x98\\x8að\\x9f\\x98\\x8að\\x9f\\x98\\x8ahrmanagementfridayfeelingfriday': 4022,\n",
       " 'instagramcomejoinmyhappycapturebloggers': 5909,\n",
       " 'damnreallymadetearlittlemustread': 2415,\n",
       " 'goodseeenglandfansmakingusfeelproudsarcasmeuro2016viauserdisgrace': 4538,\n",
       " 'smilepowerdayshowusbestcheesygrinspearlywhitessmileteeth': 9852,\n",
       " 'flowersdecorð\\x9f\\x8c·ð\\x9f\\x8c¸ð\\x9f\\x8cºweddingpayweddingcarcelebrationbridehappinessunforgettableâ\\x80¦': 3886,\n",
       " 'userlikelearnedff13ssuperlineargameplaywentopenworld': 13171,\n",
       " 'userguesspeoplestillletsocialmediagetsmh': 12710,\n",
       " 'thankfulspringthankfulpositive': 10590,\n",
       " 'lordhopemayresultnanextweekparanextprojectnaulitakothanklordnovenatogodsloveansweredprayerð\\x9f\\x99\\x8f': 6778,\n",
       " 'useruseruserbilleverythingwonderfulrippedawayripdollaboldandbeautiful': 15027,\n",
       " 'dancingbullhillclimbreachtargetcompletetasksurvivestrongexcite': 2429,\n",
       " 'girlð\\x9f\\x98\\x8dð\\x9f\\x98\\x98girlfriendsmilebestfriend': 4283,\n",
       " 'smilesaturdayó¾\\x8cµweekendvibessummervacationsmilelovelifefriendslivingthedreamstyle': 9857,\n",
       " 'bb18gonnasucksweatyballssummertgbbukgoodcast2housessecrettasksgrodnerampkassdontthinkoutsidebox': 1009,\n",
       " 'angryreactionfacebookcomesshowangrybittermajorityworld': 662,\n",
       " 'whatstimetimeplayoverwatchð\\x9f\\x98\\x89playgameroverwatchpcpcgamelovegirl': 16210,\n",
       " 'usercaptionpearlman': 11944,\n",
       " 'userpuppiesalwaysmakeushappyð\\x9f\\x98\\x89puppydogdoggiecutewehoimapetrosexual': 13787,\n",
       " 'gettingweekendsshowscountrymusiclylepierce': 4239,\n",
       " 'gonnagivewhitepeopletasteramadantodayð\\x9f\\x98\\x82': 4399,\n",
       " 'happyfathersdaywonderfuldadsparkridgechamberfathersdaycelebrate': 5065,\n",
       " 'wevegreatdayhopereallyofficialmemberusertodaymembership': 16180,\n",
       " 'userboringlookslikedoesntwant': 11856,\n",
       " 'imrightcantwatchwwdc2016dontmacdeviceapplesierrawindowssafarilivedevelopermacos': 5835,\n",
       " 'yearsattackbullchaseleavelotdespitefactyourestrongsourcefood': 16602,\n",
       " 'rantantismokinglawspublicplacesreallypisspianoclassicalelegy': 8930,\n",
       " 'playingoskarschustercomatosemelancholymelancholymusic': 8571,\n",
       " 'shofilmmaderelationshipcaffeineloveinstadailyamazingfunâ\\x80¦': 9702,\n",
       " 'useroneflowersplantedseedbloomedfirsttime': 13599,\n",
       " 'userriyadhrenowneddeadliesttrafficworldâ\\x80¦2017in3wordsâ\\x80¦': 13902,\n",
       " 'userooohhhimbusyinternshiplaguna': 13609,\n",
       " 'coolestlifehackporcupinefishlookslikemotivation': 2193,\n",
       " 'gooodð\\x9f\\x91\\x8dkeepgoing': 4560,\n",
       " 'makesstickpostitputmirrorð\\x9f\\x98\\x8að\\x9f\\x93\\x8dspottedsanfrancisco': 7092,\n",
       " 'alwaystearsanime': 560,\n",
       " 'resurrectedtwitterdeadbackguysconvenientlytimeeuroseuro2016europaleaguefinal': 9166,\n",
       " 'unfounatetodayaidscontrolhatekillsgaysyearlyorlando': 11367,\n",
       " 'userelectoralcollegeelectspresidentstrumpnotmypresidentnewswithed': 12262,\n",
       " 'usernewscriptnewfilmseptemberfilmactoractorslifejoywork': 13494,\n",
       " 'absolutelyneedthxu': 349,\n",
       " 'letsgoweeziedweekendshoppingfridaylovesunnyskiessmileenjoybbqâ\\x80¦': 6449,\n",
       " 'userupregnantfuckingdifferentniggas': 14523,\n",
       " '15emailsð\\x9f\\x99\\x8að\\x9f\\x8e\\x81': 63,\n",
       " 'boyhappydancehearingmomsvoicehearingaidcouesycaitlinorantesprincet': 1491,\n",
       " 'usertruelooklgbtqhatestrumppaytlsidewthosewantaccessterroristswantdead': 14467,\n",
       " 'begintodayð\\x9f\\x92\\x9cð\\x9f\\x99\\x8cð\\x9f\\x8f½sharewouldð\\x9f¦\\x84namastemorningâ\\x80¦': 1096,\n",
       " 'useruserneedsfireuserampdumbmferhiredgenocidepromotingassdonthiregraduates': 14845,\n",
       " 'userbestdaddywholeworldbihday': 11755,\n",
       " 'useruserusercantwaitanymoretmrwepisodehopeuwontstretchprecaplikelastweekð\\x9f\\x98¡ð\\x9f\\x92\\x83': 15038,\n",
       " 'â\\xad\\x90â\\xad\\x90â\\xad\\x90â\\xad\\x90â\\xad\\x90reviewjackieevanslovewantedetsygoatmilk': 17010,\n",
       " '2pmkickwalesvenglandmuch': 170,\n",
       " 'always4daystogokianandjc': 523,\n",
       " 'realizedtodayimoneadultssinceheldpinatastringsdidntgethitimnotoldletmehititayyyyjk': 9001,\n",
       " 'photographysecretsoneworldâ\\x80\\x99stopshootersjustmarriedfeeling': 8474,\n",
       " 'userpeoplecolourenjoyequalitywithinlgbtqcommunitytheyexcludedmarginalisedgroup': 13664,\n",
       " 'usernewfrienddariað\\x9f\\x98\\x8dchicagogreattimegirlfriend': 13485,\n",
       " 'enddaysignetsysparklebehappyworkhardwoodworkworkpatiodesigngardeninglove': 2985,\n",
       " ...}"
      ]
     },
     "execution_count": 136,
     "metadata": {},
     "output_type": "execute_result"
    }
   ],
   "source": [
    "# output the length of bag of words in vocabulary_attribute\n",
    "\n",
    "bag_of_words_transformer.vocabulary_"
   ]
  },
  {
   "cell_type": "code",
   "execution_count": 137,
   "id": "45d059ec",
   "metadata": {},
   "outputs": [],
   "source": [
    "# store bag of words for tweets using transform method\n",
    "#  the transform() will now transform this texts into numerical data\n",
    "\n",
    "tweets_bag_of_words = bag_of_words_transformer.transform(df[\"tweet\"])"
   ]
  },
  {
   "cell_type": "code",
   "execution_count": 138,
   "id": "26665377",
   "metadata": {},
   "outputs": [],
   "source": [
    "# importing tfidf - term frequency inverse document frequency is a \n",
    "# measure that evaluates how relevant a word is to a document in a collection of documents. \n",
    "# which is done by mulitplying how many times a word appears in a document, \n",
    "# and the inverse document frequency of the word across a set of documents.\n",
    "\n",
    "from sklearn.feature_extraction.text import TfidfTransformer"
   ]
  },
  {
   "cell_type": "code",
   "execution_count": 139,
   "id": "43f8091b",
   "metadata": {},
   "outputs": [],
   "source": [
    "# apply tfidf transformer and fit the bag of words into it\n",
    "\n",
    "tfidf_transformer = TfidfTransformer().fit(tweets_bag_of_words)"
   ]
  },
  {
   "cell_type": "code",
   "execution_count": 140,
   "id": "352a99c1",
   "metadata": {},
   "outputs": [
    {
     "data": {
      "text/plain": [
       "(80553, 17227)"
      ]
     },
     "execution_count": 140,
     "metadata": {},
     "output_type": "execute_result"
    }
   ],
   "source": [
    "# output the shape of tfidf\n",
    "# the shape function outuputs the number of the data by column and row\n",
    "\n",
    "tweets_tfidf = tfidf_transformer.transform(tweets_bag_of_words)\n",
    "tweets_tfidf.shape"
   ]
  },
  {
   "cell_type": "markdown",
   "id": "87090ba7",
   "metadata": {},
   "source": [
    "## Model Builidng"
   ]
  },
  {
   "cell_type": "code",
   "execution_count": 141,
   "id": "6d1f600c",
   "metadata": {},
   "outputs": [],
   "source": [
    "# importing the traintest split technique\n",
    "\n",
    "from sklearn.model_selection import train_test_split\n",
    "from sklearn.preprocessing import MinMaxScaler\n",
    "from sklearn.metrics import accuracy_score, classification_report, confusion_matrix"
   ]
  },
  {
   "cell_type": "code",
   "execution_count": 142,
   "id": "0e0ae3ee",
   "metadata": {},
   "outputs": [],
   "source": [
    "# separating the features from target classes\n",
    "# the features are the tweets and the target class is the  airline sentiment (positive or negative)\n",
    "\n",
    "X = tweets_tfidf\n",
    "y = df[\"label\"]"
   ]
  },
  {
   "cell_type": "code",
   "execution_count": 143,
   "id": "20058043",
   "metadata": {},
   "outputs": [
    {
     "name": "stdout",
     "output_type": "stream",
     "text": [
      "(64442, 17227)\n",
      "(16111, 17227)\n",
      "(64442,)\n",
      "(16111,)\n"
     ]
    }
   ],
   "source": [
    "# spliting dataset into training and testing set using the train test split technique\n",
    "# the trainset is 80% while the test set is 20% since the model needs a lot of training data to be more accurate\n",
    "# a greater training set is assigned for the model training\n",
    "\n",
    "X_train, X_test, y_train, y_test = train_test_split(X,y,test_size = 0.2, random_state = 10)\n",
    "print(X_train.shape)\n",
    "print(X_test.shape)\n",
    "print(y_train.shape)\n",
    "print(y_test.shape)"
   ]
  },
  {
   "cell_type": "markdown",
   "id": "18e18bf9",
   "metadata": {},
   "source": [
    "## Using Naive Bayes"
   ]
  },
  {
   "cell_type": "code",
   "execution_count": 144,
   "id": "21529651",
   "metadata": {},
   "outputs": [],
   "source": [
    "# initializing the algorithm i.e creating an object of the classifier\n",
    "from sklearn.naive_bayes import GaussianNB, MultinomialNB\n",
    "\n",
    "\n",
    "model = GaussianNB()"
   ]
  },
  {
   "cell_type": "code",
   "execution_count": 145,
   "id": "15104f94",
   "metadata": {},
   "outputs": [
    {
     "data": {
      "text/plain": [
       "GaussianNB()"
      ]
     },
     "execution_count": 145,
     "metadata": {},
     "output_type": "execute_result"
    }
   ],
   "source": [
    "# training the neural network algorithm with the data\n",
    "# the toarray() function converts the dataframe object the data was initially imported through into an array object\n",
    "model.fit(X_train.toarray(), y_train)"
   ]
  },
  {
   "cell_type": "code",
   "execution_count": 146,
   "id": "cc449a8c",
   "metadata": {},
   "outputs": [
    {
     "data": {
      "text/plain": [
       "array([0, 1, 1, ..., 0, 0, 1])"
      ]
     },
     "execution_count": 146,
     "metadata": {},
     "output_type": "execute_result"
    }
   ],
   "source": [
    "# predicting for rest of the dataset not used before\n",
    "# after training, the predict function will now predict/assign for values for the test set based on what the model has learned\n",
    "predictions = model.predict(X_test.toarray())\n",
    "predictions"
   ]
  },
  {
   "cell_type": "code",
   "execution_count": 147,
   "id": "bd05b3ac",
   "metadata": {},
   "outputs": [
    {
     "name": "stdout",
     "output_type": "stream",
     "text": [
      "Accuracy Score: \n",
      " 0.808950406554528\n",
      "Classification Report: \n",
      "               precision    recall  f1-score   support\n",
      "\n",
      "           0       1.00      0.80      0.89     15031\n",
      "           1       0.26      1.00      0.41      1080\n",
      "\n",
      "    accuracy                           0.81     16111\n",
      "   macro avg       0.63      0.90      0.65     16111\n",
      "weighted avg       0.95      0.81      0.85     16111\n",
      "\n",
      "Confusion Matrix: \n",
      " [[11953  3078]\n",
      " [    0  1080]]\n"
     ]
    }
   ],
   "source": [
    "# this are machine learning metrics used for evaluating the model performance\n",
    "# the accuracy score gives the score performance of the percentage of the right classifications of the model\n",
    "# the classification report gives a full report the model's (precision, recall and fmeasure)\n",
    "# the confusion matrix consist of the (true positive, false positive, true negative and false negative)\n",
    "\n",
    "print(\"Accuracy Score: \\n\", accuracy_score(y_test, predictions))\n",
    "print(\"Classification Report: \\n\", classification_report(y_test, predictions))\n",
    "print(\"Confusion Matrix: \\n\", confusion_matrix(y_test, predictions))"
   ]
  },
  {
   "cell_type": "code",
   "execution_count": 148,
   "id": "344f918a",
   "metadata": {},
   "outputs": [
    {
     "name": "stdout",
     "output_type": "stream",
     "text": [
      "predicted:  [0]\n",
      "Actual:  0\n"
     ]
    }
   ],
   "source": [
    "# Check for a prediction \n",
    "\n",
    "tweet = df[\"tweet\"][4]\n",
    "bag_of_words_for_tweet = bag_of_words_transformer.transform([tweet])\n",
    "tfidf_transformer_for_tweet = tfidf_transformer.transform(bag_of_words_for_tweet)\n",
    "\n",
    "print(\"predicted: \", model.predict(tfidf_transformer_for_tweet[0].toarray()))\n",
    "print(\"Actual: \", df.label[4])"
   ]
  },
  {
   "cell_type": "code",
   "execution_count": 149,
   "id": "991ce167",
   "metadata": {},
   "outputs": [],
   "source": [
    "x = [\"kessler\", \"pangoto\", \"current\"]\n",
    "y = [84, 87, 99]"
   ]
  },
  {
   "cell_type": "code",
   "execution_count": 150,
   "id": "0e69001f",
   "metadata": {},
   "outputs": [
    {
     "data": {
      "application/vnd.plotly.v1+json": {
       "config": {
        "plotlyServerURL": "https://plot.ly"
       },
       "data": [
        {
         "alignmentgroup": "True",
         "hovertemplate": "x=%{x}<br>y=%{y}<br>color=%{marker.color}<extra></extra>",
         "legendgroup": "",
         "marker": {
          "color": [
           84,
           87,
           99
          ],
          "coloraxis": "coloraxis",
          "pattern": {
           "shape": ""
          }
         },
         "name": "",
         "offsetgroup": "",
         "orientation": "v",
         "showlegend": false,
         "textposition": "auto",
         "type": "bar",
         "x": [
          "kessler",
          "pangoto",
          "current"
         ],
         "xaxis": "x",
         "y": [
          84,
          87,
          99
         ],
         "yaxis": "y"
        }
       ],
       "layout": {
        "barmode": "relative",
        "coloraxis": {
         "colorbar": {
          "title": {
           "text": "color"
          }
         },
         "colorscale": [
          [
           0,
           "#0d0887"
          ],
          [
           0.1111111111111111,
           "#46039f"
          ],
          [
           0.2222222222222222,
           "#7201a8"
          ],
          [
           0.3333333333333333,
           "#9c179e"
          ],
          [
           0.4444444444444444,
           "#bd3786"
          ],
          [
           0.5555555555555556,
           "#d8576b"
          ],
          [
           0.6666666666666666,
           "#ed7953"
          ],
          [
           0.7777777777777778,
           "#fb9f3a"
          ],
          [
           0.8888888888888888,
           "#fdca26"
          ],
          [
           1,
           "#f0f921"
          ]
         ]
        },
        "legend": {
         "tracegroupgap": 0
        },
        "template": {
         "data": {
          "bar": [
           {
            "error_x": {
             "color": "#2a3f5f"
            },
            "error_y": {
             "color": "#2a3f5f"
            },
            "marker": {
             "line": {
              "color": "#E5ECF6",
              "width": 0.5
             },
             "pattern": {
              "fillmode": "overlay",
              "size": 10,
              "solidity": 0.2
             }
            },
            "type": "bar"
           }
          ],
          "barpolar": [
           {
            "marker": {
             "line": {
              "color": "#E5ECF6",
              "width": 0.5
             },
             "pattern": {
              "fillmode": "overlay",
              "size": 10,
              "solidity": 0.2
             }
            },
            "type": "barpolar"
           }
          ],
          "carpet": [
           {
            "aaxis": {
             "endlinecolor": "#2a3f5f",
             "gridcolor": "white",
             "linecolor": "white",
             "minorgridcolor": "white",
             "startlinecolor": "#2a3f5f"
            },
            "baxis": {
             "endlinecolor": "#2a3f5f",
             "gridcolor": "white",
             "linecolor": "white",
             "minorgridcolor": "white",
             "startlinecolor": "#2a3f5f"
            },
            "type": "carpet"
           }
          ],
          "choropleth": [
           {
            "colorbar": {
             "outlinewidth": 0,
             "ticks": ""
            },
            "type": "choropleth"
           }
          ],
          "contour": [
           {
            "colorbar": {
             "outlinewidth": 0,
             "ticks": ""
            },
            "colorscale": [
             [
              0,
              "#0d0887"
             ],
             [
              0.1111111111111111,
              "#46039f"
             ],
             [
              0.2222222222222222,
              "#7201a8"
             ],
             [
              0.3333333333333333,
              "#9c179e"
             ],
             [
              0.4444444444444444,
              "#bd3786"
             ],
             [
              0.5555555555555556,
              "#d8576b"
             ],
             [
              0.6666666666666666,
              "#ed7953"
             ],
             [
              0.7777777777777778,
              "#fb9f3a"
             ],
             [
              0.8888888888888888,
              "#fdca26"
             ],
             [
              1,
              "#f0f921"
             ]
            ],
            "type": "contour"
           }
          ],
          "contourcarpet": [
           {
            "colorbar": {
             "outlinewidth": 0,
             "ticks": ""
            },
            "type": "contourcarpet"
           }
          ],
          "heatmap": [
           {
            "colorbar": {
             "outlinewidth": 0,
             "ticks": ""
            },
            "colorscale": [
             [
              0,
              "#0d0887"
             ],
             [
              0.1111111111111111,
              "#46039f"
             ],
             [
              0.2222222222222222,
              "#7201a8"
             ],
             [
              0.3333333333333333,
              "#9c179e"
             ],
             [
              0.4444444444444444,
              "#bd3786"
             ],
             [
              0.5555555555555556,
              "#d8576b"
             ],
             [
              0.6666666666666666,
              "#ed7953"
             ],
             [
              0.7777777777777778,
              "#fb9f3a"
             ],
             [
              0.8888888888888888,
              "#fdca26"
             ],
             [
              1,
              "#f0f921"
             ]
            ],
            "type": "heatmap"
           }
          ],
          "heatmapgl": [
           {
            "colorbar": {
             "outlinewidth": 0,
             "ticks": ""
            },
            "colorscale": [
             [
              0,
              "#0d0887"
             ],
             [
              0.1111111111111111,
              "#46039f"
             ],
             [
              0.2222222222222222,
              "#7201a8"
             ],
             [
              0.3333333333333333,
              "#9c179e"
             ],
             [
              0.4444444444444444,
              "#bd3786"
             ],
             [
              0.5555555555555556,
              "#d8576b"
             ],
             [
              0.6666666666666666,
              "#ed7953"
             ],
             [
              0.7777777777777778,
              "#fb9f3a"
             ],
             [
              0.8888888888888888,
              "#fdca26"
             ],
             [
              1,
              "#f0f921"
             ]
            ],
            "type": "heatmapgl"
           }
          ],
          "histogram": [
           {
            "marker": {
             "pattern": {
              "fillmode": "overlay",
              "size": 10,
              "solidity": 0.2
             }
            },
            "type": "histogram"
           }
          ],
          "histogram2d": [
           {
            "colorbar": {
             "outlinewidth": 0,
             "ticks": ""
            },
            "colorscale": [
             [
              0,
              "#0d0887"
             ],
             [
              0.1111111111111111,
              "#46039f"
             ],
             [
              0.2222222222222222,
              "#7201a8"
             ],
             [
              0.3333333333333333,
              "#9c179e"
             ],
             [
              0.4444444444444444,
              "#bd3786"
             ],
             [
              0.5555555555555556,
              "#d8576b"
             ],
             [
              0.6666666666666666,
              "#ed7953"
             ],
             [
              0.7777777777777778,
              "#fb9f3a"
             ],
             [
              0.8888888888888888,
              "#fdca26"
             ],
             [
              1,
              "#f0f921"
             ]
            ],
            "type": "histogram2d"
           }
          ],
          "histogram2dcontour": [
           {
            "colorbar": {
             "outlinewidth": 0,
             "ticks": ""
            },
            "colorscale": [
             [
              0,
              "#0d0887"
             ],
             [
              0.1111111111111111,
              "#46039f"
             ],
             [
              0.2222222222222222,
              "#7201a8"
             ],
             [
              0.3333333333333333,
              "#9c179e"
             ],
             [
              0.4444444444444444,
              "#bd3786"
             ],
             [
              0.5555555555555556,
              "#d8576b"
             ],
             [
              0.6666666666666666,
              "#ed7953"
             ],
             [
              0.7777777777777778,
              "#fb9f3a"
             ],
             [
              0.8888888888888888,
              "#fdca26"
             ],
             [
              1,
              "#f0f921"
             ]
            ],
            "type": "histogram2dcontour"
           }
          ],
          "mesh3d": [
           {
            "colorbar": {
             "outlinewidth": 0,
             "ticks": ""
            },
            "type": "mesh3d"
           }
          ],
          "parcoords": [
           {
            "line": {
             "colorbar": {
              "outlinewidth": 0,
              "ticks": ""
             }
            },
            "type": "parcoords"
           }
          ],
          "pie": [
           {
            "automargin": true,
            "type": "pie"
           }
          ],
          "scatter": [
           {
            "fillpattern": {
             "fillmode": "overlay",
             "size": 10,
             "solidity": 0.2
            },
            "type": "scatter"
           }
          ],
          "scatter3d": [
           {
            "line": {
             "colorbar": {
              "outlinewidth": 0,
              "ticks": ""
             }
            },
            "marker": {
             "colorbar": {
              "outlinewidth": 0,
              "ticks": ""
             }
            },
            "type": "scatter3d"
           }
          ],
          "scattercarpet": [
           {
            "marker": {
             "colorbar": {
              "outlinewidth": 0,
              "ticks": ""
             }
            },
            "type": "scattercarpet"
           }
          ],
          "scattergeo": [
           {
            "marker": {
             "colorbar": {
              "outlinewidth": 0,
              "ticks": ""
             }
            },
            "type": "scattergeo"
           }
          ],
          "scattergl": [
           {
            "marker": {
             "colorbar": {
              "outlinewidth": 0,
              "ticks": ""
             }
            },
            "type": "scattergl"
           }
          ],
          "scattermapbox": [
           {
            "marker": {
             "colorbar": {
              "outlinewidth": 0,
              "ticks": ""
             }
            },
            "type": "scattermapbox"
           }
          ],
          "scatterpolar": [
           {
            "marker": {
             "colorbar": {
              "outlinewidth": 0,
              "ticks": ""
             }
            },
            "type": "scatterpolar"
           }
          ],
          "scatterpolargl": [
           {
            "marker": {
             "colorbar": {
              "outlinewidth": 0,
              "ticks": ""
             }
            },
            "type": "scatterpolargl"
           }
          ],
          "scatterternary": [
           {
            "marker": {
             "colorbar": {
              "outlinewidth": 0,
              "ticks": ""
             }
            },
            "type": "scatterternary"
           }
          ],
          "surface": [
           {
            "colorbar": {
             "outlinewidth": 0,
             "ticks": ""
            },
            "colorscale": [
             [
              0,
              "#0d0887"
             ],
             [
              0.1111111111111111,
              "#46039f"
             ],
             [
              0.2222222222222222,
              "#7201a8"
             ],
             [
              0.3333333333333333,
              "#9c179e"
             ],
             [
              0.4444444444444444,
              "#bd3786"
             ],
             [
              0.5555555555555556,
              "#d8576b"
             ],
             [
              0.6666666666666666,
              "#ed7953"
             ],
             [
              0.7777777777777778,
              "#fb9f3a"
             ],
             [
              0.8888888888888888,
              "#fdca26"
             ],
             [
              1,
              "#f0f921"
             ]
            ],
            "type": "surface"
           }
          ],
          "table": [
           {
            "cells": {
             "fill": {
              "color": "#EBF0F8"
             },
             "line": {
              "color": "white"
             }
            },
            "header": {
             "fill": {
              "color": "#C8D4E3"
             },
             "line": {
              "color": "white"
             }
            },
            "type": "table"
           }
          ]
         },
         "layout": {
          "annotationdefaults": {
           "arrowcolor": "#2a3f5f",
           "arrowhead": 0,
           "arrowwidth": 1
          },
          "autotypenumbers": "strict",
          "coloraxis": {
           "colorbar": {
            "outlinewidth": 0,
            "ticks": ""
           }
          },
          "colorscale": {
           "diverging": [
            [
             0,
             "#8e0152"
            ],
            [
             0.1,
             "#c51b7d"
            ],
            [
             0.2,
             "#de77ae"
            ],
            [
             0.3,
             "#f1b6da"
            ],
            [
             0.4,
             "#fde0ef"
            ],
            [
             0.5,
             "#f7f7f7"
            ],
            [
             0.6,
             "#e6f5d0"
            ],
            [
             0.7,
             "#b8e186"
            ],
            [
             0.8,
             "#7fbc41"
            ],
            [
             0.9,
             "#4d9221"
            ],
            [
             1,
             "#276419"
            ]
           ],
           "sequential": [
            [
             0,
             "#0d0887"
            ],
            [
             0.1111111111111111,
             "#46039f"
            ],
            [
             0.2222222222222222,
             "#7201a8"
            ],
            [
             0.3333333333333333,
             "#9c179e"
            ],
            [
             0.4444444444444444,
             "#bd3786"
            ],
            [
             0.5555555555555556,
             "#d8576b"
            ],
            [
             0.6666666666666666,
             "#ed7953"
            ],
            [
             0.7777777777777778,
             "#fb9f3a"
            ],
            [
             0.8888888888888888,
             "#fdca26"
            ],
            [
             1,
             "#f0f921"
            ]
           ],
           "sequentialminus": [
            [
             0,
             "#0d0887"
            ],
            [
             0.1111111111111111,
             "#46039f"
            ],
            [
             0.2222222222222222,
             "#7201a8"
            ],
            [
             0.3333333333333333,
             "#9c179e"
            ],
            [
             0.4444444444444444,
             "#bd3786"
            ],
            [
             0.5555555555555556,
             "#d8576b"
            ],
            [
             0.6666666666666666,
             "#ed7953"
            ],
            [
             0.7777777777777778,
             "#fb9f3a"
            ],
            [
             0.8888888888888888,
             "#fdca26"
            ],
            [
             1,
             "#f0f921"
            ]
           ]
          },
          "colorway": [
           "#636efa",
           "#EF553B",
           "#00cc96",
           "#ab63fa",
           "#FFA15A",
           "#19d3f3",
           "#FF6692",
           "#B6E880",
           "#FF97FF",
           "#FECB52"
          ],
          "font": {
           "color": "#2a3f5f"
          },
          "geo": {
           "bgcolor": "white",
           "lakecolor": "white",
           "landcolor": "#E5ECF6",
           "showlakes": true,
           "showland": true,
           "subunitcolor": "white"
          },
          "hoverlabel": {
           "align": "left"
          },
          "hovermode": "closest",
          "mapbox": {
           "style": "light"
          },
          "paper_bgcolor": "white",
          "plot_bgcolor": "#E5ECF6",
          "polar": {
           "angularaxis": {
            "gridcolor": "white",
            "linecolor": "white",
            "ticks": ""
           },
           "bgcolor": "#E5ECF6",
           "radialaxis": {
            "gridcolor": "white",
            "linecolor": "white",
            "ticks": ""
           }
          },
          "scene": {
           "xaxis": {
            "backgroundcolor": "#E5ECF6",
            "gridcolor": "white",
            "gridwidth": 2,
            "linecolor": "white",
            "showbackground": true,
            "ticks": "",
            "zerolinecolor": "white"
           },
           "yaxis": {
            "backgroundcolor": "#E5ECF6",
            "gridcolor": "white",
            "gridwidth": 2,
            "linecolor": "white",
            "showbackground": true,
            "ticks": "",
            "zerolinecolor": "white"
           },
           "zaxis": {
            "backgroundcolor": "#E5ECF6",
            "gridcolor": "white",
            "gridwidth": 2,
            "linecolor": "white",
            "showbackground": true,
            "ticks": "",
            "zerolinecolor": "white"
           }
          },
          "shapedefaults": {
           "line": {
            "color": "#2a3f5f"
           }
          },
          "ternary": {
           "aaxis": {
            "gridcolor": "white",
            "linecolor": "white",
            "ticks": ""
           },
           "baxis": {
            "gridcolor": "white",
            "linecolor": "white",
            "ticks": ""
           },
           "bgcolor": "#E5ECF6",
           "caxis": {
            "gridcolor": "white",
            "linecolor": "white",
            "ticks": ""
           }
          },
          "title": {
           "x": 0.05
          },
          "xaxis": {
           "automargin": true,
           "gridcolor": "white",
           "linecolor": "white",
           "ticks": "",
           "title": {
            "standoff": 15
           },
           "zerolinecolor": "white",
           "zerolinewidth": 2
          },
          "yaxis": {
           "automargin": true,
           "gridcolor": "white",
           "linecolor": "white",
           "ticks": "",
           "title": {
            "standoff": 15
           },
           "zerolinecolor": "white",
           "zerolinewidth": 2
          }
         }
        },
        "title": {
         "text": "Comparison of Previous Works vs Current Work"
        },
        "xaxis": {
         "anchor": "y",
         "domain": [
          0,
          1
         ],
         "title": {
          "text": "Researchers"
         }
        },
        "yaxis": {
         "anchor": "x",
         "domain": [
          0,
          1
         ],
         "title": {
          "text": "Accuracy Metrics"
         }
        }
       }
      },
      "text/html": [
       "<div>                            <div id=\"caf8b2f1-ada1-4b2b-99ea-dd1ad0cefb7b\" class=\"plotly-graph-div\" style=\"height:525px; width:100%;\"></div>            <script type=\"text/javascript\">                require([\"plotly\"], function(Plotly) {                    window.PLOTLYENV=window.PLOTLYENV || {};                                    if (document.getElementById(\"caf8b2f1-ada1-4b2b-99ea-dd1ad0cefb7b\")) {                    Plotly.newPlot(                        \"caf8b2f1-ada1-4b2b-99ea-dd1ad0cefb7b\",                        [{\"alignmentgroup\":\"True\",\"hovertemplate\":\"x=%{x}<br>y=%{y}<br>color=%{marker.color}<extra></extra>\",\"legendgroup\":\"\",\"marker\":{\"color\":[84,87,99],\"coloraxis\":\"coloraxis\",\"pattern\":{\"shape\":\"\"}},\"name\":\"\",\"offsetgroup\":\"\",\"orientation\":\"v\",\"showlegend\":false,\"textposition\":\"auto\",\"x\":[\"kessler\",\"pangoto\",\"current\"],\"xaxis\":\"x\",\"y\":[84,87,99],\"yaxis\":\"y\",\"type\":\"bar\"}],                        {\"template\":{\"data\":{\"histogram2dcontour\":[{\"type\":\"histogram2dcontour\",\"colorbar\":{\"outlinewidth\":0,\"ticks\":\"\"},\"colorscale\":[[0.0,\"#0d0887\"],[0.1111111111111111,\"#46039f\"],[0.2222222222222222,\"#7201a8\"],[0.3333333333333333,\"#9c179e\"],[0.4444444444444444,\"#bd3786\"],[0.5555555555555556,\"#d8576b\"],[0.6666666666666666,\"#ed7953\"],[0.7777777777777778,\"#fb9f3a\"],[0.8888888888888888,\"#fdca26\"],[1.0,\"#f0f921\"]]}],\"choropleth\":[{\"type\":\"choropleth\",\"colorbar\":{\"outlinewidth\":0,\"ticks\":\"\"}}],\"histogram2d\":[{\"type\":\"histogram2d\",\"colorbar\":{\"outlinewidth\":0,\"ticks\":\"\"},\"colorscale\":[[0.0,\"#0d0887\"],[0.1111111111111111,\"#46039f\"],[0.2222222222222222,\"#7201a8\"],[0.3333333333333333,\"#9c179e\"],[0.4444444444444444,\"#bd3786\"],[0.5555555555555556,\"#d8576b\"],[0.6666666666666666,\"#ed7953\"],[0.7777777777777778,\"#fb9f3a\"],[0.8888888888888888,\"#fdca26\"],[1.0,\"#f0f921\"]]}],\"heatmap\":[{\"type\":\"heatmap\",\"colorbar\":{\"outlinewidth\":0,\"ticks\":\"\"},\"colorscale\":[[0.0,\"#0d0887\"],[0.1111111111111111,\"#46039f\"],[0.2222222222222222,\"#7201a8\"],[0.3333333333333333,\"#9c179e\"],[0.4444444444444444,\"#bd3786\"],[0.5555555555555556,\"#d8576b\"],[0.6666666666666666,\"#ed7953\"],[0.7777777777777778,\"#fb9f3a\"],[0.8888888888888888,\"#fdca26\"],[1.0,\"#f0f921\"]]}],\"heatmapgl\":[{\"type\":\"heatmapgl\",\"colorbar\":{\"outlinewidth\":0,\"ticks\":\"\"},\"colorscale\":[[0.0,\"#0d0887\"],[0.1111111111111111,\"#46039f\"],[0.2222222222222222,\"#7201a8\"],[0.3333333333333333,\"#9c179e\"],[0.4444444444444444,\"#bd3786\"],[0.5555555555555556,\"#d8576b\"],[0.6666666666666666,\"#ed7953\"],[0.7777777777777778,\"#fb9f3a\"],[0.8888888888888888,\"#fdca26\"],[1.0,\"#f0f921\"]]}],\"contourcarpet\":[{\"type\":\"contourcarpet\",\"colorbar\":{\"outlinewidth\":0,\"ticks\":\"\"}}],\"contour\":[{\"type\":\"contour\",\"colorbar\":{\"outlinewidth\":0,\"ticks\":\"\"},\"colorscale\":[[0.0,\"#0d0887\"],[0.1111111111111111,\"#46039f\"],[0.2222222222222222,\"#7201a8\"],[0.3333333333333333,\"#9c179e\"],[0.4444444444444444,\"#bd3786\"],[0.5555555555555556,\"#d8576b\"],[0.6666666666666666,\"#ed7953\"],[0.7777777777777778,\"#fb9f3a\"],[0.8888888888888888,\"#fdca26\"],[1.0,\"#f0f921\"]]}],\"surface\":[{\"type\":\"surface\",\"colorbar\":{\"outlinewidth\":0,\"ticks\":\"\"},\"colorscale\":[[0.0,\"#0d0887\"],[0.1111111111111111,\"#46039f\"],[0.2222222222222222,\"#7201a8\"],[0.3333333333333333,\"#9c179e\"],[0.4444444444444444,\"#bd3786\"],[0.5555555555555556,\"#d8576b\"],[0.6666666666666666,\"#ed7953\"],[0.7777777777777778,\"#fb9f3a\"],[0.8888888888888888,\"#fdca26\"],[1.0,\"#f0f921\"]]}],\"mesh3d\":[{\"type\":\"mesh3d\",\"colorbar\":{\"outlinewidth\":0,\"ticks\":\"\"}}],\"scatter\":[{\"fillpattern\":{\"fillmode\":\"overlay\",\"size\":10,\"solidity\":0.2},\"type\":\"scatter\"}],\"parcoords\":[{\"type\":\"parcoords\",\"line\":{\"colorbar\":{\"outlinewidth\":0,\"ticks\":\"\"}}}],\"scatterpolargl\":[{\"type\":\"scatterpolargl\",\"marker\":{\"colorbar\":{\"outlinewidth\":0,\"ticks\":\"\"}}}],\"bar\":[{\"error_x\":{\"color\":\"#2a3f5f\"},\"error_y\":{\"color\":\"#2a3f5f\"},\"marker\":{\"line\":{\"color\":\"#E5ECF6\",\"width\":0.5},\"pattern\":{\"fillmode\":\"overlay\",\"size\":10,\"solidity\":0.2}},\"type\":\"bar\"}],\"scattergeo\":[{\"type\":\"scattergeo\",\"marker\":{\"colorbar\":{\"outlinewidth\":0,\"ticks\":\"\"}}}],\"scatterpolar\":[{\"type\":\"scatterpolar\",\"marker\":{\"colorbar\":{\"outlinewidth\":0,\"ticks\":\"\"}}}],\"histogram\":[{\"marker\":{\"pattern\":{\"fillmode\":\"overlay\",\"size\":10,\"solidity\":0.2}},\"type\":\"histogram\"}],\"scattergl\":[{\"type\":\"scattergl\",\"marker\":{\"colorbar\":{\"outlinewidth\":0,\"ticks\":\"\"}}}],\"scatter3d\":[{\"type\":\"scatter3d\",\"line\":{\"colorbar\":{\"outlinewidth\":0,\"ticks\":\"\"}},\"marker\":{\"colorbar\":{\"outlinewidth\":0,\"ticks\":\"\"}}}],\"scattermapbox\":[{\"type\":\"scattermapbox\",\"marker\":{\"colorbar\":{\"outlinewidth\":0,\"ticks\":\"\"}}}],\"scatterternary\":[{\"type\":\"scatterternary\",\"marker\":{\"colorbar\":{\"outlinewidth\":0,\"ticks\":\"\"}}}],\"scattercarpet\":[{\"type\":\"scattercarpet\",\"marker\":{\"colorbar\":{\"outlinewidth\":0,\"ticks\":\"\"}}}],\"carpet\":[{\"aaxis\":{\"endlinecolor\":\"#2a3f5f\",\"gridcolor\":\"white\",\"linecolor\":\"white\",\"minorgridcolor\":\"white\",\"startlinecolor\":\"#2a3f5f\"},\"baxis\":{\"endlinecolor\":\"#2a3f5f\",\"gridcolor\":\"white\",\"linecolor\":\"white\",\"minorgridcolor\":\"white\",\"startlinecolor\":\"#2a3f5f\"},\"type\":\"carpet\"}],\"table\":[{\"cells\":{\"fill\":{\"color\":\"#EBF0F8\"},\"line\":{\"color\":\"white\"}},\"header\":{\"fill\":{\"color\":\"#C8D4E3\"},\"line\":{\"color\":\"white\"}},\"type\":\"table\"}],\"barpolar\":[{\"marker\":{\"line\":{\"color\":\"#E5ECF6\",\"width\":0.5},\"pattern\":{\"fillmode\":\"overlay\",\"size\":10,\"solidity\":0.2}},\"type\":\"barpolar\"}],\"pie\":[{\"automargin\":true,\"type\":\"pie\"}]},\"layout\":{\"autotypenumbers\":\"strict\",\"colorway\":[\"#636efa\",\"#EF553B\",\"#00cc96\",\"#ab63fa\",\"#FFA15A\",\"#19d3f3\",\"#FF6692\",\"#B6E880\",\"#FF97FF\",\"#FECB52\"],\"font\":{\"color\":\"#2a3f5f\"},\"hovermode\":\"closest\",\"hoverlabel\":{\"align\":\"left\"},\"paper_bgcolor\":\"white\",\"plot_bgcolor\":\"#E5ECF6\",\"polar\":{\"bgcolor\":\"#E5ECF6\",\"angularaxis\":{\"gridcolor\":\"white\",\"linecolor\":\"white\",\"ticks\":\"\"},\"radialaxis\":{\"gridcolor\":\"white\",\"linecolor\":\"white\",\"ticks\":\"\"}},\"ternary\":{\"bgcolor\":\"#E5ECF6\",\"aaxis\":{\"gridcolor\":\"white\",\"linecolor\":\"white\",\"ticks\":\"\"},\"baxis\":{\"gridcolor\":\"white\",\"linecolor\":\"white\",\"ticks\":\"\"},\"caxis\":{\"gridcolor\":\"white\",\"linecolor\":\"white\",\"ticks\":\"\"}},\"coloraxis\":{\"colorbar\":{\"outlinewidth\":0,\"ticks\":\"\"}},\"colorscale\":{\"sequential\":[[0.0,\"#0d0887\"],[0.1111111111111111,\"#46039f\"],[0.2222222222222222,\"#7201a8\"],[0.3333333333333333,\"#9c179e\"],[0.4444444444444444,\"#bd3786\"],[0.5555555555555556,\"#d8576b\"],[0.6666666666666666,\"#ed7953\"],[0.7777777777777778,\"#fb9f3a\"],[0.8888888888888888,\"#fdca26\"],[1.0,\"#f0f921\"]],\"sequentialminus\":[[0.0,\"#0d0887\"],[0.1111111111111111,\"#46039f\"],[0.2222222222222222,\"#7201a8\"],[0.3333333333333333,\"#9c179e\"],[0.4444444444444444,\"#bd3786\"],[0.5555555555555556,\"#d8576b\"],[0.6666666666666666,\"#ed7953\"],[0.7777777777777778,\"#fb9f3a\"],[0.8888888888888888,\"#fdca26\"],[1.0,\"#f0f921\"]],\"diverging\":[[0,\"#8e0152\"],[0.1,\"#c51b7d\"],[0.2,\"#de77ae\"],[0.3,\"#f1b6da\"],[0.4,\"#fde0ef\"],[0.5,\"#f7f7f7\"],[0.6,\"#e6f5d0\"],[0.7,\"#b8e186\"],[0.8,\"#7fbc41\"],[0.9,\"#4d9221\"],[1,\"#276419\"]]},\"xaxis\":{\"gridcolor\":\"white\",\"linecolor\":\"white\",\"ticks\":\"\",\"title\":{\"standoff\":15},\"zerolinecolor\":\"white\",\"automargin\":true,\"zerolinewidth\":2},\"yaxis\":{\"gridcolor\":\"white\",\"linecolor\":\"white\",\"ticks\":\"\",\"title\":{\"standoff\":15},\"zerolinecolor\":\"white\",\"automargin\":true,\"zerolinewidth\":2},\"scene\":{\"xaxis\":{\"backgroundcolor\":\"#E5ECF6\",\"gridcolor\":\"white\",\"linecolor\":\"white\",\"showbackground\":true,\"ticks\":\"\",\"zerolinecolor\":\"white\",\"gridwidth\":2},\"yaxis\":{\"backgroundcolor\":\"#E5ECF6\",\"gridcolor\":\"white\",\"linecolor\":\"white\",\"showbackground\":true,\"ticks\":\"\",\"zerolinecolor\":\"white\",\"gridwidth\":2},\"zaxis\":{\"backgroundcolor\":\"#E5ECF6\",\"gridcolor\":\"white\",\"linecolor\":\"white\",\"showbackground\":true,\"ticks\":\"\",\"zerolinecolor\":\"white\",\"gridwidth\":2}},\"shapedefaults\":{\"line\":{\"color\":\"#2a3f5f\"}},\"annotationdefaults\":{\"arrowcolor\":\"#2a3f5f\",\"arrowhead\":0,\"arrowwidth\":1},\"geo\":{\"bgcolor\":\"white\",\"landcolor\":\"#E5ECF6\",\"subunitcolor\":\"white\",\"showland\":true,\"showlakes\":true,\"lakecolor\":\"white\"},\"title\":{\"x\":0.05},\"mapbox\":{\"style\":\"light\"}}},\"xaxis\":{\"anchor\":\"y\",\"domain\":[0.0,1.0],\"title\":{\"text\":\"Researchers\"}},\"yaxis\":{\"anchor\":\"x\",\"domain\":[0.0,1.0],\"title\":{\"text\":\"Accuracy Metrics\"}},\"coloraxis\":{\"colorbar\":{\"title\":{\"text\":\"color\"}},\"colorscale\":[[0.0,\"#0d0887\"],[0.1111111111111111,\"#46039f\"],[0.2222222222222222,\"#7201a8\"],[0.3333333333333333,\"#9c179e\"],[0.4444444444444444,\"#bd3786\"],[0.5555555555555556,\"#d8576b\"],[0.6666666666666666,\"#ed7953\"],[0.7777777777777778,\"#fb9f3a\"],[0.8888888888888888,\"#fdca26\"],[1.0,\"#f0f921\"]]},\"legend\":{\"tracegroupgap\":0},\"title\":{\"text\":\"Comparison of Previous Works vs Current Work\"},\"barmode\":\"relative\"},                        {\"responsive\": true}                    ).then(function(){\n",
       "                            \n",
       "var gd = document.getElementById('caf8b2f1-ada1-4b2b-99ea-dd1ad0cefb7b');\n",
       "var x = new MutationObserver(function (mutations, observer) {{\n",
       "        var display = window.getComputedStyle(gd).display;\n",
       "        if (!display || display === 'none') {{\n",
       "            console.log([gd, 'removed!']);\n",
       "            Plotly.purge(gd);\n",
       "            observer.disconnect();\n",
       "        }}\n",
       "}});\n",
       "\n",
       "// Listen for the removal of the full notebook cells\n",
       "var notebookContainer = gd.closest('#notebook-container');\n",
       "if (notebookContainer) {{\n",
       "    x.observe(notebookContainer, {childList: true});\n",
       "}}\n",
       "\n",
       "// Listen for the clearing of the current output cell\n",
       "var outputEl = gd.closest('.output');\n",
       "if (outputEl) {{\n",
       "    x.observe(outputEl, {childList: true});\n",
       "}}\n",
       "\n",
       "                        })                };                });            </script>        </div>"
      ]
     },
     "metadata": {},
     "output_type": "display_data"
    }
   ],
   "source": [
    "import matplotlib.pyplot as plt\n",
    "import plotly.express as px\n",
    "\n",
    "\n",
    "bar = px.bar(x = x, y = y, \n",
    "            title='Comparison of Previous Works vs Current Work', color = y)\n",
    "bar.update_layout(xaxis_title='Researchers', yaxis_title='Accuracy Metrics')\n",
    "bar.show()"
   ]
  }
 ],
 "metadata": {
  "kernelspec": {
   "display_name": "Python 3 (ipykernel)",
   "language": "python",
   "name": "python3"
  },
  "language_info": {
   "codemirror_mode": {
    "name": "ipython",
    "version": 3
   },
   "file_extension": ".py",
   "mimetype": "text/x-python",
   "name": "python",
   "nbconvert_exporter": "python",
   "pygments_lexer": "ipython3",
   "version": "3.9.13"
  }
 },
 "nbformat": 4,
 "nbformat_minor": 5
}
