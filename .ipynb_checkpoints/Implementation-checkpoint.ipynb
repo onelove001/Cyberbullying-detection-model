{
 "cells": [
  {
   "cell_type": "code",
   "execution_count": 52,
   "id": "d6c046f2",
   "metadata": {},
   "outputs": [],
   "source": [
    "# Importing required libraries\n",
    "\n",
    "# this is library for importing and manipulating data\n",
    "import pandas as pd\n",
    "# natural language toolkit is a library used for developing python programs that work with human language data\n",
    "import nltk\n",
    "# stopwords is a bank of words that are usually contained of punctuations and words \n",
    "# that carries no variation therefore they are automatically omitted during analysis\n",
    "from nltk.corpus import stopwords\n",
    "import string\n",
    "# a powerful library for visualizing data points\n",
    "import seaborn as sns"
   ]
  },
  {
   "cell_type": "code",
   "execution_count": 2,
   "id": "477b4113",
   "metadata": {},
   "outputs": [
    {
     "name": "stdout",
     "output_type": "stream",
     "text": [
      "showing info https://raw.githubusercontent.com/nltk/nltk_data/gh-pages/index.xml\n"
     ]
    },
    {
     "data": {
      "text/plain": [
       "True"
      ]
     },
     "execution_count": 2,
     "metadata": {},
     "output_type": "execute_result"
    }
   ],
   "source": [
    "# Download required module\n",
    "\n",
    "nltk.download()"
   ]
  },
  {
   "cell_type": "markdown",
   "id": "096e8b31",
   "metadata": {},
   "source": [
    "## Data Exploration"
   ]
  },
  {
   "cell_type": "code",
   "execution_count": 53,
   "id": "8bbe02ab",
   "metadata": {},
   "outputs": [
    {
     "data": {
      "text/html": [
       "<div>\n",
       "<style scoped>\n",
       "    .dataframe tbody tr th:only-of-type {\n",
       "        vertical-align: middle;\n",
       "    }\n",
       "\n",
       "    .dataframe tbody tr th {\n",
       "        vertical-align: top;\n",
       "    }\n",
       "\n",
       "    .dataframe thead th {\n",
       "        text-align: right;\n",
       "    }\n",
       "</style>\n",
       "<table border=\"1\" class=\"dataframe\">\n",
       "  <thead>\n",
       "    <tr style=\"text-align: right;\">\n",
       "      <th></th>\n",
       "      <th>post_text</th>\n",
       "      <th>followers</th>\n",
       "      <th>friends</th>\n",
       "      <th>favourites</th>\n",
       "      <th>retweets</th>\n",
       "      <th>label</th>\n",
       "    </tr>\n",
       "  </thead>\n",
       "  <tbody>\n",
       "    <tr>\n",
       "      <th>0</th>\n",
       "      <td>It's just over 2 years since I was diagnosed w...</td>\n",
       "      <td>84</td>\n",
       "      <td>211</td>\n",
       "      <td>251</td>\n",
       "      <td>0</td>\n",
       "      <td>1</td>\n",
       "    </tr>\n",
       "    <tr>\n",
       "      <th>1</th>\n",
       "      <td>It's Sunday, I need a break, so I'm planning t...</td>\n",
       "      <td>84</td>\n",
       "      <td>211</td>\n",
       "      <td>251</td>\n",
       "      <td>1</td>\n",
       "      <td>1</td>\n",
       "    </tr>\n",
       "    <tr>\n",
       "      <th>2</th>\n",
       "      <td>Awake but tired. I need to sleep but my brain ...</td>\n",
       "      <td>84</td>\n",
       "      <td>211</td>\n",
       "      <td>251</td>\n",
       "      <td>0</td>\n",
       "      <td>1</td>\n",
       "    </tr>\n",
       "    <tr>\n",
       "      <th>3</th>\n",
       "      <td>RT @SewHQ: #Retro bears make perfect gifts and...</td>\n",
       "      <td>84</td>\n",
       "      <td>211</td>\n",
       "      <td>251</td>\n",
       "      <td>2</td>\n",
       "      <td>1</td>\n",
       "    </tr>\n",
       "    <tr>\n",
       "      <th>4</th>\n",
       "      <td>It’s hard to say whether packing lists are mak...</td>\n",
       "      <td>84</td>\n",
       "      <td>211</td>\n",
       "      <td>251</td>\n",
       "      <td>1</td>\n",
       "      <td>1</td>\n",
       "    </tr>\n",
       "  </tbody>\n",
       "</table>\n",
       "</div>"
      ],
      "text/plain": [
       "                                           post_text  followers  friends  \\\n",
       "0  It's just over 2 years since I was diagnosed w...         84      211   \n",
       "1  It's Sunday, I need a break, so I'm planning t...         84      211   \n",
       "2  Awake but tired. I need to sleep but my brain ...         84      211   \n",
       "3  RT @SewHQ: #Retro bears make perfect gifts and...         84      211   \n",
       "4  It’s hard to say whether packing lists are mak...         84      211   \n",
       "\n",
       "   favourites  retweets  label  \n",
       "0         251         0      1  \n",
       "1         251         1      1  \n",
       "2         251         0      1  \n",
       "3         251         2      1  \n",
       "4         251         1      1  "
      ]
     },
     "execution_count": 53,
     "metadata": {},
     "output_type": "execute_result"
    }
   ],
   "source": [
    "# Read in the data\n",
    "# this prints the first five data points of the data collected\n",
    "\n",
    "df = pd.read_csv(\"data.csv\")\n",
    "df.head()"
   ]
  },
  {
   "cell_type": "code",
   "execution_count": 54,
   "id": "3f19f20c",
   "metadata": {},
   "outputs": [
    {
     "data": {
      "text/plain": [
       "0    49996\n",
       "1    10004\n",
       "Name: label, dtype: int64"
      ]
     },
     "execution_count": 54,
     "metadata": {},
     "output_type": "execute_result"
    }
   ],
   "source": [
    "# Counting the sentiment output by uniqueness\n",
    "# the method value_counts() groups the data by the class and counts the data points belonging to each class\n",
    "\n",
    "df.label.value_counts()"
   ]
  },
  {
   "cell_type": "code",
   "execution_count": 55,
   "id": "b85f714b",
   "metadata": {},
   "outputs": [
    {
     "data": {
      "text/html": [
       "<div>\n",
       "<style scoped>\n",
       "    .dataframe tbody tr th:only-of-type {\n",
       "        vertical-align: middle;\n",
       "    }\n",
       "\n",
       "    .dataframe tbody tr th {\n",
       "        vertical-align: top;\n",
       "    }\n",
       "\n",
       "    .dataframe thead th {\n",
       "        text-align: right;\n",
       "    }\n",
       "</style>\n",
       "<table border=\"1\" class=\"dataframe\">\n",
       "  <thead>\n",
       "    <tr style=\"text-align: right;\">\n",
       "      <th></th>\n",
       "      <th>count</th>\n",
       "      <th>mean</th>\n",
       "      <th>std</th>\n",
       "      <th>min</th>\n",
       "      <th>25%</th>\n",
       "      <th>50%</th>\n",
       "      <th>75%</th>\n",
       "      <th>max</th>\n",
       "    </tr>\n",
       "  </thead>\n",
       "  <tbody>\n",
       "    <tr>\n",
       "      <th>followers</th>\n",
       "      <td>60000.0</td>\n",
       "      <td>914.620983</td>\n",
       "      <td>1291.217836</td>\n",
       "      <td>0.0</td>\n",
       "      <td>189.0</td>\n",
       "      <td>640.0</td>\n",
       "      <td>1383.0</td>\n",
       "      <td>28614.0</td>\n",
       "    </tr>\n",
       "    <tr>\n",
       "      <th>friends</th>\n",
       "      <td>60000.0</td>\n",
       "      <td>635.865450</td>\n",
       "      <td>1146.242840</td>\n",
       "      <td>0.0</td>\n",
       "      <td>207.0</td>\n",
       "      <td>561.0</td>\n",
       "      <td>701.0</td>\n",
       "      <td>28514.0</td>\n",
       "    </tr>\n",
       "    <tr>\n",
       "      <th>favourites</th>\n",
       "      <td>60000.0</td>\n",
       "      <td>7809.898250</td>\n",
       "      <td>9038.196159</td>\n",
       "      <td>0.0</td>\n",
       "      <td>573.0</td>\n",
       "      <td>6920.0</td>\n",
       "      <td>8466.0</td>\n",
       "      <td>39008.0</td>\n",
       "    </tr>\n",
       "    <tr>\n",
       "      <th>retweets</th>\n",
       "      <td>60000.0</td>\n",
       "      <td>1691.906433</td>\n",
       "      <td>17654.728261</td>\n",
       "      <td>0.0</td>\n",
       "      <td>0.0</td>\n",
       "      <td>0.0</td>\n",
       "      <td>1.0</td>\n",
       "      <td>839540.0</td>\n",
       "    </tr>\n",
       "    <tr>\n",
       "      <th>label</th>\n",
       "      <td>60000.0</td>\n",
       "      <td>0.166733</td>\n",
       "      <td>0.372741</td>\n",
       "      <td>0.0</td>\n",
       "      <td>0.0</td>\n",
       "      <td>0.0</td>\n",
       "      <td>0.0</td>\n",
       "      <td>1.0</td>\n",
       "    </tr>\n",
       "  </tbody>\n",
       "</table>\n",
       "</div>"
      ],
      "text/plain": [
       "              count         mean           std  min    25%     50%     75%  \\\n",
       "followers   60000.0   914.620983   1291.217836  0.0  189.0   640.0  1383.0   \n",
       "friends     60000.0   635.865450   1146.242840  0.0  207.0   561.0   701.0   \n",
       "favourites  60000.0  7809.898250   9038.196159  0.0  573.0  6920.0  8466.0   \n",
       "retweets    60000.0  1691.906433  17654.728261  0.0    0.0     0.0     1.0   \n",
       "label       60000.0     0.166733      0.372741  0.0    0.0     0.0     0.0   \n",
       "\n",
       "                 max  \n",
       "followers    28614.0  \n",
       "friends      28514.0  \n",
       "favourites   39008.0  \n",
       "retweets    839540.0  \n",
       "label            1.0  "
      ]
     },
     "execution_count": 55,
     "metadata": {},
     "output_type": "execute_result"
    }
   ],
   "source": [
    "# statistical summary of the dataset\n",
    "# the method describe() counts or summarizes each of the distincts data points\n",
    "\n",
    "df.describe().transpose()"
   ]
  },
  {
   "cell_type": "code",
   "execution_count": 56,
   "id": "3dfc5803",
   "metadata": {},
   "outputs": [
    {
     "data": {
      "text/html": [
       "<div>\n",
       "<style scoped>\n",
       "    .dataframe tbody tr th:only-of-type {\n",
       "        vertical-align: middle;\n",
       "    }\n",
       "\n",
       "    .dataframe tbody tr th {\n",
       "        vertical-align: top;\n",
       "    }\n",
       "\n",
       "    .dataframe thead th {\n",
       "        text-align: right;\n",
       "    }\n",
       "</style>\n",
       "<table border=\"1\" class=\"dataframe\">\n",
       "  <thead>\n",
       "    <tr style=\"text-align: right;\">\n",
       "      <th></th>\n",
       "      <th>label</th>\n",
       "      <th>0</th>\n",
       "      <th>1</th>\n",
       "    </tr>\n",
       "  </thead>\n",
       "  <tbody>\n",
       "    <tr>\n",
       "      <th rowspan=\"8\" valign=\"top\">followers</th>\n",
       "      <th>count</th>\n",
       "      <td>49996.000000</td>\n",
       "      <td>10004.000000</td>\n",
       "    </tr>\n",
       "    <tr>\n",
       "      <th>mean</th>\n",
       "      <td>921.764281</td>\n",
       "      <td>878.921631</td>\n",
       "    </tr>\n",
       "    <tr>\n",
       "      <th>std</th>\n",
       "      <td>834.224429</td>\n",
       "      <td>2553.527763</td>\n",
       "    </tr>\n",
       "    <tr>\n",
       "      <th>min</th>\n",
       "      <td>11.000000</td>\n",
       "      <td>0.000000</td>\n",
       "    </tr>\n",
       "    <tr>\n",
       "      <th>25%</th>\n",
       "      <td>235.000000</td>\n",
       "      <td>177.000000</td>\n",
       "    </tr>\n",
       "    <tr>\n",
       "      <th>50%</th>\n",
       "      <td>640.000000</td>\n",
       "      <td>434.000000</td>\n",
       "    </tr>\n",
       "    <tr>\n",
       "      <th>75%</th>\n",
       "      <td>1849.000000</td>\n",
       "      <td>914.000000</td>\n",
       "    </tr>\n",
       "    <tr>\n",
       "      <th>max</th>\n",
       "      <td>3088.000000</td>\n",
       "      <td>28614.000000</td>\n",
       "    </tr>\n",
       "    <tr>\n",
       "      <th rowspan=\"8\" valign=\"top\">friends</th>\n",
       "      <th>count</th>\n",
       "      <td>49996.000000</td>\n",
       "      <td>10004.000000</td>\n",
       "    </tr>\n",
       "    <tr>\n",
       "      <th>mean</th>\n",
       "      <td>562.615909</td>\n",
       "      <td>1001.937425</td>\n",
       "    </tr>\n",
       "    <tr>\n",
       "      <th>std</th>\n",
       "      <td>521.042780</td>\n",
       "      <td>2522.501896</td>\n",
       "    </tr>\n",
       "    <tr>\n",
       "      <th>min</th>\n",
       "      <td>0.000000</td>\n",
       "      <td>1.000000</td>\n",
       "    </tr>\n",
       "    <tr>\n",
       "      <th>25%</th>\n",
       "      <td>189.000000</td>\n",
       "      <td>211.000000</td>\n",
       "    </tr>\n",
       "    <tr>\n",
       "      <th>50%</th>\n",
       "      <td>561.000000</td>\n",
       "      <td>533.000000</td>\n",
       "    </tr>\n",
       "    <tr>\n",
       "      <th>75%</th>\n",
       "      <td>621.000000</td>\n",
       "      <td>1235.000000</td>\n",
       "    </tr>\n",
       "    <tr>\n",
       "      <th>max</th>\n",
       "      <td>2389.000000</td>\n",
       "      <td>28514.000000</td>\n",
       "    </tr>\n",
       "    <tr>\n",
       "      <th rowspan=\"8\" valign=\"top\">favourites</th>\n",
       "      <th>count</th>\n",
       "      <td>49996.000000</td>\n",
       "      <td>10004.000000</td>\n",
       "    </tr>\n",
       "    <tr>\n",
       "      <th>mean</th>\n",
       "      <td>8516.344648</td>\n",
       "      <td>4279.361056</td>\n",
       "    </tr>\n",
       "    <tr>\n",
       "      <th>std</th>\n",
       "      <td>9263.942903</td>\n",
       "      <td>6788.729775</td>\n",
       "    </tr>\n",
       "    <tr>\n",
       "      <th>min</th>\n",
       "      <td>0.000000</td>\n",
       "      <td>0.000000</td>\n",
       "    </tr>\n",
       "    <tr>\n",
       "      <th>25%</th>\n",
       "      <td>1156.000000</td>\n",
       "      <td>155.000000</td>\n",
       "    </tr>\n",
       "    <tr>\n",
       "      <th>50%</th>\n",
       "      <td>7979.000000</td>\n",
       "      <td>933.000000</td>\n",
       "    </tr>\n",
       "    <tr>\n",
       "      <th>75%</th>\n",
       "      <td>8466.000000</td>\n",
       "      <td>6920.000000</td>\n",
       "    </tr>\n",
       "    <tr>\n",
       "      <th>max</th>\n",
       "      <td>24407.000000</td>\n",
       "      <td>39008.000000</td>\n",
       "    </tr>\n",
       "    <tr>\n",
       "      <th rowspan=\"8\" valign=\"top\">retweets</th>\n",
       "      <th>count</th>\n",
       "      <td>49996.000000</td>\n",
       "      <td>10004.000000</td>\n",
       "    </tr>\n",
       "    <tr>\n",
       "      <th>mean</th>\n",
       "      <td>1819.041523</td>\n",
       "      <td>1056.535986</td>\n",
       "    </tr>\n",
       "    <tr>\n",
       "      <th>std</th>\n",
       "      <td>18794.057814</td>\n",
       "      <td>10182.494852</td>\n",
       "    </tr>\n",
       "    <tr>\n",
       "      <th>min</th>\n",
       "      <td>0.000000</td>\n",
       "      <td>0.000000</td>\n",
       "    </tr>\n",
       "    <tr>\n",
       "      <th>25%</th>\n",
       "      <td>0.000000</td>\n",
       "      <td>0.000000</td>\n",
       "    </tr>\n",
       "    <tr>\n",
       "      <th>50%</th>\n",
       "      <td>0.000000</td>\n",
       "      <td>0.000000</td>\n",
       "    </tr>\n",
       "    <tr>\n",
       "      <th>75%</th>\n",
       "      <td>1.000000</td>\n",
       "      <td>0.000000</td>\n",
       "    </tr>\n",
       "    <tr>\n",
       "      <th>max</th>\n",
       "      <td>839540.000000</td>\n",
       "      <td>402946.000000</td>\n",
       "    </tr>\n",
       "  </tbody>\n",
       "</table>\n",
       "</div>"
      ],
      "text/plain": [
       "label                         0              1\n",
       "followers  count   49996.000000   10004.000000\n",
       "           mean      921.764281     878.921631\n",
       "           std       834.224429    2553.527763\n",
       "           min        11.000000       0.000000\n",
       "           25%       235.000000     177.000000\n",
       "           50%       640.000000     434.000000\n",
       "           75%      1849.000000     914.000000\n",
       "           max      3088.000000   28614.000000\n",
       "friends    count   49996.000000   10004.000000\n",
       "           mean      562.615909    1001.937425\n",
       "           std       521.042780    2522.501896\n",
       "           min         0.000000       1.000000\n",
       "           25%       189.000000     211.000000\n",
       "           50%       561.000000     533.000000\n",
       "           75%       621.000000    1235.000000\n",
       "           max      2389.000000   28514.000000\n",
       "favourites count   49996.000000   10004.000000\n",
       "           mean     8516.344648    4279.361056\n",
       "           std      9263.942903    6788.729775\n",
       "           min         0.000000       0.000000\n",
       "           25%      1156.000000     155.000000\n",
       "           50%      7979.000000     933.000000\n",
       "           75%      8466.000000    6920.000000\n",
       "           max     24407.000000   39008.000000\n",
       "retweets   count   49996.000000   10004.000000\n",
       "           mean     1819.041523    1056.535986\n",
       "           std     18794.057814   10182.494852\n",
       "           min         0.000000       0.000000\n",
       "           25%         0.000000       0.000000\n",
       "           50%         0.000000       0.000000\n",
       "           75%         1.000000       0.000000\n",
       "           max    839540.000000  402946.000000"
      ]
     },
     "execution_count": 56,
     "metadata": {},
     "output_type": "execute_result"
    }
   ],
   "source": [
    "# statistical summary by the target \n",
    "\n",
    "df.groupby(\"label\").describe().transpose()"
   ]
  },
  {
   "cell_type": "code",
   "execution_count": 57,
   "id": "4b5142e1",
   "metadata": {},
   "outputs": [
    {
     "data": {
      "text/html": [
       "<div>\n",
       "<style scoped>\n",
       "    .dataframe tbody tr th:only-of-type {\n",
       "        vertical-align: middle;\n",
       "    }\n",
       "\n",
       "    .dataframe tbody tr th {\n",
       "        vertical-align: top;\n",
       "    }\n",
       "\n",
       "    .dataframe thead th {\n",
       "        text-align: right;\n",
       "    }\n",
       "</style>\n",
       "<table border=\"1\" class=\"dataframe\">\n",
       "  <thead>\n",
       "    <tr style=\"text-align: right;\">\n",
       "      <th></th>\n",
       "      <th>post_text</th>\n",
       "      <th>followers</th>\n",
       "      <th>friends</th>\n",
       "      <th>favourites</th>\n",
       "      <th>retweets</th>\n",
       "      <th>label</th>\n",
       "      <th>length_of_text</th>\n",
       "    </tr>\n",
       "  </thead>\n",
       "  <tbody>\n",
       "    <tr>\n",
       "      <th>0</th>\n",
       "      <td>It's just over 2 years since I was diagnosed w...</td>\n",
       "      <td>84</td>\n",
       "      <td>211</td>\n",
       "      <td>251</td>\n",
       "      <td>0</td>\n",
       "      <td>1</td>\n",
       "      <td>140</td>\n",
       "    </tr>\n",
       "    <tr>\n",
       "      <th>1</th>\n",
       "      <td>It's Sunday, I need a break, so I'm planning t...</td>\n",
       "      <td>84</td>\n",
       "      <td>211</td>\n",
       "      <td>251</td>\n",
       "      <td>1</td>\n",
       "      <td>1</td>\n",
       "      <td>95</td>\n",
       "    </tr>\n",
       "    <tr>\n",
       "      <th>2</th>\n",
       "      <td>Awake but tired. I need to sleep but my brain ...</td>\n",
       "      <td>84</td>\n",
       "      <td>211</td>\n",
       "      <td>251</td>\n",
       "      <td>0</td>\n",
       "      <td>1</td>\n",
       "      <td>64</td>\n",
       "    </tr>\n",
       "    <tr>\n",
       "      <th>3</th>\n",
       "      <td>RT @SewHQ: #Retro bears make perfect gifts and...</td>\n",
       "      <td>84</td>\n",
       "      <td>211</td>\n",
       "      <td>251</td>\n",
       "      <td>2</td>\n",
       "      <td>1</td>\n",
       "      <td>140</td>\n",
       "    </tr>\n",
       "    <tr>\n",
       "      <th>4</th>\n",
       "      <td>It’s hard to say whether packing lists are mak...</td>\n",
       "      <td>84</td>\n",
       "      <td>211</td>\n",
       "      <td>251</td>\n",
       "      <td>1</td>\n",
       "      <td>1</td>\n",
       "      <td>133</td>\n",
       "    </tr>\n",
       "  </tbody>\n",
       "</table>\n",
       "</div>"
      ],
      "text/plain": [
       "                                           post_text  followers  friends  \\\n",
       "0  It's just over 2 years since I was diagnosed w...         84      211   \n",
       "1  It's Sunday, I need a break, so I'm planning t...         84      211   \n",
       "2  Awake but tired. I need to sleep but my brain ...         84      211   \n",
       "3  RT @SewHQ: #Retro bears make perfect gifts and...         84      211   \n",
       "4  It’s hard to say whether packing lists are mak...         84      211   \n",
       "\n",
       "   favourites  retweets  label  length_of_text  \n",
       "0         251         0      1             140  \n",
       "1         251         1      1              95  \n",
       "2         251         0      1              64  \n",
       "3         251         2      1             140  \n",
       "4         251         1      1             133  "
      ]
     },
     "execution_count": 57,
     "metadata": {},
     "output_type": "execute_result"
    }
   ],
   "source": [
    "# calculating the lenth of each tweet \n",
    "# the method len() counts each word of the tweet and adds it as a feature as a length_of_text\n",
    "\n",
    "df[\"length_of_text\"] = df[\"post_text\"].apply(len)\n",
    "df.head()"
   ]
  },
  {
   "cell_type": "code",
   "execution_count": 58,
   "id": "efd973d0",
   "metadata": {},
   "outputs": [
    {
     "data": {
      "text/plain": [
       "<AxesSubplot:xlabel='label', ylabel='count'>"
      ]
     },
     "execution_count": 58,
     "metadata": {},
     "output_type": "execute_result"
    },
    {
     "data": {
      "image/png": "[encoded data removed]",
      "text/plain": [
       "<Figure size 640x480 with 1 Axes>"
      ]
     },
     "metadata": {},
     "output_type": "display_data"
    }
   ],
   "source": [
    "# visualization the number of data by airline sentiment using the sns library\n",
    "\n",
    "sns.countplot(x = 'label', data = df)"
   ]
  },
  {
   "cell_type": "code",
   "execution_count": 59,
   "id": "ec5a8cbd",
   "metadata": {},
   "outputs": [],
   "source": [
    "# function to get rid of stopwords in each tweet\n",
    "# the text_clean(*args) function is created to remove stopwords from each of the tweet to get a more precise variations\n",
    "\n",
    "def text_clean(mess):\n",
    "    # eliminate punctuations in the sentence\n",
    "    new_sentence = [word for word in mess if word not in string.punctuation]\n",
    "    new_sentence=\"\".join(new_sentence)\n",
    "    \n",
    "    # eliminate and return stopwords from the sentence\n",
    "    split_words = new_sentence.split()\n",
    "    return [word for word in split_words if word.lower() not in stopwords.words(\"english\")]"
   ]
  },
  {
   "cell_type": "code",
   "execution_count": 60,
   "id": "06e23351",
   "metadata": {},
   "outputs": [
    {
     "data": {
      "text/html": [
       "<div>\n",
       "<style scoped>\n",
       "    .dataframe tbody tr th:only-of-type {\n",
       "        vertical-align: middle;\n",
       "    }\n",
       "\n",
       "    .dataframe tbody tr th {\n",
       "        vertical-align: top;\n",
       "    }\n",
       "\n",
       "    .dataframe thead th {\n",
       "        text-align: right;\n",
       "    }\n",
       "</style>\n",
       "<table border=\"1\" class=\"dataframe\">\n",
       "  <thead>\n",
       "    <tr style=\"text-align: right;\">\n",
       "      <th></th>\n",
       "      <th>post_text</th>\n",
       "      <th>followers</th>\n",
       "      <th>friends</th>\n",
       "      <th>favourites</th>\n",
       "      <th>retweets</th>\n",
       "      <th>label</th>\n",
       "      <th>length_of_text</th>\n",
       "    </tr>\n",
       "  </thead>\n",
       "  <tbody>\n",
       "    <tr>\n",
       "      <th>0</th>\n",
       "      <td>[2, years, since, diagnosed, anxiety, depressi...</td>\n",
       "      <td>84</td>\n",
       "      <td>211</td>\n",
       "      <td>251</td>\n",
       "      <td>0</td>\n",
       "      <td>1</td>\n",
       "      <td>140</td>\n",
       "    </tr>\n",
       "    <tr>\n",
       "      <th>1</th>\n",
       "      <td>[Sunday, need, break, Im, planning, spend, lit...</td>\n",
       "      <td>84</td>\n",
       "      <td>211</td>\n",
       "      <td>251</td>\n",
       "      <td>1</td>\n",
       "      <td>1</td>\n",
       "      <td>95</td>\n",
       "    </tr>\n",
       "    <tr>\n",
       "      <th>2</th>\n",
       "      <td>[Awake, tired, need, sleep, brain, ideas]</td>\n",
       "      <td>84</td>\n",
       "      <td>211</td>\n",
       "      <td>251</td>\n",
       "      <td>0</td>\n",
       "      <td>1</td>\n",
       "      <td>64</td>\n",
       "    </tr>\n",
       "    <tr>\n",
       "      <th>3</th>\n",
       "      <td>[RT, SewHQ, Retro, bears, make, perfect, gifts...</td>\n",
       "      <td>84</td>\n",
       "      <td>211</td>\n",
       "      <td>251</td>\n",
       "      <td>2</td>\n",
       "      <td>1</td>\n",
       "      <td>140</td>\n",
       "    </tr>\n",
       "    <tr>\n",
       "      <th>4</th>\n",
       "      <td>[It’s, hard, say, whether, packing, lists, mak...</td>\n",
       "      <td>84</td>\n",
       "      <td>211</td>\n",
       "      <td>251</td>\n",
       "      <td>1</td>\n",
       "      <td>1</td>\n",
       "      <td>133</td>\n",
       "    </tr>\n",
       "  </tbody>\n",
       "</table>\n",
       "</div>"
      ],
      "text/plain": [
       "                                           post_text  followers  friends  \\\n",
       "0  [2, years, since, diagnosed, anxiety, depressi...         84      211   \n",
       "1  [Sunday, need, break, Im, planning, spend, lit...         84      211   \n",
       "2          [Awake, tired, need, sleep, brain, ideas]         84      211   \n",
       "3  [RT, SewHQ, Retro, bears, make, perfect, gifts...         84      211   \n",
       "4  [It’s, hard, say, whether, packing, lists, mak...         84      211   \n",
       "\n",
       "   favourites  retweets  label  length_of_text  \n",
       "0         251         0      1             140  \n",
       "1         251         1      1              95  \n",
       "2         251         0      1              64  \n",
       "3         251         2      1             140  \n",
       "4         251         1      1             133  "
      ]
     },
     "execution_count": 60,
     "metadata": {},
     "output_type": "execute_result"
    }
   ],
   "source": [
    "# apply function to each of the tweet in the text column\n",
    "\n",
    "df[\"post_text\"] = df[\"post_text\"].apply(text_clean)\n",
    "df.head()"
   ]
  },
  {
   "cell_type": "code",
   "execution_count": 61,
   "id": "393cc319",
   "metadata": {},
   "outputs": [],
   "source": [
    "# since words or texts cannot be fed directly into the model, it has to be converted into numerical values:\n",
    "# importing count vectorizer\n",
    "from sklearn.feature_extraction.text import CountVectorizer\n",
    "# using the count vectorizer class to convert the collection of text documents to matrix of tokens \n",
    "# which assigns numeric value to each word present in the text"
   ]
  },
  {
   "cell_type": "code",
   "execution_count": 62,
   "id": "fd96e276",
   "metadata": {},
   "outputs": [],
   "source": [
    "# convert the text into a numerical feature vector using bag of words technique\n",
    "# bag of words is a technique which uses the count vectorizer to convert the texts\n",
    "# into a numerical feature that can be analyzed by the model\n",
    "# The fit() method takes the training data as arguments, which can be one array\n",
    "bag_of_words_transformer = CountVectorizer(analyzer=text_clean).fit(df[\"post_text\"])"
   ]
  },
  {
   "cell_type": "code",
   "execution_count": 63,
   "id": "8b2e706b",
   "metadata": {},
   "outputs": [
    {
     "data": {
      "text/plain": [
       "{'2yearssincediagnosedanxietydepressionTodayImtakingmomentreflectfarIvecomesince': 93,\n",
       " 'SundayneedbreakImplanningspendlittletimepossibleA14': 11210,\n",
       " 'Awaketiredneedsleepbrainideas': 686,\n",
       " 'RTSewHQRetrobearsmakeperfectgiftsgreatbeginnersGetstitchingOctobersSewsaleyayhttptco…': 8325,\n",
       " 'It’shardsaywhetherpackinglistsmakinglifeeasierreinforcingmuchstillneedsmovinghouseanxiety': 3832,\n",
       " 'Makingpackinglistsnewhobbymovinghouse': 4767,\n",
       " 'pointkeepingstuffnostalgicreasonscrosslineplainoldhoardingmovinghouse': 17459,\n",
       " 'CurrentlyfindingboxesofrandomshitpackingphasethinkI’mclosethoarder': 1634,\n",
       " 'Cantbotheredcooktakeawayway😁👍🏼lazy': 1252,\n",
       " 'RTitventsnewsITVreleasespromovideofinalseriesDowntonAbbeyhttptcomC8Ive72zRhttptcoCFBKrRvJIs': 9353,\n",
       " 'alsomuchstuffWaywaymuchmovinghouse': 13530,\n",
       " 'neverwantputonetogetherlotharderthanitlookshttptco70ujlTCKlB': 17123,\n",
       " 'Movingstuffbloomin’knackeringthere’sstillloads😥': 5328,\n",
       " 'BackhousemovingstuffIt’speaceful❤️🏡😊': 785,\n",
       " 'UrghAnxietyFFScomeBreathe': 12016,\n",
       " 'muchstuffWaywaymuchMassivepurgeway': 16993,\n",
       " 'HideoustrafficA14Mustrememberpaycloserattentiontrafficreports': 3391,\n",
       " 'PackingpurgingFeelsgood😊👍🏼': 6139,\n",
       " 'BampQlookinginternaldoorsFuntimes😉': 800,\n",
       " 'Timegetmanythingsbusydayahead': 11680,\n",
       " '620getlielittlelongercatbuddy❓': 196,\n",
       " 'Theresnothinglikecocktailsexhaustionaidgoodnightssleep': 11631,\n",
       " 'GreatnightfavouriteladiesMuchneededpastdayslovemuch💕': 2966,\n",
       " 'SatsofaquickresthouragoNeedmove': 10649,\n",
       " 'muchwantpizzaright': 16995,\n",
       " 'alwayslovePeterGabrielEyeshttptcofoAexmvoid': 13543,\n",
       " 'busydayaheadneedfocusImfeelingedgederailmentright': 14081,\n",
       " 'Evensmallestthingstillmakesheartbreakdoesntfeellikeevergoesaway': 2200,\n",
       " 'choosingcurtainpolesuddenlyconfusingManyChoicesyesknowisntrealproblem': 14375,\n",
       " 'CompletedhouseGotkeysfabdayWhoop🏡🎉💕': 1540,\n",
       " 'RTCPHighWycombeCatsProtectionHicouldretweetlongstayersSammySukiPhotographedtodaybuckscatsorgukhttp…': 7177,\n",
       " 'Bigdaytoday🏡😁🎉': 961,\n",
       " 'lovelyPandaStoryhttpstcoGgaVEkymp7': 16384,\n",
       " 'RTSewHQweatheroutsidefrightfulbutmakesdelightfulHeressneakpeakOctoberissuesprojectshttptco…': 8326,\n",
       " 'Thatsgoodnewsleasthttpstco1S0L7ZAqjr': 11529,\n",
       " 'headachetooknapthreehoursWokebitconfusedtimeday😴': 15539,\n",
       " 'RTdeliciousmagbudget21recipes£150lessheaddontcompromiseflavourhttptco0CGzPXJLrPhtt…': 9108,\n",
       " 'RTRSPCAofficialRTncolondonRSPCAofficialPleaseRTus80yrolddogownergettingdistraughtlostdog😓http…': 8210,\n",
       " 'RTBBCCambsFlyingdisplaysvintagejetssignificantlyrestrictednoticeCAAlimitedflypasts': 7051,\n",
       " 'RTcraftsbeautifulHappyMondaycraftersneedbitpickmeupgetstartedcheckhttptco5xa87FWND4…': 9057,\n",
       " 'dontsleeplike💕catsoftwitterhttptcosya7RRr2FahttptcoAgJ2tx5f93': 14773,\n",
       " 'Trulyawful😟httpstcojI4Lw4K8co': 11815,\n",
       " 'dontunderstandachieve😕PalmyrasBaalshamintempleblownhttptcoXvuLGzu73Q': 14786,\n",
       " 'RTdesigntaxiCigarettesmadegreentealeavesclaimhelpquitsmokinghttptcoF7MVaZdBishttptcoHaKwgTO1fO': 9112,\n",
       " 'getmorningtwowholeweeksBliss😊': 15250,\n",
       " 'feellikeinvisiblehandtryingremoveeyeballsspoon😖': 15054,\n",
       " 'RTdesigntaxi‘Hairtapestry’latesthairtrendhttptconEqzTNqVjJhttptcoWrjBKlcVvo': 9117,\n",
       " 'feelslikeshorehamcoveragealtmediagonebeyondnewsghoulish': 15066,\n",
       " 'ThomasEvansUKIPMailentirelyMOMailOnlinebarelynews😕': 11657,\n",
       " 'OffensiveBanterawful😟': 5791,\n",
       " 'awfulnesscontinuesHeartbreaking😟httpstcowdZELWA3ah': 13745,\n",
       " 'Lazyafternoonsnoozekittycatlazysunday': 4365,\n",
       " 'painheartbreaktragedyconfusingemotionfeelsadnesssouthcoastfriendsshoreham': 17363,\n",
       " 'Pouringraincambridgesundidntlastlong😕': 6402,\n",
       " 'RTbrightonargusFriendsWorthingUtdFCfootballerspaytributeteammateshttptcodtJkxu7O3JhttptcohDrCAJ10c9': 8895,\n",
       " 'Ivedonenothinglast40minuteEnoughneedstandstufflazysunday': 3842,\n",
       " 'RTcraftsbeautifulComfySundaymorningcushionblogpostmakesnughttptcoEMSga5PBF3httptcotiyZ…': 9056,\n",
       " 'RTbrightonargusA27diversionroutelikelyremainplacedayShorehamaircrashhttptcoP7NroQNpgihttptcolfLO…': 8894,\n",
       " 'JackDineen1newmediahighlightshypocrisyhumansTragedyglobalmanychooseignorewhatsdoorstepx': 3917,\n",
       " 'hopepilotpullsTheresenoughdeathtodayshoreham😟httpstco6whLQe3pk8': 15665,\n",
       " 'SarahBookeryorkshireguykeepseeingcommentspilotsavedtruefindquiteincredible': 10643,\n",
       " 'SarahBookeryorkshireguyurghawful😢': 10644,\n",
       " 'yorkshireguySarahBookercantshakeimageunsuspectingpeopledrivingalongmindingbusinessTragicallysad': 19342,\n",
       " 'SarahBookerDeargodHorrificimage😟Awfulawfulawful😢httpstcogG0rUMNvmm': 10640,\n",
       " 'RTBBCBreaking7peopleconfirmeddeadplanecrashedseveralvehiclesA27ShorehamAirshowhttptcoiSmQGJY1eB': 7048,\n",
       " 'SarahBookerBBCreporting7fatalitiesfar😟awful': 10639,\n",
       " 'Toastershoppingneedlesslyconfusing': 11704,\n",
       " 'Findinghardfindfunkydecentqualitytoasterreasonablepricesilverboringcheaplookingfirstworldproblems': 2416,\n",
       " 'RTBBCSussexsadfootagereleasedShorehamaircrashcontentobviouslydistressinghttptcoaG2sWz…': 7058,\n",
       " 'SarahBookerthought😟': 10642,\n",
       " 'awfulawfultragedyLetshopecasualties😟httpstcofKRqw7XRHP': 13744,\n",
       " 'true💕httptcoOC0WW3jUQB': 18770,\n",
       " 'SofashoppingWhoop🎉': 10949,\n",
       " 'catalwaysoverjoyedseeeverymorningkindlovepriceless💕😊': 14332,\n",
       " 'jessgracebeachtrip😉': 15952,\n",
       " 'jessgracegoinggo': 15953,\n",
       " 'duskwarmCool😊💕httptcoiZfy86TPbG': 14819,\n",
       " 'MrBenBrownawesomemotovlogscommentarygreatfunwantbike😉': 5330,\n",
       " 'RTJasonLea69dolphinsspottedheadingeastHovekeeplookbrightonargus': 7675,\n",
       " 'finishedservicecentrecalldidntmakewantcrypunchsomethingGoodworkEon👍🏼': 15102,\n",
       " 'RTCambridgeNewsUKMantakenhospitalsufferingarmwrestlinginjuryMillRoadhttptco4vIAhxYS6g': 7215,\n",
       " 'EONhelp☀️': 2066,\n",
       " 'EONhelphithxYesfoundendspokenicehelpfulyoungladysortedThx': 2064,\n",
       " 'EONhelplasttweetdontworryspokevhelpfulyoungladysortedThx': 2065,\n",
       " 'EONhelphiImtryingfindnumberphonenewaccountcantfindPleaseadviseThx': 2063,\n",
       " 'Fragileegosumbragetakenblinkneedbreak': 2510,\n",
       " 'RTDTKenilworthdogsdesperatetreatsBenfriendswouldgratefuldonationsDogsTrusthttptcoQE0…': 7296,\n",
       " 'Twoweekscantfingwaitneedgetawaywork': 11926,\n",
       " 'RThomemade15thingsdidntknowcouldMalteasersepichttptcolmcWqeKIpphttptcoBDeyNVm5BD': 9288,\n",
       " 'Feelingstrangemixexcitedsadbigchangeloomingliberatingmanywayslifeischanging': 2385,\n",
       " 'lasttimeImgoingtakebusworkFeelsweird': 16133,\n",
       " 'needcarelessdontwanthardheart😕': 17061,\n",
       " 'dontknowallowfeeldisappointmentsomeoneeventime': 14753,\n",
       " 'Lastdayoffice2weeksWhoop😊': 4324,\n",
       " 'Horriblemuggyweathercambridgeweather': 3465,\n",
       " 'howevergoingmisslivingroadpeopledrivelikelunatics': 15674,\n",
       " 'Walkinghomeoccurswalkinghomewontpossiblesoonmiss': 12666,\n",
       " 'WonderingturnRaymond😕httpstco8La9quYnv2': 12863,\n",
       " 'I’vedecidedlifeNEEDSpinkcuddlerchairbed😁💗🏡': 3884,\n",
       " 'lovestoryhttpstconjKcbjQSPG': 16398,\n",
       " 'GoodluckkidsgettingGCSEresultstoday🎓resultsday': 2888,\n",
       " 'peopleamptrafficeveryonequietcambridge': 17391,\n",
       " 'faffingconsideredhobbyImgood': 14978,\n",
       " 'absolutely💜httptcoNo4nlwFU0b': 13184,\n",
       " 'thinkrightsofashoppingExcitedlol🏡🎉': 18629,\n",
       " 'supposeget': 18383,\n",
       " 'NeedsleepexcitingdayImstillbuzzed😁🏡': 5529,\n",
       " 'MinihogearliereveningOnetwomoved💕httptco29co4uhEm0': 5014,\n",
       " 'RTdesigntaxibesttimespostFacebookInstagramTwitterhttptcoQ96mJITd86httptcoVtRkDF14tB': 9116,\n",
       " 'Anothermilestonedayinsuranceplacefinalviewingtonightdepositpreparedexchangeimminent👍🏼😊': 538,\n",
       " '😁httptcol7D49IpUgk': 19454,\n",
       " 'misseverysingledaydontthinkknowStilltrue💕': 16866,\n",
       " 'ThereseithereyelashelephanteyeEitherwaynetresultpain': 11625,\n",
       " 'RTElephantopiaELEPHANTFACTDAYelephantherdconsideredonecloselyknitsocietiesanimalhttp…': 7401,\n",
       " 'CeliaHammondbeautifulSpopieadoptedCHAT2007Loving☀️lastweek💗blackcatappreciationdayhttptcoccLqLmsYPr': 1301,\n",
       " 'Nimmykinsstilluseaccount': 5634,\n",
       " 'Paulamanning6RSPCAofficialbeauty': 6199,\n",
       " 'InterestingreadingBBCNewsBetterdiagnosiscalladultsADHDhttptcoExEOX2R8CA': 3815,\n",
       " 'RSPCAofficialgirlSpopieblackcatappreciationdayhttptcomgDEVpbQ3O': 6583,\n",
       " 'Cementingstatus‘thatcrochetingweirdo’staffcafe😁': 1304,\n",
       " 'HearhearhttpstcoqWjDXE8Eww': 3167,\n",
       " 'NeverthoughtIdsayImgladdistractionworkSomethingkeepproductiveorganised': 5560,\n",
       " 'feelsautumnalsudden🍂🍁': 15062,\n",
       " 'MadeJesscake🎂httptco0DIPzH62iM': 4733,\n",
       " 'RTCambridgeNewsUKCommunityralliesbehindformersoldierseenbeggingBeehiveCentrehttptcon4D4rY347mhttptco…': 7214,\n",
       " 'RTabigailtitmuss5yrsagopuppyabandonedIrelandDogsTrusttookLondonadoptedTodayswimsCalifornia…': 8736,\n",
       " 'misseverysingledaydaysfeelslikegutpunched': 16865,\n",
       " 'Housesmellscake😍🎂': 3476,\n",
       " 'CottongrannysquarepinkgreycrochetgrannysquarehttptcoZQzUv3mbEX': 1598,\n",
       " 'IvelittlecaryeartodayHappyBirthdaylittlecarstillgoingstrong🎉🚘': 3855,\n",
       " 'badweekcallscomfortfoodhttptcopamCWA4299': 13883,\n",
       " '❤️Ely😊💕elycambridgeshirehttpstcoSryXXpkJlQ': 19425,\n",
       " 'GorgeousdaydriveElyElyCatherdralhttpstcoJ9sd3rju7k': 2904,\n",
       " 'jessgracethoughtsaidcould😉': 15954,\n",
       " 'SarahBookerlooksawfulhopeyoureokayxxhttpstcoE5oaLT18Yx': 10641,\n",
       " 'RTbrightonarguspicturesSevereweatherhitsSussexhttptcoQGXilqMxMihttptcowJCxwF2vr2': 8896,\n",
       " 'Block12anothertraditionalgrannysquarecrochetcrochetblanketafghanhttptcoDfaZPxheqH': 993,\n",
       " 'Hogtime💕hedgehoghttptcotxlXnmZwgB': 3416,\n",
       " 'httptco9ckfTcg4to': 15728,\n",
       " 'knowdontcrochettipsyangrysadmanyextremescrochetdontmix': 16078,\n",
       " 'FeelingemotionallydrainedTimeeasystressfreeeveningCrochetPenguinsMadagascar🐧': 2380,\n",
       " 'RTrichardbransonReadwonderfulblogelephantconservationZimbabwehttptcoMByWtcAElXWorldElephantDayhttptco…': 9882,\n",
       " 'RTAstronautAbbyAstroLuca2013RTastrolucaArrivingQueenslandwe’rewelcomedrivetingcolorfulnatureAustraliahttp…': 7027,\n",
       " 'RTBBCCambsAboardaquaticcombinesharvestingweedsCambswaterwayshttptcooROpiSiWk2dottymcl0750httptco9V5Afb…': 7050,\n",
       " 'yephttptcoJ8chAUgPTy': 19331,\n",
       " 'BighogglesuppertonightHesmagicallittlebeastie💗httptcoz8ECvjJG46': 962,\n",
       " 'RTRSPCAofficialMarleyampZenaDogRescuerslookingfabrescueownerletalmoststarveOwningdogpriv…': 8208,\n",
       " 'RTProtectWldlifeIndeedhttptcowK9r6khTaj': 8191,\n",
       " 'magicalskytonightchangessecondsnofilterhttptco7Ms2AwwgQY': 16623,\n",
       " 'BeautifulskytonightnofilterhttptcoC3DI8rp0bq': 876,\n",
       " 'rareTuesdaytreatdinnercomfortfoodhttpstco9LEtZ3J7NN': 17632,\n",
       " 'BoughttodayCantdecidesuperorganisedwaaayearlyhttptcoq73bhZqJLn': 1030,\n",
       " 'lilypebblessorryhearLilyPetsfamilyheartbreakingdieDixielovelylifex': 16253,\n",
       " 'MustrememberhttptcoPq9N006MBF': 5365,\n",
       " 'GorillaAmazingReactionReunitedManTookCare5Yearshttptcowul3hxTvGR': 2905,\n",
       " 'RTdesigntaxiTesteyesplayingfastpacedcolormatchinggamehttptcohFramEin83httptcoqDUPDbDRNq': 9115,\n",
       " 'scored447pointsKOLORgameguesscolorsscorehigh': 18005,\n",
       " 'AwakeMindracingNeedsleepdammit😟insomnia': 685,\n",
       " 'Square11donecrochetcrochetblankethttptco4EHqftYzvt': 11081,\n",
       " 'thecandouristgladseesurvivedbrutalitydesertStaystrongsafe': 18503,\n",
       " 'I’verememberednewhouserangecookerWhoopLookingforwardroadtesting😊': 3885,\n",
       " 'Square10lacycrochetpaleblueDKyarncrochetingcrochetblankethttptcoVRVVn6vqoH': 11080,\n",
       " '9squaresmadecrochetcrochetinghttptcomROMYKM0tA': 234,\n",
       " 'RTCambridgeNewsUKlookaroundMiltonCountryParkWevefoundprettiestspotshttptcownbSmqq5hshttp…': 7216,\n",
       " 'RTtwistedthreadHappySundayBorntoSewhttptcopmV7hEWAZW': 10146,\n",
       " 'Deckchairsunwhatslove☀️💕😎CatsOfTwitterhttptcoVEGr1rwUag': 1804,\n",
       " 'WatchingPitchPerfect2PatBenatarBelonghttpstcoWLLJ5EN5UY': 12693,\n",
       " 'NatalieImbruglia': 5475,\n",
       " 'TwohogglesdinnerfartonighthedgehoghttptcoujiXe60Csl': 11923,\n",
       " 'RTbhcitynewsBrightonstudentchosenexhibitalongsideHogarthReynoldsNationalPortraitGalleryhttptco4tiSQ7JM61': 8872,\n",
       " 'WoofALL4PETSbeautifulkitty': 12867,\n",
       " 'ViviannaMakeuplovelykitchen': 12602,\n",
       " 'RTCambridgeNewsUK18funthingsCambridgeshireSeptemberhttptcoU79AgwlxOphttptco7wtocGuE9r': 7211,\n",
       " 'see😎WorldCatDayhttptcoD9tBTMHLsc': 18041,\n",
       " 'RTDogsTrustpupscantcuddledduehorribleskininfectionDTEssexprovideTLChttptcoYy1IW5RULjhttptc…': 7337,\n",
       " 'chairmine💗worldcatdayhttptcoHrwdUOKSYG': 14348,\n",
       " 'RTCambridgeNewsUKCambridgeshireCookBookhttptcowIma0jCgmmhttptcoGoz1FfmDId': 7213,\n",
       " 'RTCambridgeNewsUKAlevelpredictedgradeswrongCambridgeAssessmentfindshttptco8UiyJMJH3U': 7212,\n",
       " 'mightcompletedhousetimenextweekWhoop🎉🏡': 16838,\n",
       " 'MrBenBrownwatchedampStevegettatsLookedpainlesswant👍🏼': 5331,\n",
       " 'Keepingcompanywork❤️WorldCatDayCatsProtectionhttptcoG4FLZSvK6P': 4141,\n",
       " 'happylittledogRoseplaysballoonhttpstcoQ75cZVKHtzviaYouTube': 15487,\n",
       " '4snufflyhedgehogsdinnerevening❤️': 117,\n",
       " 'PoorbabieshttpstcoSMZnjrNrrK': 6374,\n",
       " 'Ohwrongpeoplehttpstcozl9f9h6agQ': 5838,\n",
       " 'estateagentofficiallypissing': 14886,\n",
       " 'RTBBCCambsWoman20assaultedwalkedhomePeterboroughappealCambsCopshttptcoq5ZXbWpDOm': 7052,\n",
       " 'RTrichardbransonbiggameanimalsworthalivedeadhttptcoRovVjkRo2Qhttptcok5hWnhcdzF': 9883,\n",
       " 'DonkeySanctuarymentionTimesfastestgrowingfarmattractionlovelyYaydonkeys💕httptcozFkMaLzZRK': 1972,\n",
       " 'schoolsThere’strafficmorningFeelsreallyodd': 18001,\n",
       " 'Square8completeTreblesbobblescrochethttptco2cu6FpvKeW': 11082,\n",
       " 'RTProtectWldlifePleaseRTmassiveTHANKkindsoulslookorphansRhinohorntradeInSafeHandshtt…': 8192,\n",
       " 'RTProtectWldlifeScaredbabyElephantRapascriessaveddrowninghttptcoqiEZ1AIM6xManythanksDSWTteamhttp…': 8193,\n",
       " 'riverCamstillfilljoy🙏🏼💕httpstcoSzdImZ4HBv': 17894,\n",
       " 'beautifuleveninggentlewalkhomehttpstcoJW4hie24Jl': 13919,\n",
       " 'YaayGrantchester😁👍🏼httpstcoYdQ4NKQyzc': 12949,\n",
       " '❤️busdriversactuallywaitelderlypassengerssitstartdrivingarentnice': 19426,\n",
       " 'RIPGeorgeMinderstarGeorgeColedies90httptcoOm3Bqe3P57': 6578,\n",
       " 'Poffyalwaytaketimehecticschedulesleepingampeatinggivebuddyquickwash❤️httptco2801UBO3on': 6364,\n",
       " 'TryingnewstitchBituneventestattempt😊crochethttpstco9sEF1JpRGu': 11874,\n",
       " 'RTRSPCAofficialRTheartwiltsnewsKittensfoundcartowed87milesSwindonhttptcoXDH7vv640AHeartNewshttptcogS…': 8209,\n",
       " 'boyfrontbeardreekslagergotchildbusfaremystery😳': 14021,\n",
       " 'I’mstepclosertowardscontractssignedcompletionhouseExcitingtimes😎': 3880,\n",
       " 'Disgustinghopecatchpersonhttpstco9ejubl3XC7': 1942,\n",
       " 'RTtwistedthreadMinionsfanspatternshttptcoB6nCIujZi8sewingfelthttptcoD52ww2qKJb': 10147,\n",
       " 'CatsProtectiononegirlsbestsleeping💗WhiskersWednesdayhttptcoZuJ8Nwz48B': 1279,\n",
       " 'wishforeignlanguageschoolsCambridgewouldteachstudentsmanners😤': 19174,\n",
       " 'BadnightssleepWeirdanxietydreamsleftfeelinganythingrefreshed😕': 791,\n",
       " 'thecandouristfantasticfirstvlogemotionalBeautifullyfilmedGoodluckepicride👊🏼🍀': 18502,\n",
       " 'httptcoVDErR663eU': 15735,\n",
       " 'Tuesdaymorninghttptco9mxCpI5SJN': 11887,\n",
       " 'RandomsongpoppedheadMidnightTrainGeorgiaideahttptcow0bsahUYbb': 10262,\n",
       " 'Lifemayseemperfectoutsideworldmotivationalquoteshttptco7EaDTs8Qb4': 4430,\n",
       " 'RTrickygervaisseriousnoteImincrediblyproudunifiedcompassioncondemnationanimalsabusers…': 9893,\n",
       " 'Theresnothingdeliciouscominghometakingworkclothes😊': 11630,\n",
       " 'Talking80sTVshowsafternoonbroughtmentiontalkingaspidistraremembers😉': 11433,\n",
       " 'AppealidentifysuspectshomophobicassaulttrainbackLondonBrightonPridehttpstcozCH0e0kVFg': 606,\n",
       " 'RetrosweetsMonday😁httpstcoqmca1QFuhs': 10406,\n",
       " 'RTdesigntaxiMakeupartistpaintswonderfulwhimsicalscenesadorablecatseyelidshttptcoHoGYWEsBYlhttptco5y8mTUlszW': 9114,\n",
       " 'RTfolksyFeelingoverwhelmedCraftBusinessAdviceTimeManagementTipshttptcoSTADTOt2OY': 9197,\n",
       " 'RTdesigntaxiKnowcatlovingfriendwouldlovepatchhttptcoTOyxOBW1jthttptcoEjAX83Yl40': 9113,\n",
       " 'RTcraftsbeautifulyarnbombingcomeCoronationStreethttptcoMC8Xar7kUvhttptcoXaxPcJU14d': 9058,\n",
       " 'MondayImcominggetyapositiveaffirmationshttptcoGV0tuIn8md': 5206,\n",
       " 'RememberhttptcomyLwHHyv1D': 10372,\n",
       " 'PreMondayanxietyanxietysucks😟': 6419,\n",
       " 'wonderful😊💗httpstcoWVUwZfkLal': 19207,\n",
       " 'HolywellriverfronthttpstcoXjZYXOBaPt': 3434,\n",
       " 'SundaylunchOldFerryboatInnhttpstcobB13500Cy2': 11209,\n",
       " 'RIPCillaCillaBlackdiesaged72viaTelegraphhttptcovXpY3OnxJS': 6577,\n",
       " 'BanglesEternalFlamehttptcoWRv8vTcnJ8': 802,\n",
       " 'Soooosleepyit’s830Saturdaynight😴': 11002,\n",
       " 'firstcrochetflowerhttptcoybbOv8iQik': 15104,\n",
       " 'Funnysongtransporttimeplaceremindsomeonecausingphysicaljoltchangingmomentinstantly': 2584,\n",
       " 'wentHobbycraftblackbuttonsSeveralballswoolampneedlefeltkitlaterhttptcoqXCsJt0hOP': 19131,\n",
       " 'Mashedavocadotoastbreakfastchampions💗httpstcoD22S28tSNT': 4836,\n",
       " 'RTrichardbransonprotectingendangeredspeciesoneimportantthingsushttptcoI0v3Kmqjy0httpt…': 9885,\n",
       " '💗TearsFearsHeadHeelshttptcowcdyqrNWCf': 19452,\n",
       " 'MumsurgeryseemsfineOvernighthospitalhometomorrow😊': 5351,\n",
       " 'NewcrochetprojectmakingredpoppiessellBritishLegionFirstflowersI’veevermade😊': 5593,\n",
       " 'vilesubhumanhttpstcov8ADW40cVQ': 18926,\n",
       " 'GoodhomeHappyit’sfinallyFridaywork😊': 2885,\n",
       " 'RTRSPCAofficialWouldknowcatpoisonedSeesymptomsampadvicehttptco1x7QhZOZzph…': 8211,\n",
       " 'depressionillnesshttpstcofDKqA7OpWA': 14638,\n",
       " 'SearchingtherapistmeetsweekendshttpstcoI0KyqS5ccm': 10702,\n",
       " '1stLady’smentalhealthroadmapmentalwellnesshttpstcoGgGJ0N9ehX': 57,\n",
       " 'WantteenpracticesafesexparentinghttpstcorgooMJ9ZkN': 12677,\n",
       " 'Untreatedmentalillnessleaves2deadmentalillnesshttpstco5DbkU63byZ': 12010,\n",
       " 'StereotypesteensundermineparentshttpstcoB4pt0UJftq': 11122,\n",
       " 'lovedonecrisishttpstcoiMsHcLlfeo': 16375,\n",
       " 'ParentingmentalillnessmentalillnesshttpstcoUZeFiuSCeN': 6160,\n",
       " 'recoveryaddictionimpactsfamilyhttpstco7GesKMVBxI': 17811,\n",
       " 'HeroindeathssurgehttpstcoBLn2Dy3wJd': 3251,\n",
       " 'raisenarcissisthttpstcoiFVP7n4lhD': 17625,\n",
       " 'Top13relationshipdealbreakershttpstcoG7XBNBG0a8': 11742,\n",
       " 'CBTwinterblueshttpstcoS8qQPZffOG': 1144,\n",
       " 'DecisiveMarriagehttpstco4L9mJjBsj2': 1803,\n",
       " 'mentalsufferinglikeillnessmentalillnesshttpstcomrRSFeHCJG': 16822,\n",
       " '75woundedveteranssufferPTSDhttpstcokja7b4hkfw': 216,\n",
       " 'Stressedtiredrushedfamilyhttpstco46OCjnAljy': 11168,\n",
       " 'ClientTherapistrelationshiphttpstcoZpP2xejRL5': 1494,\n",
       " 'WhatstraumaticbirthhttpstcoiSz9r9d4uR': 12796,\n",
       " 'USTherapistGeneralhttpstcoRR7pfW5wO0': 11954,\n",
       " 'addictioncrisisUShttpstcoidXDoONIbf': 13309,\n",
       " 'couldjewelryhelppreventsexualassaulthttpstcoC4Y1ci0Voj': 14475,\n",
       " 'GonorrheabecomingresistantSTDhttpstco3XSuj5vEO3': 2875,\n",
       " 'parentssextalkchildrenhttpstco8iuFQiNOWI': 17369,\n",
       " 'SubtlesuicidehttpstcouI5SPpZjxF': 11190,\n",
       " 'HalloweentraumatizechildrenhttpstcobBecDKmh2U': 3053,\n",
       " 'Collegestudentsalcoholdisordershttpstco9zDvTemV2F': 1512,\n",
       " 'whitemendiesuicidesubstanceabusehttpstco5DCfH8aiS1': 19145,\n",
       " 'sexcouplesfertilitybenefitshttpstcomDd33Zhdol': 18070,\n",
       " 'MarcheatingdisordersWashingtonhttpstco7IXmAD1XaR': 4817,\n",
       " 'Anorexicwomanweighed40poundshttpstcolFS6FqgNFL': 534,\n",
       " 'LovewomenanxietyhttpstcorZXY9JGwBe': 4612,\n",
       " 'MindfulnessworkplacehttpstconIvRzSqE7W': 5011,\n",
       " 'teachchildrenselfadvocateparentinghttpstcoTjdzOMu5Ua': 18443,\n",
       " 'childreninheritanxietyhttpstcottw0BgRbqS': 14364,\n",
       " 'ChildrenselfesteemhttpstcoS3Dz8UqYji': 1374,\n",
       " 'happenstrypreventeverysuicidehttpstcoYA5jcyIhij': 15481,\n",
       " 'dealmentalhealthissuesworkmentalhealthhttpstcoYzwzwPxXiy': 14615,\n",
       " 'PeersupportbreakingstigmahttpstcoavmVqvezGx': 6209,\n",
       " 'TeensselfharmbullyingsextinghttpstcoNCEKZw8t5A': 11484,\n",
       " 'LimitvideogametimehelpmanageADHDhttpstco92w8iV5e6b': 4453,\n",
       " 'stopchildabusehttpstcolFtW4lpGs2': 18328,\n",
       " 'NeedweekendcounselingappointmentCThttpstcoDRW6HNlRkY': 5533,\n",
       " 'knowsignschildneglecthttpstcoPaLX7pYTc7': 16098,\n",
       " 'LovepersonmentalillnessmentalillnesshttpstcoYN9txXMcRZ': 4606,\n",
       " 'Messagesmentalillnessworldwidementalillnesshttpstcozj4cyOnWoW': 4942,\n",
       " 'acceptemotionsacceptancehttpstcoENrbFZ6qfS': 13185,\n",
       " 'NeedtherapistacceptsHuskyinsuranceCThttpstcoqa3Oxxuqah': 5532,\n",
       " 'sideeffectsantidepressantshttpstcowPkchM2OsT': 18135,\n",
       " 'ThinksadnessmaydepressionhttpstcoN6Bo4PQLoZ': 11653,\n",
       " 'MentalhealthacademiclifementalhealthhttpstcoHgTENMFT2y': 4925,\n",
       " 'comesstresswomenworsehttpstcoFjCCS59mzn': 14410,\n",
       " 'PoorparentingchildrenbehaviorproblemshttpstcoebDGrwjURk': 6376,\n",
       " 'DatingsitesconnectedSTDincreasehttpstco8Tf90Gvl2Q': 1751,\n",
       " 'SearchingcounselormeetsweekendshttpstcoORUlLlzO8D': 10701,\n",
       " 'SubtlesignsdepressionhttpstcoZ5ZWJu2OoU': 11189,\n",
       " 'Menaccount76suicides2014httpstcoka1aDaKnDH': 4916,\n",
       " 'Accountantsmentalhealthstresshttpstcop3k1LHa0WU': 308,\n",
       " 'AnotherwaycounteranxietyhttpstcoRXiFoDLU56': 541,\n",
       " 'legalizingprostitutionleadtraffickinghttpstcoYXt8mj2hkV': 16188,\n",
       " 'Thingsshouldn’taffairhttpstcoWv2Yf0IhHS': 11642,\n",
       " 'earlylifestressleaddepressionlaterhttpstcoUQLOWlVP8h': 14829,\n",
       " 'marriagegoodhealthhttpstcoBa9iGINNBl': 16738,\n",
       " 'struggleneedperfectionhttpstcoCYutjsH9Mi': 18353,\n",
       " 'birthcontrolimpactedmarriagehttpstcoTDQFZL2Fur': 13978,\n",
       " 'seniorscopedepressionhttpstcotwyblQ4AxV': 18053,\n",
       " 'makesensedepressionhttpstcoE9DrgrClmn': 16658,\n",
       " 'stresseffecthealthhttpstcoGxXCFMGP1f': 18347,\n",
       " 'BlackmenmentalillnessmentalillnesshttpstcoCws4FHg48J': 988,\n",
       " 'UnderstandinganxietymenhttpstcoYWQPeulzTW': 11976,\n",
       " 'Mentallyillleftbehindmentalillneshttpstco3VBpl3SdHx': 4933,\n",
       " 'TacklingfeelingsresentmenthttpstcoJ8Vk1A07Du': 11345,\n",
       " 'Mythsundermineaddictionrecoveryhttpstco5ESWo5rKJ6': 5373,\n",
       " 'manypeopleknowcocaineproblemaddictionhttpstcoMwkaTy7OK6': 16689,\n",
       " 'ChildrenpotaddictionhttpstcoiOPC5Nqd3X': 1373,\n",
       " 'PTSDfloodhttpstcoBwJukxaief': 6134,\n",
       " 'VolunteeringimprovesmentalhealthhttpstcoBQaAvYc3Oy': 12603,\n",
       " 'TakingcareworkhttpstcoW8FnjtCA0Y': 11363,\n",
       " 'Reversingchildhoodobesityhttpstco6VzzS1CJQE': 10409,\n",
       " 'Don’ttakechildrenhttpstcoLDjTKbaSs2': 2009,\n",
       " 'RefusingtreatmentBipolarDisorderhttpstco9dCkLqCX4i': 10343,\n",
       " 'Doctorsvaccineshttpstco177lF1Q8qM': 1952,\n",
       " 'SpotlightprescriptiondrugabusehttpstcoyukITpDmZH': 11071,\n",
       " 'ADHDAin’tDaddyHomeDisorderhttpstcoJJXPpxWit5': 243,\n",
       " 'NexttimenoticefeelingsomeonesmilesMindfulnesshttpstco7Ft3W48rfZ': 5608,\n",
       " 'Screeningchildrendepressionphysicalexamshttpstco5rFzoySmuf': 10686,\n",
       " 'GeneticmutationscausehalfAutismhttpstco1CnUiIkrTR': 2649,\n",
       " 'jobimpactmentalhealthhttpstcoZUMj52xLoi': 15970,\n",
       " 'AustralianMentalHealthsystembrokenhttpstcoLRyHGfZWl0': 675,\n",
       " 'ScholarsquestionADHDevenexistshttpstcoq4ii1bMEw2': 10666,\n",
       " 'ChildrengoingchiropractorhttpstcovGJKGEVFkc': 1372,\n",
       " 'knowbipolardisorderhttpstcoxzNpPp52KQ': 16070,\n",
       " 'KidsScreenelectronicsAddictionhttpstcor4wcXN9sut': 4184,\n",
       " 'IncreaseADHDmedicationusehttpstcoWhwDD2QWpU': 3779,\n",
       " 'OlderwomenstillenjoysexhttpstcoWYdF2jnlFq': 5870,\n",
       " 'anyoneexpressedconcernmuchworryanxietyhttpstcordbvL7dh2S': 13640,\n",
       " 'loveaddictedmeanhttpstcowngEb677PF': 16368,\n",
       " 'Talkingbesttherapyhttpstco2xvhKey1tg': 11434,\n",
       " 'Collegekidsalcoholhttpstco2CSoRPUfZK': 1508,\n",
       " 'GettingteachersmentalhealthtraininghttpstcoMNjGsSjD9i': 2809,\n",
       " 'PeoplerecoveryneedsupporthttpstcoNIKUZDhvBE': 6254,\n",
       " 'telldatedmenpastrelationshipsdatinghttpstcoGwpg91mSed': 18458,\n",
       " 'Realmendon’tgetdepression’stereotypehttpstcoGtspMr4CGq': 10311,\n",
       " 'Worstshabitsmentalhealthhttpstco33Ut0oiyz7': 12890,\n",
       " 'Tipsovercomedepressionhttpstco7lcb7WzVgz': 11697,\n",
       " 'Differentparentingstyleshttpstcoc66HoSyQqt': 1930,\n",
       " 'Linkmaternityleavementalhealthhttpstco5zEhlOUcQK': 4504,\n",
       " 'SavoringpositiveemotionshttpstcoPBrbURybaE': 10653,\n",
       " 'Suicidesurvivor’spointviewhttpstcoh4xLIPlYty': 11203,\n",
       " 'IncreasedfundingYouthMentalHealthSubstanceabusepreventionhttpstcoErUxHbej4z': 3780,\n",
       " 'DailyadmissionsselfharmhttpstcoeaKfenpevI': 1677,\n",
       " 'Signsmentalstrengthresiliencehttpstco6QaeGINVG7': 10852,\n",
       " 'Questionssexaddictionhttpstcou13qKo3rAl': 6549,\n",
       " 'WomengreaterriskPTSDmenhttpstcoD53j1s80i9': 12860,\n",
       " 'WantimproverelationshipshttpstcoeqKMa8DZN9': 12676,\n",
       " 'Menanxietydepressionhttpstco5YGwafRXgO': 4917,\n",
       " 'Teenprescriptiondrugusehttpstcosho3CXrzLA': 11482,\n",
       " 'childbecomesbullyhttpstcoO8Us1m6Y7b': 14362,\n",
       " 'menbiologicalclockshttpstco0Ng4gHVP3y': 16814,\n",
       " 'DrugpreventiontipsYouthhttpstcokF6Gw0BNL0': 2034,\n",
       " 'LookingtherapistConnecticutseeweekendshttpstco3DH4DbQRQl': 4577,\n",
       " 'eversuspectedsomeoneexperiencingPTSDhttpstcoYY1RxTWeSh': 14917,\n",
       " 'reallyhelpmakehomeworklessstressfulchildrenhttpstcovOc0GJ4r2S': 17772,\n",
       " 'usesecigarettesnicotineaddictionhttpstcoihSUGiKbfX': 18906,\n",
       " 'toxicworkspacementalhealthhttpstcoD8vFs2rLaS': 18724,\n",
       " 'MentalhealthtreatmentERmentalillnesshttpstcoRTKBDV0eHV': 4929,\n",
       " 'videogameshelpmanageADHDhttpstcoc7cxzDBGYB': 18922,\n",
       " 'postpartumdepressionlooklikehttpstco9TcGPmO5h8': 17528,\n",
       " 'dealaggressivechildrenhttpstcoqnNWVndvZJ': 14613,\n",
       " 'Keepingpoorchildrenschoolhttpstco1NJK44VNFM': 4142,\n",
       " 'knowshynesshttpstcomlIjxuXLMB': 16096,\n",
       " 'meanpeoplesuccessfulcounselinghttpstcoKVfdZ7EvBc': 16789,\n",
       " 'ChildrensexuallyinappropriatebehaviorshttpstcooA9smskbq5': 1375,\n",
       " 'everfeelingsemptinesshttpstcoaGCcXW8mhN': 14906,\n",
       " 'talkedkidcollegeparentingstresshttpstcour2K9Y1LDD': 18430,\n",
       " 'kidstoddlersdepressionhttpstcoCcptRWyhus': 16026,\n",
       " 'helpteenpeerpressureparentinghttpstcox0v4HRTxDF': 15577,\n",
       " 'dealfetalalcoholsyndromeparentinghttpstco1ZXwXYW8lP': 14614,\n",
       " 'vitaminimprovesleephttpstcoUyTGRPe2Nq': 18935,\n",
       " 'parent15yearoldparentinghttpstcoRgh6AixyAc': 17368,\n",
       " 'useemployersmentalhealthscreeningtoolsmentalhealthhttpstcopN2qSbJh3N': 18901,\n",
       " 'ConsequencesmakingthreatssuicidehttpstcoZNJoBVNWRF': 1555,\n",
       " 'MarrieddissatisfiedmarriagehttpstcopLdYaoyfcx': 4831,\n",
       " 'powerfuleffectgratitudehttpstcoHMteuotkU3': 17533,\n",
       " 'vegetariandietgoodhttpstcol25VqhD7XB': 18911,\n",
       " 'OxytocinhelpsAutismhttpstcoyirwagH2qC': 6092,\n",
       " 'DatingdivorcehttpstcoVUJ8iVG90y': 1750,\n",
       " 'GenderbiascomesexpressingangerhttpstcoamgcxgATFB': 2647,\n",
       " 'PsychMedsusedstudyaidsmedicationhttpstcoRiDqakOtOh': 6491,\n",
       " 'Collegeminorsubstanceabuseaddictionhttpstco5sAMvwU7Ct': 1510,\n",
       " 'Peoplementalillnessneedlistenedmentalillnesshttpstcod1n8n8izj5': 6253,\n",
       " 'ageyoungmedicateanxietytoddlershttpstco8Y96QKiGQz': 13339,\n",
       " 'PaidsickdaysmentalhealthreasonsmentalhealthhttpstcomMESScko6e': 6141,\n",
       " 'DomesticviolencevictimstakingcontrolbackwomenhttpstcoXsYlqisAbu': 1959,\n",
       " 'questionableadsparentingmagazineshttpstcoNm4HCnPz1T': 17602,\n",
       " 'StrugglingparentingteenhttpstcoOCFvMJyuQP': 11172,\n",
       " 'considercontrollingparentParentinghttpstcoi959DHc55q': 14442,\n",
       " 'StrategiesbipolardisorderhttpstcoQunY1Doh6w': 11165,\n",
       " 'obsessfoodOCDhttpstco9syDb5hhka': 17247,\n",
       " 'concernedchildplayingfootballhelmethelmetcontactconcussionshttpstcoQmJvsKMgam': 14434,\n",
       " 'childhoodadversitychangebrainshttpstcoHFTqyeH9Kj': 14363,\n",
       " 'thinkmentallyillwomentargetedabusedmentalillnesshttpstcov8zAx9R9vK': 18608,\n",
       " 'everthoughtalcoholadsharmfulteenshttpstco4j44lp3lSo': 14918,\n",
       " 'thinkmuchsocialmediaharmfulkidshttpstcontAwDWwAfm': 18609,\n",
       " 'BorderlinepersonalityhelpsjobhttpstcoXIBI6Ju20L': 1023,\n",
       " 'WouldlikeseementalhealthtaughtschoolmentalhealthhttpstcoHbwy7D0BCt': 12896,\n",
       " 'partnerdiagnosedborderlinepersonalitydisorderhttpstco37dCk7wwjY': 17371,\n",
       " 'AmericanTeensrecklessteenselsewherehttpstcofJRpQlwdrq': 495,\n",
       " 'EverthoughtdepressioncomplexsimplementalhealthscreenhttpstcoJLEbmgY4mc': 2207,\n",
       " 'musicimpactthoughtsfeelingshttpstcogZ4v5dGlr1': 17003,\n",
       " 'ManypeopletoxicfriendsunawarefriendstoxicwellrelationshipshttpstcoXcIQ7TuNEA': 4807,\n",
       " 'manyparentswouldknowchilddiagnoseddepressionhttpstco36UnsMbpic': 16686,\n",
       " 'affordtherapistonebarriersgettinghelpneedhttpstcoBFQBgrYh2n': 13331,\n",
       " 'reasonableplanaddressaddictionproblemhttpstcomzKXp66edz': 17796,\n",
       " 'everwonderedmentalillnesscouldimpactinsurancecoveragementalillnesshttpstcoTvtOOvUkGn': 14925,\n",
       " 'everwonderedwhetherparentsseerolemodelsparentinghttpstcoX6lf21NUgF': 14926,\n",
       " 'informedteensalcoholusehttpstconv3q1hvIBN': 15866,\n",
       " 'everwantedasksomeonebisexualityhttpstcoP8svHRuPxa': 14923,\n",
       " 'selfacceptanceleadgrowthhttpstcogIJJwtHRj2': 18042,\n",
       " 'KeepbluesawayhealthydiethealthyeatinghttpstcouCBK3r9ypH': 4137,\n",
       " 'marriageharmingchildrenhttpstcolRigYwRifG': 16739,\n",
       " 'MythsaginghttpstcoVdEMLpK2fu': 5372,\n",
       " 'AnxietychildrenhttpstcozQcogRbCGN': 563,\n",
       " 'OldercouplesattunedhttpstcoSGppq6TpTJ': 5868,\n",
       " 'CelebretiesdepressionhttpstcoU9uBcPC9GH': 1298,\n",
       " 'ADHD4Commonproblemshttpstco3eWU7KvHUn': 242,\n",
       " 'Mentalhealth20smentalhealthhttpstcoXqOgR6n2tn': 4924,\n",
       " 'GiftsgiveselfcarehttpstcovWEK1qT6rf': 2818,\n",
       " 'Selfcarecheckinshttpstco9eHoMcPYOo': 10724,\n",
       " 'traumabondinghttpstco3MK1SCTikA': 18733,\n",
       " 'Makingtransitionhighschoolcollegementalhealthhttpstcona7GH3p3PE': 4769,\n",
       " 'personalbeliefsgetwayhealingCounselinghttpstcos8eRpnFHOE': 17412,\n",
       " 'RisementalhealthdetentionsmentalhealthhttpstcoFQiqT04VkM': 10435,\n",
       " 'UnitedNationsreviewingmentalhealthMentalhealthhttpstcoDsz3y6nsHZ': 11982,\n",
       " 'Collegeresourcesmentalhealthimprovingmentalhealthhttpstco0qz7WnhNpZ': 1511,\n",
       " 'timechangetherapiststherapycounselinghttpstcodqUJlXGCfm': 18667,\n",
       " 'Vegastreatsmentallyillmentalillnesshomelesshttpstcodx8Hdj3jZ8': 12568,\n",
       " 'Abolishdeathpenaltylawpoliticsdeathpenaltyhttpstcoq27pr2g6Nn': 297,\n",
       " 'LawyersaccessedsexualassaultrecordshttpstcoPU9g9sqZV9': 4350,\n",
       " 'Unhappyworkhappinesshttpstco7Enay5S3Kf': 11980,\n",
       " 'TopthingspsychiatricpractitionerrememberhttpstcoQ5nexmvU7d': 11750,\n",
       " 'anxietydisorderspreventedchildrenhttpstcosx1HowSuBn': 13636,\n",
       " 'Messagesprovokefearchangeattitudehttpstco6VlYaHvjeZ': 4943,\n",
       " 'EarlyinterventionchangenatureschizophreniahttpstcoqRP2o5jUCz': 2086,\n",
       " 'TalkingchildrenaddictionhttpstcoY2Ic1lKnAx': 11436,\n",
       " 'NewtheoryorigindepressionhttpstcozpSNbeuyTa': 5603,\n",
       " 'Psychologicaltricksbadleadersusehttpstco3NQ2GYw59q': 6494,\n",
       " 'Kidstiredstressedboredhttpstcoe9Nj7ANcwh': 4187,\n",
       " 'muchsleepneedhttpstco75flBoS3fC': 16992,\n",
       " 'AvoidingstressmayanswerhttpstconbzN7P3wiS': 684,\n",
       " 'FosterchildrenlikelydiagnosedADHDhttpstcoEqAT9IKM1v': 2462,\n",
       " 'GardeningtherapyhelpswomenreturnworkhttpstcoMWwMt1C8kp': 2634,\n",
       " 'profilepedophilehttpstcoIuJP7KJz9t': 17567,\n",
       " 'SignsteenmaysufferanxietyhttpstcoK6TQQJBAGS': 10854,\n",
       " 'Painkillerpilladdictionepidemichttpstco1TXmR7uibU': 6144,\n",
       " 'maymissdismisssomeonedrunkalcoholismhttpstcoGJfxZg8uif': 16773,\n",
       " 'hardfindmentalhealthprofessionalhttpstcoUoRL57QSSB': 15493,\n",
       " 'EmployersneedoffermentalhealthdayshttpstcoY1RVLZYgcR': 2152,\n",
       " 'Reasonsjoinsupportgrouphttpstco3clV3PkmZH': 10320,\n",
       " 'TipsraisingboysADHDhttpstco2vIOC3IpnR': 11698,\n",
       " 'HelpinghomelesspeopleshowerhttpstcoIowignbwDE': 3231,\n",
       " 'plantackleaddictionhttpstcoRlxPzks17C': 17441,\n",
       " 'Anotherkindabusehttpstco2FXMTlzMwP': 537,\n",
       " 'BlackAmericanskilled12timesratepeopledevelopedcountriesviolencehttpstcooFP3h73lSR': 982,\n",
       " 'BuprenorphineopiateaddictiontreatmenthttpstcorTlykENlhi': 1121,\n",
       " 'SignsnervousbreakdownmentalhealthhttpstcoJ9Uy2BPEZx': 10853,\n",
       " 'Thirdtrippsychiatricfacilityhttpstco5Puqn6EgSA': 11655,\n",
       " 'Improvemarriagegratitudehttpstcokh4Ard242z': 3714,\n",
       " 'HelpinggrievingteenshttpstcoSnhIQcW3pH': 3230,\n",
       " 'MythsADHDhttpstcoBj7uxbHdqv': 5371,\n",
       " 'telllovedonementalillnessmentalillnesshttpstco1IdgSTwwf1': 18464,\n",
       " 'Everyfamilyaccessmentalhealthcarementalhealthhttpstco6LFCVLlA6E': 2214,\n",
       " 'Campussuicideratesrisinghttpstco8SXdGU1jjw': 1234,\n",
       " 'triangulationhttpstco3zSAySjRZn': 18747,\n",
       " 'Deadlyconsequencesfatshamingemotionalabusehttpstco2yvLjk0vAl': 1777,\n",
       " 'SubconsciouslyresistingchangehttpstcouCdXdGPFtj': 11185,\n",
       " 'SupportinglovedonesmentalillnessmentalillnesshttpstcoDfRDK4RfdT': 11245,\n",
       " 'Minimizingsubstanceabuseaddictionhttpstco3ou2Sua07H': 5015,\n",
       " 'increasedawarenesslessenobesityhttpstco0coiNJsdJP': 15863,\n",
       " '5MythscompasssionhttpstcoCmnoC8b9pw': 130,\n",
       " 'Recoverydependshopehttpstco3zM45djai4': 10328,\n",
       " 'GrantsnewmentalhealthclinicsmentalhealthhttpstcoejdnC2b1PI': 2957,\n",
       " 'toxicdescribementalillnesspermanentmentalillnesshttpstcoqRYyWPaTsN': 18723,\n",
       " 'historybisexualityhttpstcohnMirHXh7G': 15633,\n",
       " 'EmbracinggodstransgenderpeoplehttpstcoLjGHGxcijB': 2131,\n",
       " 'sexwomenspendtimechildrenhttpstcoplDRan8UZl': 18075,\n",
       " 'takechildrenhttpstcoo4ueEk2EBc': 18416,\n",
       " 'MentalillnessinvisiblecounselinghttpstcozH2aa8NTXL': 4930,\n",
       " 'calmanxietyhttpstcoaEM5g6l1ZM': 14125,\n",
       " 'SmokingdrinkingpregnancyhttpstcorO7RsSvnLQ': 10935,\n",
       " 'TreatmentalillnessphysicalillnessmentalillneshttpstcoPWuoizx6pv': 11781,\n",
       " 'Borderlinepersonalitydisorderwoundinghttpstco5PGaIwExO2': 1022,\n",
       " 'AccessmentalhealthvariesstatestatementalhealthhttpstcodqrjmWCNtz': 306,\n",
       " 'YoungblackdepressedhttpstconU9XlBnybX': 13028,\n",
       " 'mythaddictionhttpstcoo4c4OqTBd9': 17012,\n",
       " 'PublichousingdrugtestinghttpstcodX1UFiUu5v': 6497,\n",
       " 'muchhangovercostalcoholismhttpstcoFLzLmpnwl4': 16989,\n",
       " 'TipsBipolarDisorderhttpstco5HdywE36y3': 11693,\n",
       " 'SignsteenmayusingdrugshttpstcoOvtF0QLBUH': 10855,\n",
       " 'maximizementalhealthcoveragementalhealthhttpstcozg3UQKpGKK': 16757,\n",
       " 'childsexabusehttpstco31oaTlGQcV': 14369,\n",
       " 'benefitmentalhealthfirstaidcoursementalhealthhttpstcoFsPaXhu1gp': 13934,\n",
       " 'Shortagepsychiatristjailshttpstco1vklWxsdLC': 10826,\n",
       " 'DifferentsignsteenadultdepressionhttpstcoTiHQYrIVST': 1931,\n",
       " 'WeedgatewaydrughttpstcojqZoXgifsA': 12739,\n",
       " 'YouthmentalhealthelectionissuementalhealthhttpstcoV8WFvc4dFA': 13045,\n",
       " 'ConversiontherapybannedObamaadministrationhttpstcoMeiKocfYWB': 1561,\n",
       " 'Trainingpreventedsuicideshttpstcor781yVqso1': 11763,\n",
       " 'biophobiahttpstco6bdwf1BBAn': 13974,\n",
       " 'safeawarenesshttpstcozeiHDNXgPo': 17929,\n",
       " 'Manystruggletardinessabsenteeism': 4808,\n",
       " 'peoplefindturningcolleaguesventfrustrations': 17396,\n",
       " 'managestressjob': 16670,\n",
       " 'afraidcommitmentrelationshipshttpstcoxptJKU3PUP': 13333,\n",
       " 'gratitudedefinitelyimprovedoverallmood': 15366,\n",
       " 'menarentdogstruthhttpstcoZJYYQVfZaN': 16809,\n",
       " 'focussendingpositiveimpressionsreceive': 15131,\n",
       " 'experimentingteens30sdrinkingmadethingsunmanageablerecoveryhttpstcoi3FVvkSm8p': 14957,\n",
       " 'goaltodayconnectprovidersteachmindfulnessacrossworld': 15280,\n",
       " 'Acknowledgingstrengthshelpraiseselfesteemconfidence': 310,\n",
       " 'maintaininggoodfitnesshelpemotionallyawarenesshttpstco4zELqRB7nT': 16648,\n",
       " 'usuallytendrelytrustsupport': 18907,\n",
       " 'learnedworksickresentments': 16153,\n",
       " 'NexttimenoticefeelingssomeonesmilesMindfulnesshttptcoX3l8iRyfHt': 5609,\n",
       " 'wayshinebrightesttodaysharelovepeacewevecomeknowawareness': 19109,\n",
       " 'intendhelpingtraumaaddictionsurvivorslivelivesworthliving': 15872,\n",
       " 'advicewouldgiveyoungerselfcouldawarenesshttptcoBM0iGNbm9l': 13324,\n",
       " 'imaginebookreadynextcouplemonthsexcited': 15825,\n",
       " 'Onethinglovelivescomeworkeverydaylookingforwardhelpsomeone': 5907,\n",
       " 'couldseeyouvegrownlosshttptcoWqmq0obyiZ': 14484,\n",
       " 'feellessrestrictedworkopposedworkingothersentrepreneurship': 15045,\n",
       " 'supportiveencouraginghearideasvaluedreamspossible': 18378,\n",
       " 'EarlyremembertakingthingsoneminutetimeNAAAhttptcoiiXwR8YTKp': 2087,\n",
       " 'wouldlifelikelessanxiety': 19252,\n",
       " 'anxietydelusionhttptcoxE56qKjfAW': 13635,\n",
       " 'thinkhighriskmentalhealthproblemsmentalhealth': 18605,\n",
       " 'HigherriskmentalhealthproblemsgayshttptcoNO8kGVA7Mc': 3395,\n",
       " 'improveparenting': 15845,\n",
       " 'OCDparenthttptcomKSQOEUFAb': 5740,\n",
       " 'helicopterparentinghelicopterparent': 15561,\n",
       " 'Helicopterparentingruininggenerationhttptco7YKFRuD0GD': 3200,\n",
       " 'oftendrivesleepycounseling': 17262,\n",
       " 'ManyyoungpeopledrivesleepycounselinghttptcoNPMgfmgGvT': 4810,\n",
       " 'difficultychildmealtime': 14667,\n",
       " 'AutismmealtimehttptcoRgvR9Bthx8': 677,\n",
       " 'talkopenlymanparentingskills': 18432,\n",
       " 'YogaimproveparentinghttptcorQkMVjZONj': 12999,\n",
       " 'suspectmencurrentlylifedepressed': 18399,\n",
       " 'manytimesmarriedmarriage': 16696,\n",
       " 'remarriagesfailavoidmarriagehttptcoLppRZ6j7kK': 17820,\n",
       " 'thinkchildaddictedsmartphone': 18599,\n",
       " 'ChildrenbecominghunchbacksduesmartphoneaddictionhttptconHUOzGfHGz': 1371,\n",
       " 'everexperiencedbodyimageissues': 14905,\n",
       " 'createpositivebodyimagehttptcoAy9S2MDoIZ': 14505,\n",
       " 'everwitnessedchildangerproblems': 14924,\n",
       " 'concernedindividualsresidingresidentialcarefacilitiesabuse': 14435,\n",
       " 'DisableddyingresidentialcarefacilitieshttptcoyMmGm6kLry': 1939,\n",
       " 'oftentakementalhealthdayworkmentalhealthselfcare': 17265,\n",
       " 'TakingsickdayyourewellmentalhealthhttptcoDpn2JWXyQ7': 11365,\n",
       " 'manageanger': 16669,\n",
       " 'InnerrageangerhttptcoMKXM5kZhbw': 3790,\n",
       " 'tipsparentingchildrenADHD': 18678,\n",
       " 'ParentingchildrenADHDhttptcoY2w1aqcNr4': 6159,\n",
       " 'ClaimshospitalbullyinghttptconHxQJ1Q08k': 1479,\n",
       " 'Survivingsuicideattempthttptco0OP2yTFByG': 11252,\n",
       " 'Bipolarchoicehttptco1oQTrIu7wL': 973,\n",
       " 'HusbandcommitssuicideweeksdiagnosedbipolarhttptcoiUKuxf7C3q': 3502,\n",
       " 'WomenfaceabuseonlinehttptcoYEKAmNpBqc': 12859,\n",
       " 'EmotionaljourneyweaningbabybreastfeedinghttptcowR9FdmOsnY': 2149,\n",
       " 'meanLatinohttptcooMnM2DlUl8': 16786,\n",
       " 'AddictedonlinefundraisershttptcoqUGLTwwMis': 334,\n",
       " 'everlostinterestsomethingdepression': 14909,\n",
       " 'LossinterestdepressionhttptcoKWFpKK2hjO': 4594,\n",
       " 'evercheckedsexoffenderregistryperpetratorsneighborhood': 14899,\n",
       " 'protectchildpedophilehttptco7RwreBeRFt': 17570,\n",
       " 'motherdrinkalcoholpregnancy': 16971,\n",
       " 'womendrinkalcoholpregnancyhttptco5CjMOfXReS': 19199,\n",
       " 'traumavictimssurvivors': 18734,\n",
       " 'InformationtraumasurvivorshttptcoKK9mhtvVSA': 3788,\n",
       " 'racingthoughtsimpactlife': 17608,\n",
       " 'stopracingthoughtshttptcoH6243GDdHU': 18335,\n",
       " 'childreninherited': 14366,\n",
       " 'childreninheritanxietyhttptcoqlS5026kCY': 14365,\n",
       " 'knowtraumasurvivorsselfmedicatedsymptomsstreetdrugs': 16104,\n",
       " 'TraumasubstanceabusehttptcoI38wAKiRW6': 11766,\n",
       " 'sleepingproblems': 18163,\n",
       " 'adultADHD': 13322,\n",
       " 'GotadultADHDhttptcoOpVWpzf3JG': 2915,\n",
       " 'knowanyonewomenexperiencedpostpartumdepression': 16068,\n",
       " 'PostpartumaffectswomenthinkhttptcoBkZ2bTDKTq': 6396,\n",
       " 'eversuspectedchildabusenotifiedCPS': 14916,\n",
       " 'TypeschildabusehttptcoJ5hNyBE8fl': 11937,\n",
       " 'knowdepressedteen': 16076,\n",
       " 'TherapybooststeensriskdepressionhttptcoMqnT54D8Fo': 11618,\n",
       " 'doubtsparticulardiagnosis': 14797,\n",
       " 'ADHDrealhttptcofEXpGCe7JJ': 244,\n",
       " 'everfeltsadsex': 14907,\n",
       " 'Sadsexhttptcoy8nFZPGpYs': 10575,\n",
       " 'Wouldseefavoritecelebritydifferentmentalillness': 12902,\n",
       " 'Celebritiesdiagnosedmentalillnesshttptco7SWOBW9hat': 1299,\n",
       " 'everseenbruisingarmsmayselfharm': 14913,\n",
       " 'EmotionalabuseselfharmhttptcoWJPN7c8lDC': 2148,\n",
       " 'troublegettingteen': 18756,\n",
       " 'GettingteenshttptcoK5XaGnz7gY': 2810,\n",
       " 'evermentalhealthcheckmentalhealth': 14911,\n",
       " 'FreementalhealthcheckupslibrarymentalhealthhttptcoNTLv637VX2': 2519,\n",
       " 'commonbedwettinghouseholdparenting': 14415,\n",
       " 'childwetbedhttptcocLzumwFPfR': 14372,\n",
       " 'comeacrosschildrenabused': 14405,\n",
       " 'Effectsverbalabusechildrenhttptco07TYbRWFAf': 2103,\n",
       " 'thinkgayconversionmethods': 18602,\n",
       " 'DisturbinggayconversionmethodshttptcoVa8FoXJRZA': 1945,\n",
       " 'everyvisitedsomeonerehab': 14945,\n",
       " 'ThingsknowgoingrehabaddictionhttptcobA2kU5vA9v': 11640,\n",
       " 'witnessedsomeonebulliedreligion': 19192,\n",
       " 'KidswearturbansbulliedhttptcodvTgrRh8IS': 4188,\n",
       " 'knowsomeonemaydepressed': 16100,\n",
       " 'DepressionsuckshttptcoMgzvLXxeeP': 1902,\n",
       " 'letgoangerhttptco7b3sJFtpeX': 16200,\n",
       " 'HelplovedonescommittedsuicidehttptcooiRxBOkCTw': 3232,\n",
       " 'Schizophreniapossiblycombinationdisordershttptco77nqWsoTS4': 10665,\n",
       " 'TeenssmokinglesscigarettespotcannabismarijuanahttptcoiO2qG0tiJQ': 11485,\n",
       " 'worrieranxietyhttptco0mx4DzAcXY': 19228,\n",
       " 'linkbrainsizeIQhttptco6as8jxcXWV': 16254,\n",
       " 'EmotionalAbuseharmfulhttptcogklgH9nTEL': 2147,\n",
       " 'letgosomeonetreatsbadlettinggorejectionhttptco7BbBrC38Mh': 16201,\n",
       " 'mindfulnesshelpquitsmokinghttptcooJI6j38S7r': 16849,\n",
       " 'ChronicpainaddictionhttptcoKon53x9fHc': 1444,\n",
       " 'SupportgroupsparentschildrenADHDhttptcotxkJB3tler': 11243,\n",
       " 'SuicideAfricanAmericancommunityhttptcozfayuK3I1S': 11198,\n",
       " 'Heroinuserisehttptco95aI3eNljH': 3253,\n",
       " 'childwelldisciplinedhttptco2Fn0vpaala': 14371,\n",
       " 'positivethinkingimprovementalhealthhttptcobFinHHciQH': 17514,\n",
       " 'BipolarspousesurvivalstrategieshttptcoQre8bZidDW': 975,\n",
       " 'SelfcompassionwellhttptcoTkXdLNDyWQ': 10725,\n",
       " 'knowdepressionhttptcoCcSq06ajpz': 16077,\n",
       " 'optionsviolentmentallyillyouthIowahttptcon9GDW5Vk2v': 17348,\n",
       " 'keptgettingmentalhealthserviceshttptco0crRsQM9pv': 16013,\n",
       " 'RecognizingsignsanxietyhttptcowsmDQQPUYS': 10323,\n",
       " 'QualitymentalhealthservicehttptcohjFLDUPlKs': 6545,\n",
       " 'finallyhealeddepressionhttptcoycZMKXzpgS': 15091,\n",
       " 'knowpathologicalliarshttptco4bpd9qJPUP': 16094,\n",
       " 'Waysrechargebatteriesexahaustionselfcarehttptco9BFG3Sp1Wz': 12721,\n",
       " 'ViolencementalillnessangerhttptcofN72Sk0kB2': 12594,\n",
       " 'OCDmuchneathttptcoo1sd9cZVUH': 5739,\n",
       " 'racebreastcancerhttptcoxshdaFGb2Y': 17607,\n",
       " '2genesunlockpotentialtreatmentschizophreniahttptcommdaiGjYiD': 86,\n",
       " 'AnorexialinkedabusehttptcoDEjEQB13nd': 533,\n",
       " 'DepressionpainhttptcokWt4bnkUX0': 1899,\n",
       " 'childrenmentalillnesssometimesabusedhttptcogEJUgv69Gl': 14367,\n",
       " 'Parent’sguidementalillnessparentinghttptcoe0GtQzIoiO': 6164,\n",
       " 'I’mmessstillgettherapyhttptcoDmYxBXsrW5': 3879,\n",
       " 'thinkchilddepressedhttptcoju3nFDGVl1': 18600,\n",
       " 'CounselinghelpsanxietyhttptcoI2mxGCvZAl': 1605,\n",
       " '6waysstresslesshttptcoHXCMQJzqQg': 213,\n",
       " 'MentalillnesssouthAsianmenhttptcop5TvjYfWWP': 4931,\n",
       " 'ShowingrespectmentalillnesshttptcocwHNUlZx0v': 10834,\n",
       " '9symptomsdepressionhttptcou9hMdqp6Zv': 235,\n",
       " 'blameschoolshootingsAutismhttptcoavljHQn5tr': 13986,\n",
       " '4statesmindmindfulnesshttptcoySbka613hS': 118,\n",
       " 'OlderwomenstillenjoysexhttptcoF2cEJZZTZZ': 5871,\n",
       " 'earnbacktrustspouserelationships': 14830,\n",
       " 'selfpitymakeotherswantaroundrelationships': 18048,\n",
       " 'differentwaysexpressloveothersrelationshipshttptcoLYB6Op4Rq0': 14666,\n",
       " 'fearintimacycommitmentrelationshiphttptcoAWTVbvftbL': 15032,\n",
       " 'lazinessimpactedsocialliferelationships': 16150,\n",
       " 'holdingontoresentmentshelpedhurtrelationships': 15636,\n",
       " 'moodswingscostimportantrelationships': 16956,\n",
       " 'teachingchildrendiscriminateacceptdifferencesparenting': 18447,\n",
       " 'spankeddoesntmakerightspankothersparenting': 18265,\n",
       " 'spankingchildrenteachviolenceparentinghttptcoPztBijUV4H': 18266,\n",
       " 'knowincreaseintimacypartnerrelationships': 16083,\n",
       " 'Intimacyresultcommunicationrelationships': 3821,\n",
       " 'Therapyeffectivetreatmentdepressionanxiety': 11619,\n",
       " 'awaredepressionsymptomshttptcom8IAwth0ld': 13740,\n",
       " 'lostdesireeatfeelemotionallydepression': 16347,\n",
       " 'lostinteresteverythingusedlikedepression': 16348,\n",
       " 'lackenergygetbeddepression': 16120,\n",
       " 'relivetraumaticeventshappenedCounselinghelpPTSDhttptcoRTXQxHaiIX': 17819,\n",
       " 'badmemoriestriggeredparticularpersonplacethingPTSD': 13880,\n",
       " 'oftenexperiencebadmemoriesPTSD': 17263,\n",
       " 'worryingkeepfallingasleepeverynightanxiety': 19229,\n",
       " 'anyoneexpressedconcernmuchworryanxietyhttptco12UTYVCBiV': 13641,\n",
       " 'excessiveworryingkeepthingsfamilyanxiety': 14952,\n",
       " 'knowexcessiveworryingsymptomanxietyhttptcoOyxTT7K5ct': 16079,\n",
       " 'keepsmarriagestogetherhttptcocyhtTAObQF': 16002,\n",
       " 'NewtheoryanorexiahttptcoWVYVqe17yv': 5602,\n",
       " 'naturegoodmentalhealthhttptcoiY78jcDLZH': 17056,\n",
       " 'sciencegratitudehttptco7K8hgBSXvq': 18003,\n",
       " '12qualitiesenlightenedpersonawarenesshttptco7UGtqRmRTK': 29,\n",
       " 'HealthybehaviorspostiveemotionshttptcoJeBbLqpH2T': 3164,\n",
       " 'EmpathyfoundFacebookhttptcot8W1OzbwCE': 2151,\n",
       " 'ADHddifferentwomenhttptcoZxs4b5foTi': 245,\n",
       " 'AnxietylegitimatehttptcoWB5nk86VEu': 565,\n",
       " 'SpiritualitymeanhttptcoSfmCUnLatn': 11067,\n",
       " 'mixingalcoholmedicationalcoholism': 16888,\n",
       " 'Feelingsregretduedrunkenbehaviordistantmemory': 2384,\n",
       " 'Wakingsmellvomitsoiledsheetslongertolerablerecovery': 12665,\n",
       " 'dizzinesstirednessnauseousnesshungfinishedhangover': 14681,\n",
       " 'Smellinglikedistillerydayworkcomeendsobriety': 10922,\n",
       " 'putstopriskyunprotectedsexrecovery': 17594,\n",
       " 'don’tmissguiltkissingfondlingbehindothersbacksinfidelitycheating': 14791,\n",
       " 'Fightingflippingtablesmisunderstandingbarthingpast': 2402,\n",
       " 'Billslongerpilingputboozeprocrastination': 969,\n",
       " 'anxiousnessfearfulnessdrivingdaydrinkingbenderanxiety': 13637,\n",
       " 'Arguingfrontchildrenfamilymembersthingpastarguments': 617,\n",
       " 'longerworrygoingpartiesspousestouchyfeelypeoplejealously': 16314,\n",
       " 'saidgoodbyewakingrememberinglastnightblackouts': 17935,\n",
       " 'gogivegetmeetingsAA': 15298,\n",
       " 'knowsomeonewho’slifedisruptedthey’rehookedinternetpornaddiction': 16101,\n",
       " 'freeporntemptingaddictionhttptcoUcY4Pjdvsm': 15153,\n",
       " 'evertroubleconnectingotherscounseling': 14921,\n",
       " 'Oppositeaddictionsobrietyhttptco4nL62SdxIZ': 5921,\n",
       " 'recognizefoodaddictionit’srightfront': 17805,\n",
       " 'FoodaddictionvsEatingaddictionhttptcors4DHQ4pc4': 2448,\n",
       " 'thinkhabitbecomingaddiction': 18603,\n",
       " 'habitbecomesaddictionhttptcoX3LvahQh1y': 15396,\n",
       " 'knowmedicalmarijuanaregulationsstate': 16088,\n",
       " 'CaliforniamedicalmarijuanaregulationshttptcoxQ9q7c4t17': 1216,\n",
       " 'knowillicitdrugssoldcommunity': 16082,\n",
       " 'Addictioneverywherehttptco6WADiMP0u4': 335,\n",
       " 'experiencedirritabilityanxiousnessdueaccessinternet': 14956,\n",
       " 'internetaddictionhttptcoSExiNEX1Ww': 15875,\n",
       " 'manypeoplefamilyusedheroin': 16688,\n",
       " 'peoplegetheroinhttptco1GDpZcSfWm': 17397,\n",
       " 'everyreceivedticketdistracteddrivingcounseling': 14938,\n",
       " 'internetusegetwaytendingnormaldailyresponsibilities': 15876,\n",
       " 'InternetaddictionfadhttptcowfqZwHXeL2': 3817,\n",
       " 'addictionfindpuzzling': 13310,\n",
       " 'LikelycauseaddictiondiscoveredhttptcoEdqFDBPoOp': 4444,\n",
       " 'seenharmfuleffectscrystalmethaddiction': 18036,\n",
       " 'girlstakecrystalmethaddictionhttptco3ETCCUounf': 15270,\n",
       " 'clientsprefer12stepprogramindividualCBTsessionsdrugtreatment': 14393,\n",
       " 'ModelsalcoholismdrugaddictionhttptcoC27GuCpSLP': 5190,\n",
       " 'watchingsomeonetakedrinkTVtriggercravingalcoholismaddiction': 19101,\n",
       " 'triggerscravingsaddictionhttptcogqjMAWa7bK': 18754,\n",
       " 'everseensomeonetrymedicatemoodswingscrackalchohol': 14914,\n",
       " 'BipolardrugaddictionhttptcomhsDUzoWMf': 974,\n",
       " 'knowarrestedaddiction': 16069,\n",
       " 'addictionmedicalproblemcriminalonehttptcoEUVdCBfnTP': 13312,\n",
       " 'knowsomeoneliterallybetswholepaycheckgambling': 16099,\n",
       " 'Sometimesunlikelypeopleaddictedsubstances': 10991,\n",
       " 'SandersbattleddrugaddictionhttptcoguR7RdrnIm': 10635,\n",
       " 'everusedprescriptionmedicationincorrectly': 14922,\n",
       " 'getsaddictedprescriptiondrugshttptcoBbuFkSxNoN': 15252,\n",
       " 'concernedsomeoneknowmayaddicted': 14436,\n",
       " 'addictionhttptcoeZoca7ciTK': 13311,\n",
       " 'witnessedbenefitsmedicalmarijuana': 19191,\n",
       " 'MedicalbenefitsmarijuanaunclearhttptcoYgHGhy7O7P': 4901,\n",
       " 'evertriedstopbadhabitalongaddiction': 14920,\n",
       " 'Heroinaddictionchangingbadhabitshttptco7DQC0Gx6Wa': 3250,\n",
       " 'desperatefixproblemaddiction': 14647,\n",
       " 'CBTtreataddictionhttptcoS0w1G1Xgv4': 1143,\n",
       " 'missworkpersonalconflictshabitmayproblemaddiction': 16883,\n",
       " 'loveaddictedmeanhttptcoVCgf2COrA1': 16369,\n",
       " 'spicedailygrindcounseling': 18280,\n",
       " 'Dealingfeelings10minutesemotionshttptcoYo3cvgHhRh': 1783,\n",
       " 'focuspast': 15130,\n",
       " 'workincreasinggratitude': 19217,\n",
       " 'TrickshelpreducestresshttptcoNJyPIzGvTC': 11785,\n",
       " 'gratitudework': 15367,\n",
       " 'LivingmentalillnesshttptcoZqluZgOa9p': 4534,\n",
       " 'couldconsistentworkinggoals': 14469,\n",
       " 'AnxietydrugslinkeddementiadeathhttptcockTc7my5ZZ': 564,\n",
       " 'findwhat’sholdingback': 15099,\n",
       " 'CommunicationskillsuserighthttptcoRB0Yrfk1Zv': 1535,\n",
       " 'What’simportantmemories': 12805,\n",
       " 'Hollywoodaspergershttptcob6T8SOaivX': 3422,\n",
       " 'wouldperfectlifelooklike': 19261,\n",
       " 'talkemotionshttptco3npQgE9jg3': 18431,\n",
       " 'practicinggratitudeimpactlife': 17541,\n",
       " 'SchizophreniaoneschildadolescenthttptcoCJ002tge3c': 10664,\n",
       " 'happenedusedimaginationkid': 15478,\n",
       " 'MentalissuesmayleadchronicpainteenshttptcoMSjhh0KjRx': 4932,\n",
       " 'continuehidefeel': 14444,\n",
       " 'PoorsleepmaypredictdevelopmentalproblemschildrenhttptcoOt0q143aDr': 6377,\n",
       " 'awareintentions': 13741,\n",
       " 'KeepingchildhealthyhttptcoVtNWshcd2F': 4140,\n",
       " 'safetyconcernshome': 17931,\n",
       " 'Shouldn’tneedmedsfeelbettermentalillnesshttptcoFVcaMhqamP': 10829,\n",
       " 'violencehome': 18932,\n",
       " '5signsmentalhealthissueshttptcoi7VohLYf23': 187,\n",
       " 'commitmentphobia': 14414,\n",
       " 'countriesmentalhealthimpacthttptcoA9DBZRfpFZ': 14488,\n",
       " 'concernspartnersbehavior': 14437,\n",
       " 'raisementallystrongchildhttptcoW4FJxJiR9c': 17624,\n",
       " 'dontsharedrinkingconcernspartnercommnication': 14772,\n",
       " 'FightequalitymentalphysicalhealthhttptcoNNbLnUWaEe': 2401,\n",
       " 'singlelongtimerelationships': 18151,\n",
       " 'MentallyillleftbehindmentalillneshttptcoXIhT0g5BUe': 4934,\n",
       " 'thinklifechaoticcounseling': 18606,\n",
       " 'RoyalsshinelightmentalhealthhttptcoUeIT0nKvYH': 10485,\n",
       " 'peopleseriousrecovery': 17402,\n",
       " 'ParentingchildhoodtraumahttptcoRWkeukKFUa': 6158,\n",
       " 'feelashamedneedinghelp': 15038,\n",
       " 'PregnantwomenmentalhealthproblemshttptcoOEtuK0e8VL': 6421,\n",
       " 'turndoubts': 18788,\n",
       " 'TalkingbesttherapyhttptcoAKvAT2m8V7': 11435,\n",
       " 'keepsopeningsomeonetrust': 16003,\n",
       " 'HeroinfostercaresystemhttptcoXtLG1cixBs': 3252,\n",
       " 'keepsmakinghealthydecisions': 16001,\n",
       " 'LivingschizophreniahttptcoGqHKIUOHz7': 4535,\n",
       " 'giftedchild': 15263,\n",
       " 'problemgiftedchildrenhttptco08DcmNEAiB': 17562,\n",
       " 'handledivorce': 15474,\n",
       " 'MantrasdivorcingpartiesfollowrelationshipshttptcoVZxTGtmBQy': 4802,\n",
       " 'heardagerelateddeclineaging': 15550,\n",
       " 'DepressionnormalpartaginghttptcoD6gfYsCvVb': 1898,\n",
       " 'friendsunderstandmentalhealthissues': 15172,\n",
       " 'friendsdon’tunderstandmentalhealthrelationshipshttptcoVTuPZDxrl7': 15167,\n",
       " 'knowdeathcausePTSDsymptoms': 16075,\n",
       " 'TraumastillbirthhttptcoEne1DgDOOg': 11765,\n",
       " 'realizeliesactuallydelusions': 17764,\n",
       " 'delusionshttptcoyOHn43gwvy': 14630,\n",
       " 'wouldhappenfriendsfoundyou’rerecovery': 19247,\n",
       " 'recoveringaddictsexperiencehttptcoFuZKx3RoTZ': 17810,\n",
       " 'evernoticedcoworkerhighjobaddiction': 14912,\n",
       " 'handleemployeeaddictionhttptco84QLoJmTMb': 15475,\n",
       " 'wouldknowspousenarcissist': 19250,\n",
       " 'felllovenarcissisthttptcosRLtRufedT': 15075,\n",
       " 'mentalillnessimpactlife': 16818,\n",
       " 'impactmentalillnesshttptcobbd6b94fSq': 15838,\n",
       " 'communicationspouse': 14416,\n",
       " 'partnercan’treadmindrelationshipshttptco03whxfBVZg': 17370,\n",
       " 'rememberdaydreamingschool': 17824,\n",
       " 'TeachkidsdaydreamhttptcoOvMVqllEVk': 11468,\n",
       " 'tellfeelinganxiousopposeddepressed': 18460,\n",
       " 'AnxiousdepressedhttptcoA1GtMuOPO4': 566,\n",
       " 'longpanicattackslast': 16318,\n",
       " 'everassessedmentalillness': 14897,\n",
       " 'BriefmentalhealthcheckupshttptcoHTtmShbJWP': 1067,\n",
       " 'knowonediagnoseddysthymia': 16093,\n",
       " 'FamousfiguresmentalillnessmentalillnesshttptcoRAF3ka0cV1': 2316,\n",
       " 'everdiscriminated': 14901,\n",
       " 'racisthttptco1TQ0y3XM4a': 17609,\n",
       " 'resentmenteverygotbest': 17838,\n",
       " 'TacklingfeelingsresentmenthttptcoxNxLFT0YIa': 11346,\n",
       " 'thoughtshypnosis': 18648,\n",
       " 'hypnosissafehttptco7UC4Inuy7D': 15775,\n",
       " 'everydistractedvoicesheadhallucinations': 14931,\n",
       " 'stopsleepinglightfearanxiety': 18337,\n",
       " 'afraiddarkhttptcoLG2Q0EbTGB': 13334,\n",
       " 'thinktreatmentdepressionworking': 18636,\n",
       " 'Significantundertreatmentdepressionhttptco2zoFGUE7Jf': 10850,\n",
       " 'OCDimpactdailyroutine': 5738,\n",
       " 'OvercomingOCDhttptcopQqXIOLUq1': 6089,\n",
       " 'medicationsworkbestbipolarsymptoms': 16795,\n",
       " 'BipolaradvantagehttptcoRkjfcDGGmg': 972,\n",
       " 'tellbossbullyhttptcoZkdbiUZx1D': 18457,\n",
       " 'BeyondconcussionsimprovingemotionalhealthathleteshttptcocL4PGxTuIv': 937,\n",
       " 'BariatricsurgeryincreasesrisksuicidehttptcotM6Pjsu0x8': 809,\n",
       " 'ReducingseparationanxietypreschoolershttptcofuXD5po4Kw': 10339,\n",
       " 'trichotillomaniahttptco4pW4BPurBp': 18748,\n",
       " 'Marriedpeoplebettersexhttptco4e3zJV62xo': 4832,\n",
       " 'avoidedcheatinghttptcoZMpINlgQng': 13736,\n",
       " 'Runner’shighlikemarijuanahighhttptcoDxOgxyuDRP': 10489,\n",
       " 'What’swrongwomenhttptco3vslooiONq': 12807,\n",
       " 'BulliedbreastfeedinghttptcoHfjMtp21da': 1112,\n",
       " 'darksideprescriptiondrugshttptcoy50LCNJ5O6': 14571,\n",
       " 'knownarcolepsyhttptco0whcq5LL17': 16089,\n",
       " 'Masskillersrelypastperpetratorshttptcoi9heuemW2z': 4844,\n",
       " 'RelationshipsconqueringfearhttptcoTymVhlASwn': 10358,\n",
       " 'emotionalpsychologicaltraumahttptcoERLn5WDGxV': 14858,\n",
       " 'AlcoholismsubtlefoehttptcoJNGWbUaCs0': 411,\n",
       " 'ParentsinfluenceteensdecisionsdrunkdrivinghttptcopEHD5UhHSX': 6162,\n",
       " 'MythsundermineaddictionrecoveryhttptcopQJjKIRxhO': 5374,\n",
       " 'adultADHDlinkedaddictionhttptcolplmBkjiKC': 13323,\n",
       " 'spiritualityhelpbeataddictionhttptcoCovBO6TghT': 18282,\n",
       " 'Teensdiedhypnosishttptcoezbf2Skany': 11483,\n",
       " 'What’slikedatesomeonebipolardisorderhttptcoKgj5Pt2uKi': 12806,\n",
       " 'takecareworkselfcarehttptcoEdqfPI2u6o': 18415,\n",
       " 'CollegekidsalcoholhttptcoePL4MtqnHt': 1509,\n",
       " 'eversufferedlowselfesteemhttptcofy4OSNogQu': 14915,\n",
       " 'informedpsychiatricmedicationshttptcoPGTubv61uX': 15865,\n",
       " 'treatmentoptionssomeoneanorexiahttptco4nGbqePZtP': 18736,\n",
       " 'disciplinedenoughpracticedailymindfulnesshttptcox7vojENMGS': 14675,\n",
       " 'thingsraisecompetentchildhttptcoKqKcILqDoa': 18578,\n",
       " 'triedattemptquitsmokingnicotinehttptcoMHnRtWiCU9': 18749,\n",
       " 'caffeineaddictionlookhttptcogN0mr6OuDk': 14088,\n",
       " 'knowsignsbadchildcarehttptcoYPzgbEP7Mw': 16097,\n",
       " 'wouldhandlepanicattackanxietyhttptcopX2jVcRKHi': 19246,\n",
       " 'differencelowmooddepressionhttptco9dR2Bkz5b2': 14663,\n",
       " 'chancesanxietysufferersmaysmarthttptcoCQgZQqt8jv': 14351,\n",
       " 'couldsupportiveteenbulliedhttptcoAYbx85ycZy': 14485,\n",
       " 'methodsusecalmyou’reanxioushttptcoxnIPo53JJT': 16831,\n",
       " 'oftenseeotherspracticingmindfulnesshttptcou9bXzvXmzq': 17264,\n",
       " 'October8th2014diagnoseddepressionseriousthingstillchoosehidebehindfakesmiles': 5787,\n",
       " 'Lifeendlesslabyrinthpainsorrowwalktryingfindhappinesshappinessimpossiblegain': 4428,\n",
       " 'RThclark39IvelaughingfarlonghttptcoR8QvNH3Nu8': 9276,\n",
       " 'Averixoxoawwsweet': 678,\n",
       " 'Averixoxostalkingwork': 679,\n",
       " 'guysgottashowgetmanyfollowerswantlikecoolkids': 15395,\n",
       " 'KendallAllen08true': 4175,\n",
       " 'Manloveschool': 4794,\n",
       " 'Bungiefirst10groupsbeatentireHardCrotaRaidGTRisenImpulsewouldreallyappreciatecouldtold': 1117,\n",
       " 'BungiesupposedhardGTRisenImpulse': 1118,\n",
       " 'BungieCrotalowwentenragedwithoutwarning': 1116,\n",
       " 'XboxSupport1friendslistacting': 12927,\n",
       " 'aleahgarnernoahshack': 13385,\n",
       " 'guyseventryingfixfriendslisterrors': 15394,\n",
       " 'RTMeninistTweetGirlsneedunderstandhttptcozuN8IabZNX': 7940,\n",
       " 'RTACookseyMusicAlexhospicewantsmeettaylorswift13onewishestaylormeetalexPleaseRThtt…': 6867,\n",
       " 'officiallydecidedstartworking': 17258,\n",
       " 'friendsliststillneeded': 15169,\n",
       " 'cantclickfriendsprofileserrorpopssaystrylater': 14287,\n",
       " 'Watchstreamfollowtwitchhttptcoigb12k9InI': 12702,\n",
       " 'aleahgarnerluckywantbiscuit': 13382,\n",
       " 'aleahgarnermnchishmegancornwall28AverixoxoGirlsweird': 13384,\n",
       " 'Examweekmuchfun': 2231,\n",
       " 'aleahgarnerdaltonlikespancakes': 13381,\n",
       " 'aleahgarnermegancornwall28theresJonathan': 13383,\n",
       " 'Imworkingtonight59': 3777,\n",
       " 'BrionnaHillxoxowasntreadyhttptcoonYP3MNvXi': 1069,\n",
       " 'sagebrushBrionnaHillxoxo': 17933,\n",
       " 'Lolanotherloser': 4553,\n",
       " 'foundImdiagnosedsevereLimbicDysfunctionwordsdepression': 15143,\n",
       " 'gotdoctorsmakesfeelweird': 15330,\n",
       " 'anotherdoctorappointment1130Bums': 13628,\n",
       " 'thinkIddieSTWtweetswentWarpedTouryearthinkIdcry': 18587,\n",
       " 'epicchipeverpulledLayschipbaghttptcoqAVY0dd6iC': 14883,\n",
       " 'HardcorecleaningDWooohttptcoWrxNsNAt2B': 3107,\n",
       " 'takesbusdriver20minutescomepickschoolBitchplease': 18421,\n",
       " 'GoodmorningeveryonegoschooltodayBlahWellnicedayD': 2893,\n",
       " 'likehidelightsectionLowesDontjudgehttptcoMKHo6evOuc': 16235,\n",
       " 'ChloeRoknichtellitXDwannapee3': 1394,\n",
       " 'reallyhopegoWarpedyearfingerscrossedhttptcozDVg6ihAfy': 17774,\n",
       " 'ChloeRoknichlikewholebunch3': 1391,\n",
       " 'dontknowmusicprettyimportantlife3httptcoks9dEiRCHL': 14759,\n",
       " 'ChloeRoknichdontlistensongIllexplodehttptco2RKmzdGQtr': 1389,\n",
       " 'livesfairytalesomewherefarusfindForgottentastesmileworld…httptcowjC3aEhXBa': 16271,\n",
       " 'LastnightfriendpostspicturehideousspiderinstagramsaidwouldlayeggslungshttptcooIt4WaHYgw': 4327,\n",
       " 'richwagewarpoordiehttptco4wLH7MFNYW': 17879,\n",
       " 'lovekindsbandssingerhottestmemberlovetheyreamazingbeautiful': 16379,\n",
       " 'doctorsappointmentgetmedsdontfeellikecrazyperson': 14689,\n",
       " 'GoodmorninghopegonnanicedayD': 2894,\n",
       " 'OhgoshfantasticnewbandsgettingexcitedDgoodnight3': 5813,\n",
       " 'STWtweetsdefinitelywillD': 10552,\n",
       " 'RTSTWtweetsAliciaSherrellecouldgiveussecondtimecheckusitdawesomewontdisappointhttpt…': 8287,\n",
       " 'STWtweetsohgoshsongamazingD': 10553,\n",
       " 'songthoughDlovemusicvideo3SWSPTVhttptcookWcqi0aFb': 18246,\n",
       " 'RTcopequinnsuspectwantattentionhaterslongerevenrecognizedfunwastingtime✌😊': 9053,\n",
       " 'ArentpurrdyhttptcoSil8m69CK2': 615,\n",
       " 'wantfavoritebandsknowyourespecialadoreyouremusicDgivesmuchhope': 19067,\n",
       " 'ImjammingfavoritebandsthinkingmeaningslifeSWSAAOMampMPTVADTRBVBBMTHFIR': 3681,\n",
       " 'atwatvoicedopinionwelldontlikesaysuggesteitherdontrespondsuck': 13726,\n",
       " 'atwatwouldhatesomeoneImprettysuredidntanything': 13727,\n",
       " 'GoodmorningbeautifuldayhttptcovO80kbUZIL': 2892,\n",
       " 'GoodnightTwitterlovealllt3sweetdreams': 2896,\n",
       " 'ChloeRoknichImreallyexcitedsummermissfriendsYouregreatestfriendlovemuch': 1386,\n",
       " 'atwatTbhkellinisntreallyhotUhmmoneasked': 13725,\n",
       " 'unhealthyobsessiontoldWellfavoritewizardHarryPotterBellatrixLestrangehttptcor36V8vqT63': 18869,\n",
       " 'unhealthyobsessionHarryPotterDontjudgeOkayhttptcoJ8u5VeGZIo': 18868,\n",
       " 'ChloeRoknichpshknow3': 1393,\n",
       " 'ChloeRoknichtryedprettydresses3httptcoIHtrXB2HSc': 1395,\n",
       " 'YesyesAfuckingABenAfuckingAthedannyworsnopJamesAfuckingAsamAfuckingAcamAfuckingAhttptcoK0GYL1b9Yy': 12990,\n",
       " 'ChloeRoknichdefinitelySylvesterYayoswaghttptco5Bv3yXCeQw': 1388,\n",
       " 'ChloeRoknichGoodmorningfriendDwouldlikecoffee': 1383,\n",
       " 'GoodmorningDwokeImreadyamazingdaysunnycoffesohappy': 2890,\n",
       " 'GoodnightTwittergoodnightsleepsotired': 2895,\n",
       " 'SpeakingbelieveablebritshaccentBritishaccentlovely': 11051,\n",
       " 'ChloeRoknichwhatever': 1396,\n",
       " 'ChloeRoknichIlllikelot3': 1384,\n",
       " 'ChloeRoknichOooooImtelling': 1387,\n",
       " 'ImgoingawayIllbackDonttryfollowCauseIllreturnsoonpossibleparamoremisguidedghosts': 3657,\n",
       " 'ChloeRoknichIllthrowyourecookiesaway': 1385,\n",
       " 'ChloeRoknichyouretweet': 1397,\n",
       " 'ChloeRoknichohsnip3': 1392,\n",
       " 'Imstaringyou3ChloeRoknich': 3735,\n",
       " 'ChloeRoknichliesc': 1390,\n",
       " 'loveladyChloeRoknich': 16380,\n",
       " 'BenBuckwalterdiagnoseddepressionanxietyadmittedmentalhospitallastyear': 887,\n",
       " 'RTjeyyounit11RetweetDM💜Likemagic🌈httpstcoKGj7jnzkPC': 9388,\n",
       " 'RTOfficialBradleeRTnotificationssexyselfieDMIllcheckinghttpstcom4WuSaDTwb': 8108,\n",
       " 'JordanSweetohopewhateverbotheringgetssolvedlovekeepchinsmileSmileslookadorable': 4061,\n",
       " 'BenBuckwalterwould': 895,\n",
       " 'BenBuckwalterfeellikewonteverhappendontdeserve': 888,\n",
       " 'BryanStarsloveyoureamazingYoureimportantpersonlifeevendontknowpersonally❤': 1084,\n",
       " 'BenBuckwaltervolunteer': 894,\n",
       " 'ImgettingtiredshitFuck✌': 3653,\n",
       " 'deefizzyyoureamazingobnoxiousmakesmuchamazingloveKeephead😄❤💙💚💜💛': 14625,\n",
       " 'StevoptweetscongratsinspirationpeopletenyearsyoureawesomepotatoKeepmakeshappylove💜': 11133,\n",
       " 'BenBuckwalterpeopletendaskmisssomeonedontknowreplymissmakefeelmakehappy💙': 893,\n",
       " 'BenBuckwalternoticedmakesfeelspecial😌': 892,\n",
       " 'BenBuckwalterIm😙💙💚': 886,\n",
       " 'BenBuckwalterlovemuchyoureamazinghopeeverythinggoingperfectlylifeamazingsmilehappy💚💙': 890,\n",
       " 'BenBuckwaltermisstweetsunderstandprobablybusynorsomethingmisstweetssnapsComebacksoon😔': 891,\n",
       " 'HeyThereImShanlovehttpstcopglaTZ55vl': 3352,\n",
       " 'Stevoptweetsyoureamazingtweetsmakehappyvideosalwayssupportdecisionsstufflove❤😄': 11137,\n",
       " 'StevoptweetsrepliedImfanbusythatsunderstandablePeopleignorantIgnorelov3happyampsmile': 11136,\n",
       " 'ImaveragegirlamazingmusictasteawesomehairJksuckfaillife😂😭😔lovewhoeverreadthis❤': 3613,\n",
       " 'StevoptweetsdunnodontseeanythinggoodImaveragepersonaveragemusictaste': 11134,\n",
       " 'Stevoptweetsmadenightmuchbetterwishtrue': 11135,\n",
       " 'RTOfficialBradleeRTlikecoverIllfollowDMLoveguyshttpstcoDhDtHXvuEp': 8107,\n",
       " 'BenBuckwalterlotfriendsdonebarelytrustanyoneanymorewouldlovefriendsthougj3😌❤❤': 889,\n",
       " 'BenBuckwalterwouldlovecuddle😌😙': 897,\n",
       " 'RTBryanStarsHeyeveryonepostednewWarpedTourVLOGinvadeChicagotrystalkNeverShoutNeverEnjoyhttps…': 7152,\n",
       " 'BenBuckwalterHonestlyfeelwayrightcantevenexplainsucks': 885,\n",
       " 'JohnnieGuilbertImlazyteenagerBasicallyImImdullpersonlolYoureamazing': 4051,\n",
       " ...}"
      ]
     },
     "execution_count": 63,
     "metadata": {},
     "output_type": "execute_result"
    }
   ],
   "source": [
    "# output the length of bag of words in vocabulary_attribute\n",
    "\n",
    "bag_of_words_transformer.vocabulary_"
   ]
  },
  {
   "cell_type": "code",
   "execution_count": 64,
   "id": "45d059ec",
   "metadata": {},
   "outputs": [],
   "source": [
    "# store bag of words for tweets using transform method\n",
    "#  the transform() will now transform this texts into numerical data\n",
    "\n",
    "tweets_bag_of_words = bag_of_words_transformer.transform(df[\"post_text\"])"
   ]
  },
  {
   "cell_type": "code",
   "execution_count": 65,
   "id": "26665377",
   "metadata": {},
   "outputs": [],
   "source": [
    "# importing tfidf - term frequency inverse document frequency is a \n",
    "# measure that evaluates how relevant a word is to a document in a collection of documents. \n",
    "# which is done by mulitplying how many times a word appears in a document, \n",
    "# and the inverse document frequency of the word across a set of documents.\n",
    "\n",
    "from sklearn.feature_extraction.text import TfidfTransformer"
   ]
  },
  {
   "cell_type": "code",
   "execution_count": 66,
   "id": "43f8091b",
   "metadata": {},
   "outputs": [],
   "source": [
    "# apply tfidf transformer and fit the bag of words into it\n",
    "\n",
    "tfidf_transformer = TfidfTransformer().fit(tweets_bag_of_words)"
   ]
  },
  {
   "cell_type": "code",
   "execution_count": 67,
   "id": "352a99c1",
   "metadata": {},
   "outputs": [
    {
     "data": {
      "text/plain": [
       "(60000, 19458)"
      ]
     },
     "execution_count": 67,
     "metadata": {},
     "output_type": "execute_result"
    }
   ],
   "source": [
    "# output the shape of tfidf\n",
    "# the shape function outuputs the number of the data by column and row\n",
    "\n",
    "tweets_tfidf = tfidf_transformer.transform(tweets_bag_of_words)\n",
    "tweets_tfidf.shape"
   ]
  },
  {
   "cell_type": "markdown",
   "id": "87090ba7",
   "metadata": {},
   "source": [
    "## Model Builidng"
   ]
  },
  {
   "cell_type": "code",
   "execution_count": 68,
   "id": "6d1f600c",
   "metadata": {},
   "outputs": [],
   "source": [
    "# importing the traintest split technique\n",
    "\n",
    "from sklearn.model_selection import train_test_split\n",
    "from sklearn.preprocessing import MinMaxScaler\n",
    "from sklearn.metrics import accuracy_score, classification_report, confusion_matrix"
   ]
  },
  {
   "cell_type": "code",
   "execution_count": 69,
   "id": "0e0ae3ee",
   "metadata": {},
   "outputs": [],
   "source": [
    "# separating the features from target classes\n",
    "# the features are the tweets and the target class is the  airline sentiment (positive or negative)\n",
    "\n",
    "X = tweets_tfidf\n",
    "y = df[\"label\"]"
   ]
  },
  {
   "cell_type": "code",
   "execution_count": 70,
   "id": "20058043",
   "metadata": {},
   "outputs": [
    {
     "name": "stdout",
     "output_type": "stream",
     "text": [
      "(48000, 19458)\n",
      "(12000, 19458)\n",
      "(48000,)\n",
      "(12000,)\n"
     ]
    }
   ],
   "source": [
    "# spliting dataset into training and testing set using the train test split technique\n",
    "# the trainset is 80% while the test set is 20% since the model needs a lot of training data to be more accurate\n",
    "# a greater training set is assigned for the model training\n",
    "\n",
    "X_train, X_test, y_train, y_test = train_test_split(X,y,test_size = 0.2, random_state = 42)\n",
    "print(X_train.shape)\n",
    "print(X_test.shape)\n",
    "print(y_train.shape)\n",
    "print(y_test.shape)"
   ]
  },
  {
   "cell_type": "markdown",
   "id": "18e18bf9",
   "metadata": {},
   "source": [
    "## Using Naive Bayes"
   ]
  },
  {
   "cell_type": "code",
   "execution_count": 71,
   "id": "21529651",
   "metadata": {},
   "outputs": [],
   "source": [
    "# initializing the algorithm i.e creating an object of the classifier\n",
    "from sklearn.naive_bayes import GaussianNB\n",
    "\n",
    "\n",
    "model = GaussianNB()"
   ]
  },
  {
   "cell_type": "code",
   "execution_count": 72,
   "id": "15104f94",
   "metadata": {},
   "outputs": [
    {
     "data": {
      "text/plain": [
       "GaussianNB()"
      ]
     },
     "execution_count": 72,
     "metadata": {},
     "output_type": "execute_result"
    }
   ],
   "source": [
    "# training the neural network algorithm with the data\n",
    "# the toarray() function converts the dataframe object the data was initially imported through into an array object\n",
    "model.fit(X_train.toarray(), y_train)"
   ]
  },
  {
   "cell_type": "code",
   "execution_count": 73,
   "id": "cc449a8c",
   "metadata": {},
   "outputs": [
    {
     "data": {
      "text/plain": [
       "array([0, 0, 0, ..., 0, 0, 0])"
      ]
     },
     "execution_count": 73,
     "metadata": {},
     "output_type": "execute_result"
    }
   ],
   "source": [
    "# predicting for rest of the dataset not used before\n",
    "# after training, the predict function will now predict/assign for values for the test set based on what the model has learned\n",
    "predictions = model.predict(X_test.toarray())\n",
    "predictions"
   ]
  },
  {
   "cell_type": "code",
   "execution_count": 74,
   "id": "bd05b3ac",
   "metadata": {},
   "outputs": [
    {
     "name": "stdout",
     "output_type": "stream",
     "text": [
      "Accuracy Score: \n",
      " 0.9970833333333333\n",
      "Classification Report: \n",
      "               precision    recall  f1-score   support\n",
      "\n",
      "           0       1.00      1.00      1.00      9996\n",
      "           1       0.98      1.00      0.99      2004\n",
      "\n",
      "    accuracy                           1.00     12000\n",
      "   macro avg       0.99      1.00      0.99     12000\n",
      "weighted avg       1.00      1.00      1.00     12000\n",
      "\n",
      "Confusion Matrix: \n",
      " [[9961   35]\n",
      " [   0 2004]]\n"
     ]
    }
   ],
   "source": [
    "# this are machine learning metrics used for evaluating the model performance\n",
    "# the accuracy score gives the score performance of the percentage of the right classifications of the model\n",
    "# the classification report gives a full report the model's (precision, recall and fmeasure)\n",
    "# the confusion matrix consist of the (true positive, false positive, true negative and false negative)\n",
    "\n",
    "print(\"Accuracy Score: \\n\", accuracy_score(y_test, predictions))\n",
    "print(\"Classification Report: \\n\", classification_report(y_test, predictions))\n",
    "print(\"Confusion Matrix: \\n\", confusion_matrix(y_test, predictions))"
   ]
  },
  {
   "cell_type": "code",
   "execution_count": 21,
   "id": "344f918a",
   "metadata": {},
   "outputs": [
    {
     "name": "stdout",
     "output_type": "stream",
     "text": [
      "predicted:  ['positive']\n",
      "Actual:  positive\n"
     ]
    }
   ],
   "source": [
    "# Check for a prediction \n",
    "\n",
    "tweet = df[\"text\"][4]\n",
    "bag_of_words_for_tweet = bag_of_words_transformer.transform([tweet])\n",
    "tfidf_transformer_for_tweet = tfidf_transformer.transform(bag_of_words_for_tweet)\n",
    "\n",
    "print(\"predicted: \", model.predict(tfidf_transformer_for_tweet[0].toarray()))\n",
    "print(\"Actual: \", df.airline_sentiment[4])"
   ]
  },
  {
   "cell_type": "code",
   "execution_count": 3,
   "id": "991ce167",
   "metadata": {},
   "outputs": [],
   "source": [
    "x = [\"kessler\", \"pangoto\", \"current\"]\n",
    "y = [84, 87, 99]"
   ]
  },
  {
   "cell_type": "code",
   "execution_count": 5,
   "id": "0e69001f",
   "metadata": {},
   "outputs": [
    {
     "data": {
      "application/vnd.plotly.v1+json": {
       "config": {
        "plotlyServerURL": "https://plot.ly"
       },
       "data": [
        {
         "alignmentgroup": "True",
         "hovertemplate": "x=%{x}<br>y=%{y}<br>color=%{marker.color}<extra></extra>",
         "legendgroup": "",
         "marker": {
          "color": [
           84,
           87,
           99
          ],
          "coloraxis": "coloraxis",
          "pattern": {
           "shape": ""
          }
         },
         "name": "",
         "offsetgroup": "",
         "orientation": "v",
         "showlegend": false,
         "textposition": "auto",
         "type": "bar",
         "x": [
          "kessler",
          "pangoto",
          "current"
         ],
         "xaxis": "x",
         "y": [
          84,
          87,
          99
         ],
         "yaxis": "y"
        }
       ],
       "layout": {
        "barmode": "relative",
        "coloraxis": {
         "colorbar": {
          "title": {
           "text": "color"
          }
         },
         "colorscale": [
          [
           0,
           "#0d0887"
          ],
          [
           0.1111111111111111,
           "#46039f"
          ],
          [
           0.2222222222222222,
           "#7201a8"
          ],
          [
           0.3333333333333333,
           "#9c179e"
          ],
          [
           0.4444444444444444,
           "#bd3786"
          ],
          [
           0.5555555555555556,
           "#d8576b"
          ],
          [
           0.6666666666666666,
           "#ed7953"
          ],
          [
           0.7777777777777778,
           "#fb9f3a"
          ],
          [
           0.8888888888888888,
           "#fdca26"
          ],
          [
           1,
           "#f0f921"
          ]
         ]
        },
        "legend": {
         "tracegroupgap": 0
        },
        "template": {
         "data": {
          "bar": [
           {
            "error_x": {
             "color": "#2a3f5f"
            },
            "error_y": {
             "color": "#2a3f5f"
            },
            "marker": {
             "line": {
              "color": "#E5ECF6",
              "width": 0.5
             },
             "pattern": {
              "fillmode": "overlay",
              "size": 10,
              "solidity": 0.2
             }
            },
            "type": "bar"
           }
          ],
          "barpolar": [
           {
            "marker": {
             "line": {
              "color": "#E5ECF6",
              "width": 0.5
             },
             "pattern": {
              "fillmode": "overlay",
              "size": 10,
              "solidity": 0.2
             }
            },
            "type": "barpolar"
           }
          ],
          "carpet": [
           {
            "aaxis": {
             "endlinecolor": "#2a3f5f",
             "gridcolor": "white",
             "linecolor": "white",
             "minorgridcolor": "white",
             "startlinecolor": "#2a3f5f"
            },
            "baxis": {
             "endlinecolor": "#2a3f5f",
             "gridcolor": "white",
             "linecolor": "white",
             "minorgridcolor": "white",
             "startlinecolor": "#2a3f5f"
            },
            "type": "carpet"
           }
          ],
          "choropleth": [
           {
            "colorbar": {
             "outlinewidth": 0,
             "ticks": ""
            },
            "type": "choropleth"
           }
          ],
          "contour": [
           {
            "colorbar": {
             "outlinewidth": 0,
             "ticks": ""
            },
            "colorscale": [
             [
              0,
              "#0d0887"
             ],
             [
              0.1111111111111111,
              "#46039f"
             ],
             [
              0.2222222222222222,
              "#7201a8"
             ],
             [
              0.3333333333333333,
              "#9c179e"
             ],
             [
              0.4444444444444444,
              "#bd3786"
             ],
             [
              0.5555555555555556,
              "#d8576b"
             ],
             [
              0.6666666666666666,
              "#ed7953"
             ],
             [
              0.7777777777777778,
              "#fb9f3a"
             ],
             [
              0.8888888888888888,
              "#fdca26"
             ],
             [
              1,
              "#f0f921"
             ]
            ],
            "type": "contour"
           }
          ],
          "contourcarpet": [
           {
            "colorbar": {
             "outlinewidth": 0,
             "ticks": ""
            },
            "type": "contourcarpet"
           }
          ],
          "heatmap": [
           {
            "colorbar": {
             "outlinewidth": 0,
             "ticks": ""
            },
            "colorscale": [
             [
              0,
              "#0d0887"
             ],
             [
              0.1111111111111111,
              "#46039f"
             ],
             [
              0.2222222222222222,
              "#7201a8"
             ],
             [
              0.3333333333333333,
              "#9c179e"
             ],
             [
              0.4444444444444444,
              "#bd3786"
             ],
             [
              0.5555555555555556,
              "#d8576b"
             ],
             [
              0.6666666666666666,
              "#ed7953"
             ],
             [
              0.7777777777777778,
              "#fb9f3a"
             ],
             [
              0.8888888888888888,
              "#fdca26"
             ],
             [
              1,
              "#f0f921"
             ]
            ],
            "type": "heatmap"
           }
          ],
          "heatmapgl": [
           {
            "colorbar": {
             "outlinewidth": 0,
             "ticks": ""
            },
            "colorscale": [
             [
              0,
              "#0d0887"
             ],
             [
              0.1111111111111111,
              "#46039f"
             ],
             [
              0.2222222222222222,
              "#7201a8"
             ],
             [
              0.3333333333333333,
              "#9c179e"
             ],
             [
              0.4444444444444444,
              "#bd3786"
             ],
             [
              0.5555555555555556,
              "#d8576b"
             ],
             [
              0.6666666666666666,
              "#ed7953"
             ],
             [
              0.7777777777777778,
              "#fb9f3a"
             ],
             [
              0.8888888888888888,
              "#fdca26"
             ],
             [
              1,
              "#f0f921"
             ]
            ],
            "type": "heatmapgl"
           }
          ],
          "histogram": [
           {
            "marker": {
             "pattern": {
              "fillmode": "overlay",
              "size": 10,
              "solidity": 0.2
             }
            },
            "type": "histogram"
           }
          ],
          "histogram2d": [
           {
            "colorbar": {
             "outlinewidth": 0,
             "ticks": ""
            },
            "colorscale": [
             [
              0,
              "#0d0887"
             ],
             [
              0.1111111111111111,
              "#46039f"
             ],
             [
              0.2222222222222222,
              "#7201a8"
             ],
             [
              0.3333333333333333,
              "#9c179e"
             ],
             [
              0.4444444444444444,
              "#bd3786"
             ],
             [
              0.5555555555555556,
              "#d8576b"
             ],
             [
              0.6666666666666666,
              "#ed7953"
             ],
             [
              0.7777777777777778,
              "#fb9f3a"
             ],
             [
              0.8888888888888888,
              "#fdca26"
             ],
             [
              1,
              "#f0f921"
             ]
            ],
            "type": "histogram2d"
           }
          ],
          "histogram2dcontour": [
           {
            "colorbar": {
             "outlinewidth": 0,
             "ticks": ""
            },
            "colorscale": [
             [
              0,
              "#0d0887"
             ],
             [
              0.1111111111111111,
              "#46039f"
             ],
             [
              0.2222222222222222,
              "#7201a8"
             ],
             [
              0.3333333333333333,
              "#9c179e"
             ],
             [
              0.4444444444444444,
              "#bd3786"
             ],
             [
              0.5555555555555556,
              "#d8576b"
             ],
             [
              0.6666666666666666,
              "#ed7953"
             ],
             [
              0.7777777777777778,
              "#fb9f3a"
             ],
             [
              0.8888888888888888,
              "#fdca26"
             ],
             [
              1,
              "#f0f921"
             ]
            ],
            "type": "histogram2dcontour"
           }
          ],
          "mesh3d": [
           {
            "colorbar": {
             "outlinewidth": 0,
             "ticks": ""
            },
            "type": "mesh3d"
           }
          ],
          "parcoords": [
           {
            "line": {
             "colorbar": {
              "outlinewidth": 0,
              "ticks": ""
             }
            },
            "type": "parcoords"
           }
          ],
          "pie": [
           {
            "automargin": true,
            "type": "pie"
           }
          ],
          "scatter": [
           {
            "fillpattern": {
             "fillmode": "overlay",
             "size": 10,
             "solidity": 0.2
            },
            "type": "scatter"
           }
          ],
          "scatter3d": [
           {
            "line": {
             "colorbar": {
              "outlinewidth": 0,
              "ticks": ""
             }
            },
            "marker": {
             "colorbar": {
              "outlinewidth": 0,
              "ticks": ""
             }
            },
            "type": "scatter3d"
           }
          ],
          "scattercarpet": [
           {
            "marker": {
             "colorbar": {
              "outlinewidth": 0,
              "ticks": ""
             }
            },
            "type": "scattercarpet"
           }
          ],
          "scattergeo": [
           {
            "marker": {
             "colorbar": {
              "outlinewidth": 0,
              "ticks": ""
             }
            },
            "type": "scattergeo"
           }
          ],
          "scattergl": [
           {
            "marker": {
             "colorbar": {
              "outlinewidth": 0,
              "ticks": ""
             }
            },
            "type": "scattergl"
           }
          ],
          "scattermapbox": [
           {
            "marker": {
             "colorbar": {
              "outlinewidth": 0,
              "ticks": ""
             }
            },
            "type": "scattermapbox"
           }
          ],
          "scatterpolar": [
           {
            "marker": {
             "colorbar": {
              "outlinewidth": 0,
              "ticks": ""
             }
            },
            "type": "scatterpolar"
           }
          ],
          "scatterpolargl": [
           {
            "marker": {
             "colorbar": {
              "outlinewidth": 0,
              "ticks": ""
             }
            },
            "type": "scatterpolargl"
           }
          ],
          "scatterternary": [
           {
            "marker": {
             "colorbar": {
              "outlinewidth": 0,
              "ticks": ""
             }
            },
            "type": "scatterternary"
           }
          ],
          "surface": [
           {
            "colorbar": {
             "outlinewidth": 0,
             "ticks": ""
            },
            "colorscale": [
             [
              0,
              "#0d0887"
             ],
             [
              0.1111111111111111,
              "#46039f"
             ],
             [
              0.2222222222222222,
              "#7201a8"
             ],
             [
              0.3333333333333333,
              "#9c179e"
             ],
             [
              0.4444444444444444,
              "#bd3786"
             ],
             [
              0.5555555555555556,
              "#d8576b"
             ],
             [
              0.6666666666666666,
              "#ed7953"
             ],
             [
              0.7777777777777778,
              "#fb9f3a"
             ],
             [
              0.8888888888888888,
              "#fdca26"
             ],
             [
              1,
              "#f0f921"
             ]
            ],
            "type": "surface"
           }
          ],
          "table": [
           {
            "cells": {
             "fill": {
              "color": "#EBF0F8"
             },
             "line": {
              "color": "white"
             }
            },
            "header": {
             "fill": {
              "color": "#C8D4E3"
             },
             "line": {
              "color": "white"
             }
            },
            "type": "table"
           }
          ]
         },
         "layout": {
          "annotationdefaults": {
           "arrowcolor": "#2a3f5f",
           "arrowhead": 0,
           "arrowwidth": 1
          },
          "autotypenumbers": "strict",
          "coloraxis": {
           "colorbar": {
            "outlinewidth": 0,
            "ticks": ""
           }
          },
          "colorscale": {
           "diverging": [
            [
             0,
             "#8e0152"
            ],
            [
             0.1,
             "#c51b7d"
            ],
            [
             0.2,
             "#de77ae"
            ],
            [
             0.3,
             "#f1b6da"
            ],
            [
             0.4,
             "#fde0ef"
            ],
            [
             0.5,
             "#f7f7f7"
            ],
            [
             0.6,
             "#e6f5d0"
            ],
            [
             0.7,
             "#b8e186"
            ],
            [
             0.8,
             "#7fbc41"
            ],
            [
             0.9,
             "#4d9221"
            ],
            [
             1,
             "#276419"
            ]
           ],
           "sequential": [
            [
             0,
             "#0d0887"
            ],
            [
             0.1111111111111111,
             "#46039f"
            ],
            [
             0.2222222222222222,
             "#7201a8"
            ],
            [
             0.3333333333333333,
             "#9c179e"
            ],
            [
             0.4444444444444444,
             "#bd3786"
            ],
            [
             0.5555555555555556,
             "#d8576b"
            ],
            [
             0.6666666666666666,
             "#ed7953"
            ],
            [
             0.7777777777777778,
             "#fb9f3a"
            ],
            [
             0.8888888888888888,
             "#fdca26"
            ],
            [
             1,
             "#f0f921"
            ]
           ],
           "sequentialminus": [
            [
             0,
             "#0d0887"
            ],
            [
             0.1111111111111111,
             "#46039f"
            ],
            [
             0.2222222222222222,
             "#7201a8"
            ],
            [
             0.3333333333333333,
             "#9c179e"
            ],
            [
             0.4444444444444444,
             "#bd3786"
            ],
            [
             0.5555555555555556,
             "#d8576b"
            ],
            [
             0.6666666666666666,
             "#ed7953"
            ],
            [
             0.7777777777777778,
             "#fb9f3a"
            ],
            [
             0.8888888888888888,
             "#fdca26"
            ],
            [
             1,
             "#f0f921"
            ]
           ]
          },
          "colorway": [
           "#636efa",
           "#EF553B",
           "#00cc96",
           "#ab63fa",
           "#FFA15A",
           "#19d3f3",
           "#FF6692",
           "#B6E880",
           "#FF97FF",
           "#FECB52"
          ],
          "font": {
           "color": "#2a3f5f"
          },
          "geo": {
           "bgcolor": "white",
           "lakecolor": "white",
           "landcolor": "#E5ECF6",
           "showlakes": true,
           "showland": true,
           "subunitcolor": "white"
          },
          "hoverlabel": {
           "align": "left"
          },
          "hovermode": "closest",
          "mapbox": {
           "style": "light"
          },
          "paper_bgcolor": "white",
          "plot_bgcolor": "#E5ECF6",
          "polar": {
           "angularaxis": {
            "gridcolor": "white",
            "linecolor": "white",
            "ticks": ""
           },
           "bgcolor": "#E5ECF6",
           "radialaxis": {
            "gridcolor": "white",
            "linecolor": "white",
            "ticks": ""
           }
          },
          "scene": {
           "xaxis": {
            "backgroundcolor": "#E5ECF6",
            "gridcolor": "white",
            "gridwidth": 2,
            "linecolor": "white",
            "showbackground": true,
            "ticks": "",
            "zerolinecolor": "white"
           },
           "yaxis": {
            "backgroundcolor": "#E5ECF6",
            "gridcolor": "white",
            "gridwidth": 2,
            "linecolor": "white",
            "showbackground": true,
            "ticks": "",
            "zerolinecolor": "white"
           },
           "zaxis": {
            "backgroundcolor": "#E5ECF6",
            "gridcolor": "white",
            "gridwidth": 2,
            "linecolor": "white",
            "showbackground": true,
            "ticks": "",
            "zerolinecolor": "white"
           }
          },
          "shapedefaults": {
           "line": {
            "color": "#2a3f5f"
           }
          },
          "ternary": {
           "aaxis": {
            "gridcolor": "white",
            "linecolor": "white",
            "ticks": ""
           },
           "baxis": {
            "gridcolor": "white",
            "linecolor": "white",
            "ticks": ""
           },
           "bgcolor": "#E5ECF6",
           "caxis": {
            "gridcolor": "white",
            "linecolor": "white",
            "ticks": ""
           }
          },
          "title": {
           "x": 0.05
          },
          "xaxis": {
           "automargin": true,
           "gridcolor": "white",
           "linecolor": "white",
           "ticks": "",
           "title": {
            "standoff": 15
           },
           "zerolinecolor": "white",
           "zerolinewidth": 2
          },
          "yaxis": {
           "automargin": true,
           "gridcolor": "white",
           "linecolor": "white",
           "ticks": "",
           "title": {
            "standoff": 15
           },
           "zerolinecolor": "white",
           "zerolinewidth": 2
          }
         }
        },
        "title": {
         "text": "Comparison of Previous Works vs Current Work"
        },
        "xaxis": {
         "anchor": "y",
         "domain": [
          0,
          1
         ],
         "title": {
          "text": "Researchers"
         }
        },
        "yaxis": {
         "anchor": "x",
         "domain": [
          0,
          1
         ],
         "title": {
          "text": "Accuracy Metrics"
         }
        }
       }
      },
      "text/html": [
       "<div>                            <div id=\"ad268560-cf91-4e58-9379-45cc4ec51e02\" class=\"plotly-graph-div\" style=\"height:525px; width:100%;\"></div>            <script type=\"text/javascript\">                require([\"plotly\"], function(Plotly) {                    window.PLOTLYENV=window.PLOTLYENV || {};                                    if (document.getElementById(\"ad268560-cf91-4e58-9379-45cc4ec51e02\")) {                    Plotly.newPlot(                        \"ad268560-cf91-4e58-9379-45cc4ec51e02\",                        [{\"alignmentgroup\":\"True\",\"hovertemplate\":\"x=%{x}<br>y=%{y}<br>color=%{marker.color}<extra></extra>\",\"legendgroup\":\"\",\"marker\":{\"color\":[84,87,99],\"coloraxis\":\"coloraxis\",\"pattern\":{\"shape\":\"\"}},\"name\":\"\",\"offsetgroup\":\"\",\"orientation\":\"v\",\"showlegend\":false,\"textposition\":\"auto\",\"x\":[\"kessler\",\"pangoto\",\"current\"],\"xaxis\":\"x\",\"y\":[84,87,99],\"yaxis\":\"y\",\"type\":\"bar\"}],                        {\"template\":{\"data\":{\"histogram2dcontour\":[{\"type\":\"histogram2dcontour\",\"colorbar\":{\"outlinewidth\":0,\"ticks\":\"\"},\"colorscale\":[[0.0,\"#0d0887\"],[0.1111111111111111,\"#46039f\"],[0.2222222222222222,\"#7201a8\"],[0.3333333333333333,\"#9c179e\"],[0.4444444444444444,\"#bd3786\"],[0.5555555555555556,\"#d8576b\"],[0.6666666666666666,\"#ed7953\"],[0.7777777777777778,\"#fb9f3a\"],[0.8888888888888888,\"#fdca26\"],[1.0,\"#f0f921\"]]}],\"choropleth\":[{\"type\":\"choropleth\",\"colorbar\":{\"outlinewidth\":0,\"ticks\":\"\"}}],\"histogram2d\":[{\"type\":\"histogram2d\",\"colorbar\":{\"outlinewidth\":0,\"ticks\":\"\"},\"colorscale\":[[0.0,\"#0d0887\"],[0.1111111111111111,\"#46039f\"],[0.2222222222222222,\"#7201a8\"],[0.3333333333333333,\"#9c179e\"],[0.4444444444444444,\"#bd3786\"],[0.5555555555555556,\"#d8576b\"],[0.6666666666666666,\"#ed7953\"],[0.7777777777777778,\"#fb9f3a\"],[0.8888888888888888,\"#fdca26\"],[1.0,\"#f0f921\"]]}],\"heatmap\":[{\"type\":\"heatmap\",\"colorbar\":{\"outlinewidth\":0,\"ticks\":\"\"},\"colorscale\":[[0.0,\"#0d0887\"],[0.1111111111111111,\"#46039f\"],[0.2222222222222222,\"#7201a8\"],[0.3333333333333333,\"#9c179e\"],[0.4444444444444444,\"#bd3786\"],[0.5555555555555556,\"#d8576b\"],[0.6666666666666666,\"#ed7953\"],[0.7777777777777778,\"#fb9f3a\"],[0.8888888888888888,\"#fdca26\"],[1.0,\"#f0f921\"]]}],\"heatmapgl\":[{\"type\":\"heatmapgl\",\"colorbar\":{\"outlinewidth\":0,\"ticks\":\"\"},\"colorscale\":[[0.0,\"#0d0887\"],[0.1111111111111111,\"#46039f\"],[0.2222222222222222,\"#7201a8\"],[0.3333333333333333,\"#9c179e\"],[0.4444444444444444,\"#bd3786\"],[0.5555555555555556,\"#d8576b\"],[0.6666666666666666,\"#ed7953\"],[0.7777777777777778,\"#fb9f3a\"],[0.8888888888888888,\"#fdca26\"],[1.0,\"#f0f921\"]]}],\"contourcarpet\":[{\"type\":\"contourcarpet\",\"colorbar\":{\"outlinewidth\":0,\"ticks\":\"\"}}],\"contour\":[{\"type\":\"contour\",\"colorbar\":{\"outlinewidth\":0,\"ticks\":\"\"},\"colorscale\":[[0.0,\"#0d0887\"],[0.1111111111111111,\"#46039f\"],[0.2222222222222222,\"#7201a8\"],[0.3333333333333333,\"#9c179e\"],[0.4444444444444444,\"#bd3786\"],[0.5555555555555556,\"#d8576b\"],[0.6666666666666666,\"#ed7953\"],[0.7777777777777778,\"#fb9f3a\"],[0.8888888888888888,\"#fdca26\"],[1.0,\"#f0f921\"]]}],\"surface\":[{\"type\":\"surface\",\"colorbar\":{\"outlinewidth\":0,\"ticks\":\"\"},\"colorscale\":[[0.0,\"#0d0887\"],[0.1111111111111111,\"#46039f\"],[0.2222222222222222,\"#7201a8\"],[0.3333333333333333,\"#9c179e\"],[0.4444444444444444,\"#bd3786\"],[0.5555555555555556,\"#d8576b\"],[0.6666666666666666,\"#ed7953\"],[0.7777777777777778,\"#fb9f3a\"],[0.8888888888888888,\"#fdca26\"],[1.0,\"#f0f921\"]]}],\"mesh3d\":[{\"type\":\"mesh3d\",\"colorbar\":{\"outlinewidth\":0,\"ticks\":\"\"}}],\"scatter\":[{\"fillpattern\":{\"fillmode\":\"overlay\",\"size\":10,\"solidity\":0.2},\"type\":\"scatter\"}],\"parcoords\":[{\"type\":\"parcoords\",\"line\":{\"colorbar\":{\"outlinewidth\":0,\"ticks\":\"\"}}}],\"scatterpolargl\":[{\"type\":\"scatterpolargl\",\"marker\":{\"colorbar\":{\"outlinewidth\":0,\"ticks\":\"\"}}}],\"bar\":[{\"error_x\":{\"color\":\"#2a3f5f\"},\"error_y\":{\"color\":\"#2a3f5f\"},\"marker\":{\"line\":{\"color\":\"#E5ECF6\",\"width\":0.5},\"pattern\":{\"fillmode\":\"overlay\",\"size\":10,\"solidity\":0.2}},\"type\":\"bar\"}],\"scattergeo\":[{\"type\":\"scattergeo\",\"marker\":{\"colorbar\":{\"outlinewidth\":0,\"ticks\":\"\"}}}],\"scatterpolar\":[{\"type\":\"scatterpolar\",\"marker\":{\"colorbar\":{\"outlinewidth\":0,\"ticks\":\"\"}}}],\"histogram\":[{\"marker\":{\"pattern\":{\"fillmode\":\"overlay\",\"size\":10,\"solidity\":0.2}},\"type\":\"histogram\"}],\"scattergl\":[{\"type\":\"scattergl\",\"marker\":{\"colorbar\":{\"outlinewidth\":0,\"ticks\":\"\"}}}],\"scatter3d\":[{\"type\":\"scatter3d\",\"line\":{\"colorbar\":{\"outlinewidth\":0,\"ticks\":\"\"}},\"marker\":{\"colorbar\":{\"outlinewidth\":0,\"ticks\":\"\"}}}],\"scattermapbox\":[{\"type\":\"scattermapbox\",\"marker\":{\"colorbar\":{\"outlinewidth\":0,\"ticks\":\"\"}}}],\"scatterternary\":[{\"type\":\"scatterternary\",\"marker\":{\"colorbar\":{\"outlinewidth\":0,\"ticks\":\"\"}}}],\"scattercarpet\":[{\"type\":\"scattercarpet\",\"marker\":{\"colorbar\":{\"outlinewidth\":0,\"ticks\":\"\"}}}],\"carpet\":[{\"aaxis\":{\"endlinecolor\":\"#2a3f5f\",\"gridcolor\":\"white\",\"linecolor\":\"white\",\"minorgridcolor\":\"white\",\"startlinecolor\":\"#2a3f5f\"},\"baxis\":{\"endlinecolor\":\"#2a3f5f\",\"gridcolor\":\"white\",\"linecolor\":\"white\",\"minorgridcolor\":\"white\",\"startlinecolor\":\"#2a3f5f\"},\"type\":\"carpet\"}],\"table\":[{\"cells\":{\"fill\":{\"color\":\"#EBF0F8\"},\"line\":{\"color\":\"white\"}},\"header\":{\"fill\":{\"color\":\"#C8D4E3\"},\"line\":{\"color\":\"white\"}},\"type\":\"table\"}],\"barpolar\":[{\"marker\":{\"line\":{\"color\":\"#E5ECF6\",\"width\":0.5},\"pattern\":{\"fillmode\":\"overlay\",\"size\":10,\"solidity\":0.2}},\"type\":\"barpolar\"}],\"pie\":[{\"automargin\":true,\"type\":\"pie\"}]},\"layout\":{\"autotypenumbers\":\"strict\",\"colorway\":[\"#636efa\",\"#EF553B\",\"#00cc96\",\"#ab63fa\",\"#FFA15A\",\"#19d3f3\",\"#FF6692\",\"#B6E880\",\"#FF97FF\",\"#FECB52\"],\"font\":{\"color\":\"#2a3f5f\"},\"hovermode\":\"closest\",\"hoverlabel\":{\"align\":\"left\"},\"paper_bgcolor\":\"white\",\"plot_bgcolor\":\"#E5ECF6\",\"polar\":{\"bgcolor\":\"#E5ECF6\",\"angularaxis\":{\"gridcolor\":\"white\",\"linecolor\":\"white\",\"ticks\":\"\"},\"radialaxis\":{\"gridcolor\":\"white\",\"linecolor\":\"white\",\"ticks\":\"\"}},\"ternary\":{\"bgcolor\":\"#E5ECF6\",\"aaxis\":{\"gridcolor\":\"white\",\"linecolor\":\"white\",\"ticks\":\"\"},\"baxis\":{\"gridcolor\":\"white\",\"linecolor\":\"white\",\"ticks\":\"\"},\"caxis\":{\"gridcolor\":\"white\",\"linecolor\":\"white\",\"ticks\":\"\"}},\"coloraxis\":{\"colorbar\":{\"outlinewidth\":0,\"ticks\":\"\"}},\"colorscale\":{\"sequential\":[[0.0,\"#0d0887\"],[0.1111111111111111,\"#46039f\"],[0.2222222222222222,\"#7201a8\"],[0.3333333333333333,\"#9c179e\"],[0.4444444444444444,\"#bd3786\"],[0.5555555555555556,\"#d8576b\"],[0.6666666666666666,\"#ed7953\"],[0.7777777777777778,\"#fb9f3a\"],[0.8888888888888888,\"#fdca26\"],[1.0,\"#f0f921\"]],\"sequentialminus\":[[0.0,\"#0d0887\"],[0.1111111111111111,\"#46039f\"],[0.2222222222222222,\"#7201a8\"],[0.3333333333333333,\"#9c179e\"],[0.4444444444444444,\"#bd3786\"],[0.5555555555555556,\"#d8576b\"],[0.6666666666666666,\"#ed7953\"],[0.7777777777777778,\"#fb9f3a\"],[0.8888888888888888,\"#fdca26\"],[1.0,\"#f0f921\"]],\"diverging\":[[0,\"#8e0152\"],[0.1,\"#c51b7d\"],[0.2,\"#de77ae\"],[0.3,\"#f1b6da\"],[0.4,\"#fde0ef\"],[0.5,\"#f7f7f7\"],[0.6,\"#e6f5d0\"],[0.7,\"#b8e186\"],[0.8,\"#7fbc41\"],[0.9,\"#4d9221\"],[1,\"#276419\"]]},\"xaxis\":{\"gridcolor\":\"white\",\"linecolor\":\"white\",\"ticks\":\"\",\"title\":{\"standoff\":15},\"zerolinecolor\":\"white\",\"automargin\":true,\"zerolinewidth\":2},\"yaxis\":{\"gridcolor\":\"white\",\"linecolor\":\"white\",\"ticks\":\"\",\"title\":{\"standoff\":15},\"zerolinecolor\":\"white\",\"automargin\":true,\"zerolinewidth\":2},\"scene\":{\"xaxis\":{\"backgroundcolor\":\"#E5ECF6\",\"gridcolor\":\"white\",\"linecolor\":\"white\",\"showbackground\":true,\"ticks\":\"\",\"zerolinecolor\":\"white\",\"gridwidth\":2},\"yaxis\":{\"backgroundcolor\":\"#E5ECF6\",\"gridcolor\":\"white\",\"linecolor\":\"white\",\"showbackground\":true,\"ticks\":\"\",\"zerolinecolor\":\"white\",\"gridwidth\":2},\"zaxis\":{\"backgroundcolor\":\"#E5ECF6\",\"gridcolor\":\"white\",\"linecolor\":\"white\",\"showbackground\":true,\"ticks\":\"\",\"zerolinecolor\":\"white\",\"gridwidth\":2}},\"shapedefaults\":{\"line\":{\"color\":\"#2a3f5f\"}},\"annotationdefaults\":{\"arrowcolor\":\"#2a3f5f\",\"arrowhead\":0,\"arrowwidth\":1},\"geo\":{\"bgcolor\":\"white\",\"landcolor\":\"#E5ECF6\",\"subunitcolor\":\"white\",\"showland\":true,\"showlakes\":true,\"lakecolor\":\"white\"},\"title\":{\"x\":0.05},\"mapbox\":{\"style\":\"light\"}}},\"xaxis\":{\"anchor\":\"y\",\"domain\":[0.0,1.0],\"title\":{\"text\":\"Researchers\"}},\"yaxis\":{\"anchor\":\"x\",\"domain\":[0.0,1.0],\"title\":{\"text\":\"Accuracy Metrics\"}},\"coloraxis\":{\"colorbar\":{\"title\":{\"text\":\"color\"}},\"colorscale\":[[0.0,\"#0d0887\"],[0.1111111111111111,\"#46039f\"],[0.2222222222222222,\"#7201a8\"],[0.3333333333333333,\"#9c179e\"],[0.4444444444444444,\"#bd3786\"],[0.5555555555555556,\"#d8576b\"],[0.6666666666666666,\"#ed7953\"],[0.7777777777777778,\"#fb9f3a\"],[0.8888888888888888,\"#fdca26\"],[1.0,\"#f0f921\"]]},\"legend\":{\"tracegroupgap\":0},\"title\":{\"text\":\"Comparison of Previous Works vs Current Work\"},\"barmode\":\"relative\"},                        {\"responsive\": true}                    ).then(function(){\n",
       "                            \n",
       "var gd = document.getElementById('ad268560-cf91-4e58-9379-45cc4ec51e02');\n",
       "var x = new MutationObserver(function (mutations, observer) {{\n",
       "        var display = window.getComputedStyle(gd).display;\n",
       "        if (!display || display === 'none') {{\n",
       "            console.log([gd, 'removed!']);\n",
       "            Plotly.purge(gd);\n",
       "            observer.disconnect();\n",
       "        }}\n",
       "}});\n",
       "\n",
       "// Listen for the removal of the full notebook cells\n",
       "var notebookContainer = gd.closest('#notebook-container');\n",
       "if (notebookContainer) {{\n",
       "    x.observe(notebookContainer, {childList: true});\n",
       "}}\n",
       "\n",
       "// Listen for the clearing of the current output cell\n",
       "var outputEl = gd.closest('.output');\n",
       "if (outputEl) {{\n",
       "    x.observe(outputEl, {childList: true});\n",
       "}}\n",
       "\n",
       "                        })                };                });            </script>        </div>"
      ]
     },
     "metadata": {},
     "output_type": "display_data"
    }
   ],
   "source": [
    "import matplotlib.pyplot as plt\n",
    "import plotly.express as px\n",
    "\n",
    "\n",
    "bar = px.bar(x = x, y = y, \n",
    "            title='Comparison of Previous Works vs Current Work', color = y)\n",
    "bar.update_layout(xaxis_title='Researchers', yaxis_title='Accuracy Metrics')\n",
    "bar.show()"
   ]
  },
  {
   "cell_type": "code",
   "execution_count": null,
   "id": "fcfe1adb",
   "metadata": {},
   "outputs": [],
   "source": []
  }
 ],
 "metadata": {
  "kernelspec": {
   "display_name": "Python 3 (ipykernel)",
   "language": "python",
   "name": "python3"
  },
  "language_info": {
   "codemirror_mode": {
    "name": "ipython",
    "version": 3
   },
   "file_extension": ".py",
   "mimetype": "text/x-python",
   "name": "python",
   "nbconvert_exporter": "python",
   "pygments_lexer": "ipython3",
   "version": "3.9.13"
  }
 },
 "nbformat": 4,
 "nbformat_minor": 5
}
